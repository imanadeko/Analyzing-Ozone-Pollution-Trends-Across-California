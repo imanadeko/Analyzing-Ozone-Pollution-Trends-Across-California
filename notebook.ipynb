{
 "cells": [
  {
   "cell_type": "code",
   "execution_count": 144,
   "id": "8987ae28",
   "metadata": {
    "trusted": true
   },
   "outputs": [
    {
     "name": "stdout",
     "output_type": "stream",
     "text": [
      "Requirement already satisfied: folium in /usr/local/python/3.12.1/lib/python3.12/site-packages (0.20.0)\n",
      "Requirement already satisfied: branca>=0.6.0 in /usr/local/python/3.12.1/lib/python3.12/site-packages (from folium) (0.8.1)\n",
      "Requirement already satisfied: jinja2>=2.9 in /home/codespace/.local/lib/python3.12/site-packages (from folium) (3.1.6)\n",
      "Requirement already satisfied: numpy in /home/codespace/.local/lib/python3.12/site-packages (from folium) (2.2.6)\n",
      "Requirement already satisfied: requests in /home/codespace/.local/lib/python3.12/site-packages (from folium) (2.32.3)\n",
      "Requirement already satisfied: xyzservices in /usr/local/python/3.12.1/lib/python3.12/site-packages (from folium) (2025.4.0)\n",
      "Requirement already satisfied: MarkupSafe>=2.0 in /home/codespace/.local/lib/python3.12/site-packages (from jinja2>=2.9->folium) (3.0.2)\n",
      "Requirement already satisfied: charset-normalizer<4,>=2 in /home/codespace/.local/lib/python3.12/site-packages (from requests->folium) (3.4.2)\n",
      "Requirement already satisfied: idna<4,>=2.5 in /home/codespace/.local/lib/python3.12/site-packages (from requests->folium) (3.10)\n",
      "Requirement already satisfied: urllib3<3,>=1.21.1 in /home/codespace/.local/lib/python3.12/site-packages (from requests->folium) (2.4.0)\n",
      "Requirement already satisfied: certifi>=2017.4.17 in /home/codespace/.local/lib/python3.12/site-packages (from requests->folium) (2025.4.26)\n"
     ]
    },
    {
     "name": "stdout",
     "output_type": "stream",
     "text": [
      "Note: you may need to restart the kernel to use updated packages.\n"
     ]
    }
   ],
   "source": [
    "pip install folium"
   ]
  },
  {
   "cell_type": "code",
   "execution_count": 145,
   "id": "7fa948ee",
   "metadata": {},
   "outputs": [],
   "source": [
    "import pandas as pd\n",
    "import numpy as np\n",
    "import matplotlib.pyplot as plt\n",
    "import seaborn as sns\n",
    "import plotly.express as px\n",
    "import folium\n",
    "from folium.plugins import HeatMap"
   ]
  },
  {
   "cell_type": "code",
   "execution_count": 146,
   "id": "bad4e8a4",
   "metadata": {},
   "outputs": [
    {
     "data": {
      "text/html": [
       "<div>\n",
       "<style scoped>\n",
       "    .dataframe tbody tr th:only-of-type {\n",
       "        vertical-align: middle;\n",
       "    }\n",
       "\n",
       "    .dataframe tbody tr th {\n",
       "        vertical-align: top;\n",
       "    }\n",
       "\n",
       "    .dataframe thead th {\n",
       "        text-align: right;\n",
       "    }\n",
       "</style>\n",
       "<table border=\"1\" class=\"dataframe\">\n",
       "  <thead>\n",
       "    <tr style=\"text-align: right;\">\n",
       "      <th></th>\n",
       "      <th>Date</th>\n",
       "      <th>Source</th>\n",
       "      <th>Site ID</th>\n",
       "      <th>POC</th>\n",
       "      <th>Daily Max 8-hour Ozone Concentration</th>\n",
       "      <th>Units</th>\n",
       "      <th>Daily AQI Value</th>\n",
       "      <th>Local Site Name</th>\n",
       "      <th>Daily Obs Count</th>\n",
       "      <th>Percent Complete</th>\n",
       "      <th>Method Code</th>\n",
       "      <th>CBSA Code</th>\n",
       "      <th>CBSA Name</th>\n",
       "      <th>County FIPS Code</th>\n",
       "      <th>County</th>\n",
       "      <th>Site Latitude</th>\n",
       "      <th>Site Longitude</th>\n",
       "    </tr>\n",
       "  </thead>\n",
       "  <tbody>\n",
       "    <tr>\n",
       "      <th>0</th>\n",
       "      <td>/2024</td>\n",
       "      <td>AQS</td>\n",
       "      <td>60010007</td>\n",
       "      <td>1</td>\n",
       "      <td>0.031</td>\n",
       "      <td>ppm</td>\n",
       "      <td>29.0</td>\n",
       "      <td>Livermore</td>\n",
       "      <td>17</td>\n",
       "      <td>100.0</td>\n",
       "      <td>47.0</td>\n",
       "      <td>41860.0</td>\n",
       "      <td>San Francisco-Oakland-Hayward, CA</td>\n",
       "      <td>1</td>\n",
       "      <td>Alameda</td>\n",
       "      <td>37.687526</td>\n",
       "      <td>-121.784217</td>\n",
       "    </tr>\n",
       "    <tr>\n",
       "      <th>1</th>\n",
       "      <td>01/02/2024</td>\n",
       "      <td>AQS</td>\n",
       "      <td>60010007</td>\n",
       "      <td>1</td>\n",
       "      <td>0.037</td>\n",
       "      <td>ppm</td>\n",
       "      <td>34.0</td>\n",
       "      <td>Livermore</td>\n",
       "      <td>17</td>\n",
       "      <td>100.0</td>\n",
       "      <td>47.0</td>\n",
       "      <td>41860.0</td>\n",
       "      <td>San Francisco-Oakland-Hayward, CA</td>\n",
       "      <td>1</td>\n",
       "      <td>Alameda</td>\n",
       "      <td>37.687526</td>\n",
       "      <td>-121.784217</td>\n",
       "    </tr>\n",
       "    <tr>\n",
       "      <th>2</th>\n",
       "      <td>/2024</td>\n",
       "      <td>AQS</td>\n",
       "      <td>60010007</td>\n",
       "      <td>1</td>\n",
       "      <td>NaN</td>\n",
       "      <td>ppm</td>\n",
       "      <td>30.0</td>\n",
       "      <td>Livermore</td>\n",
       "      <td>17</td>\n",
       "      <td>100.0</td>\n",
       "      <td>47.0</td>\n",
       "      <td>41860.0</td>\n",
       "      <td>San Francisco-Oakland-Hayward, CA</td>\n",
       "      <td>1</td>\n",
       "      <td>Alameda</td>\n",
       "      <td>37.687526</td>\n",
       "      <td>-121.784217</td>\n",
       "    </tr>\n",
       "    <tr>\n",
       "      <th>3</th>\n",
       "      <td>January 04/2024</td>\n",
       "      <td>AQS</td>\n",
       "      <td>60010007</td>\n",
       "      <td>1</td>\n",
       "      <td>0.026</td>\n",
       "      <td>ppm</td>\n",
       "      <td>24.0</td>\n",
       "      <td>Livermore</td>\n",
       "      <td>17</td>\n",
       "      <td>100.0</td>\n",
       "      <td>47.0</td>\n",
       "      <td>41860.0</td>\n",
       "      <td>San Francisco-Oakland-Hayward, CA</td>\n",
       "      <td>1</td>\n",
       "      <td>Alameda</td>\n",
       "      <td>37.687526</td>\n",
       "      <td>-121.784217</td>\n",
       "    </tr>\n",
       "    <tr>\n",
       "      <th>4</th>\n",
       "      <td>January 05/2024</td>\n",
       "      <td>AQS</td>\n",
       "      <td>60010007</td>\n",
       "      <td>1</td>\n",
       "      <td>0.027</td>\n",
       "      <td>ppm</td>\n",
       "      <td>25.0</td>\n",
       "      <td>Livermore</td>\n",
       "      <td>17</td>\n",
       "      <td>100.0</td>\n",
       "      <td>47.0</td>\n",
       "      <td>41860.0</td>\n",
       "      <td>San Francisco-Oakland-Hayward, CA</td>\n",
       "      <td>1</td>\n",
       "      <td>Alameda</td>\n",
       "      <td>37.687526</td>\n",
       "      <td>-121.784217</td>\n",
       "    </tr>\n",
       "  </tbody>\n",
       "</table>\n",
       "</div>"
      ],
      "text/plain": [
       "              Date Source   Site ID  POC  \\\n",
       "0            /2024    AQS  60010007    1   \n",
       "1       01/02/2024    AQS  60010007    1   \n",
       "2            /2024    AQS  60010007    1   \n",
       "3  January 04/2024    AQS  60010007    1   \n",
       "4  January 05/2024    AQS  60010007    1   \n",
       "\n",
       "   Daily Max 8-hour Ozone Concentration Units  Daily AQI Value  \\\n",
       "0                                 0.031   ppm             29.0   \n",
       "1                                 0.037   ppm             34.0   \n",
       "2                                   NaN   ppm             30.0   \n",
       "3                                 0.026   ppm             24.0   \n",
       "4                                 0.027   ppm             25.0   \n",
       "\n",
       "  Local Site Name  Daily Obs Count  Percent Complete  Method Code  CBSA Code  \\\n",
       "0       Livermore               17             100.0         47.0    41860.0   \n",
       "1       Livermore               17             100.0         47.0    41860.0   \n",
       "2       Livermore               17             100.0         47.0    41860.0   \n",
       "3       Livermore               17             100.0         47.0    41860.0   \n",
       "4       Livermore               17             100.0         47.0    41860.0   \n",
       "\n",
       "                           CBSA Name  County FIPS Code   County  \\\n",
       "0  San Francisco-Oakland-Hayward, CA                 1  Alameda   \n",
       "1  San Francisco-Oakland-Hayward, CA                 1  Alameda   \n",
       "2  San Francisco-Oakland-Hayward, CA                 1  Alameda   \n",
       "3  San Francisco-Oakland-Hayward, CA                 1  Alameda   \n",
       "4  San Francisco-Oakland-Hayward, CA                 1  Alameda   \n",
       "\n",
       "   Site Latitude  Site Longitude  \n",
       "0      37.687526     -121.784217  \n",
       "1      37.687526     -121.784217  \n",
       "2      37.687526     -121.784217  \n",
       "3      37.687526     -121.784217  \n",
       "4      37.687526     -121.784217  "
      ]
     },
     "execution_count": 146,
     "metadata": {},
     "output_type": "execute_result"
    }
   ],
   "source": [
    "# Read in data\n",
    "df = pd.read_csv(\"/workspaces/Analyzing-Ozone-Pollution-Trends-Across-California/ozone.csv\")\n",
    "df.head()"
   ]
  },
  {
   "cell_type": "markdown",
   "id": "af98986e",
   "metadata": {},
   "source": [
    "## Data Cleaning"
   ]
  },
  {
   "cell_type": "code",
   "execution_count": 147,
   "id": "9dfb75cf",
   "metadata": {},
   "outputs": [
    {
     "name": "stdout",
     "output_type": "stream",
     "text": [
      "<class 'pandas.core.frame.DataFrame'>\n",
      "RangeIndex: 54759 entries, 0 to 54758\n",
      "Data columns (total 17 columns):\n",
      " #   Column                                Non-Null Count  Dtype  \n",
      "---  ------                                --------------  -----  \n",
      " 0   Date                                  54759 non-null  object \n",
      " 1   Source                                54759 non-null  object \n",
      " 2   Site ID                               54759 non-null  int64  \n",
      " 3   POC                                   54759 non-null  int64  \n",
      " 4   Daily Max 8-hour Ozone Concentration  52021 non-null  float64\n",
      " 5   Units                                 54759 non-null  object \n",
      " 6   Daily AQI Value                       52021 non-null  float64\n",
      " 7   Local Site Name                       54759 non-null  object \n",
      " 8   Daily Obs Count                       54759 non-null  int64  \n",
      " 9   Percent Complete                      54759 non-null  float64\n",
      " 10  Method Code                           48269 non-null  float64\n",
      " 11  CBSA Code                             52351 non-null  float64\n",
      " 12  CBSA Name                             52351 non-null  object \n",
      " 13  County FIPS Code                      54759 non-null  int64  \n",
      " 14  County                                54759 non-null  object \n",
      " 15  Site Latitude                         54759 non-null  float64\n",
      " 16  Site Longitude                        54759 non-null  float64\n",
      "dtypes: float64(7), int64(4), object(6)\n",
      "memory usage: 7.1+ MB\n"
     ]
    }
   ],
   "source": [
    "df.info()"
   ]
  },
  {
   "cell_type": "code",
   "execution_count": 148,
   "id": "b16729da",
   "metadata": {},
   "outputs": [],
   "source": [
    "# Check for duplicates\n",
    "df.duplicated().sum()       # 266 duplicate rows\n",
    "\n",
    "# Drop duplicates\n",
    "df = df.drop_duplicates()\n"
   ]
  },
  {
   "cell_type": "markdown",
   "id": "a7816e7f",
   "metadata": {},
   "source": [
    "### Cleaning the date column\n",
    "\n",
    "Upon examining the date column, I found out that the date is in the format mm/dd/yyy. Though, some dates had their month part in full while some had them in digits.\n",
    "\n",
    "Also, some of the entries in the column are incomplete like thus: \"/2024\". I will remove those instances before converting the column to a date data type. \n",
    "\n",
    "Converting the column will ensure a consistent format in the column."
   ]
  },
  {
   "cell_type": "code",
   "execution_count": 149,
   "id": "0db434b5",
   "metadata": {},
   "outputs": [],
   "source": [
    "# Removing instances of incomplete date\n",
    "df = df[df['Date'].str.len() >= 10]\n",
    "\n",
    "# Converting to date time data type\n",
    "df['Date'] = pd.to_datetime(df['Date'], format='mixed')"
   ]
  },
  {
   "cell_type": "code",
   "execution_count": 150,
   "id": "597a0078",
   "metadata": {},
   "outputs": [
    {
     "data": {
      "text/plain": [
       "Date                                       0\n",
       "Source                                     0\n",
       "Site ID                                    0\n",
       "POC                                        0\n",
       "Daily Max 8-hour Ozone Concentration    2251\n",
       "Units                                      0\n",
       "Daily AQI Value                         2321\n",
       "Local Site Name                            0\n",
       "Daily Obs Count                            0\n",
       "Percent Complete                           0\n",
       "Method Code                             5422\n",
       "CBSA Code                               1988\n",
       "CBSA Name                               1988\n",
       "County FIPS Code                           0\n",
       "County                                     0\n",
       "Site Latitude                              0\n",
       "Site Longitude                             0\n",
       "dtype: int64"
      ]
     },
     "execution_count": 150,
     "metadata": {},
     "output_type": "execute_result"
    }
   ],
   "source": [
    "# Checking for number of nulls\n",
    "df.isna().sum()"
   ]
  },
  {
   "cell_type": "code",
   "execution_count": 151,
   "id": "93a3074e",
   "metadata": {},
   "outputs": [],
   "source": [
    "# Dropping nulls in ozone conc.\n",
    "df = df.dropna(subset=['Daily Max 8-hour Ozone Concentration'])\n",
    "\n",
    "# Replace null values in Method Code with Unknown\n",
    "df['Method Code'] = (\n",
    "    df['Method Code']\n",
    "      .fillna('Unknown')\n",
    "      .astype(str)\n",
    ")"
   ]
  },
  {
   "cell_type": "code",
   "execution_count": 152,
   "id": "4b9157db",
   "metadata": {},
   "outputs": [
    {
     "data": {
      "image/png": "[encoded data removed]",
      "text/plain": [
       "<Figure size 640x480 with 1 Axes>"
      ]
     },
     "metadata": {},
     "output_type": "display_data"
    }
   ],
   "source": [
    "# Checking Daily AQI Value\n",
    "# Plotting in a boxplot to check for outliers\n",
    "sns.boxplot(data=df,\n",
    "            x='Daily AQI Value')\n",
    "plt.title('Distribution of Daily AQI Value');"
   ]
  },
  {
   "cell_type": "code",
   "execution_count": 153,
   "id": "dd5efa75",
   "metadata": {},
   "outputs": [
    {
     "data": {
      "image/png": "[encoded data removed]",
      "text/plain": [
       "<Figure size 640x480 with 1 Axes>"
      ]
     },
     "metadata": {},
     "output_type": "display_data"
    }
   ],
   "source": [
    "# Plotting daily obs count with a boxplot to check for outliers\n",
    "sns.boxplot(data=df,\n",
    "            x='Daily Obs Count')\n",
    "plt.title('Distribution of Daily Obs Count: Before outlier removal');"
   ]
  },
  {
   "cell_type": "code",
   "execution_count": 154,
   "id": "5a46743a",
   "metadata": {},
   "outputs": [
    {
     "data": {
      "image/png": "[encoded data removed]",
      "text/plain": [
       "<Figure size 640x480 with 1 Axes>"
      ]
     },
     "metadata": {},
     "output_type": "display_data"
    }
   ],
   "source": [
    "# Remove outlier at 1000 and replot\n",
    "df = df[df['Daily Obs Count'] < 200]\n",
    "sns.boxplot(data=df,\n",
    "            x='Daily Obs Count')\n",
    "plt.title('Distribution of Daily Obs Count: After outlier removal');"
   ]
  },
  {
   "cell_type": "markdown",
   "id": "4cb7f05d",
   "metadata": {},
   "source": [
    "The County column had both “Los Angeles” and “LA”, and “San Francisco” and “SF”. I changed “LA” to “Los Angeles” and “SF” to “San Francisco” so every entry matches."
   ]
  },
  {
   "cell_type": "code",
   "execution_count": 155,
   "id": "bfbb3ac2",
   "metadata": {},
   "outputs": [],
   "source": [
    "# Standardize the county column\n",
    "df['County'] = df['County'].str.replace('LA', 'Los Angeles')\n",
    "df['County'] = df['County'].str.replace('SF', 'San Francisco')"
   ]
  },
  {
   "cell_type": "markdown",
   "id": "bff5c7c4",
   "metadata": {},
   "source": [
    "### How does daily maximum 8-hour ozone concentration vary over time?\n",
    "\n",
    "Since the dataset records multiple daily ozone concentration values for different collection method and site, I aggregated over the date and found the average ozone concentration across all sites and collection method.\n",
    "\n",
    "To reduce the noise on the chart, I resampled by month and found the average ozone reading"
   ]
  },
  {
   "cell_type": "markdown",
   "id": "9e47cf39",
   "metadata": {},
   "source": [
    "In order to reduce the noise on the graph, I showed monthly average ozone reading."
   ]
  },
  {
   "cell_type": "code",
   "execution_count": 156,
   "id": "ba5e1d8a",
   "metadata": {},
   "outputs": [
    {
     "data": {
      "image/png": "[encoded data removed]",
      "text/plain": [
       "<Figure size 640x480 with 1 Axes>"
      ]
     },
     "metadata": {},
     "output_type": "display_data"
    }
   ],
   "source": [
    "monthly_avg = (\n",
    "    df.set_index('Date')\n",
    "    .resample(\"ME\")['Daily Max 8-hour Ozone Concentration']  # Month-End\n",
    "    .mean()\n",
    "    .reset_index()\n",
    "    .assign(Month=lambda d: d[\"Date\"].dt.strftime(\"%b\"))  # Get month name\n",
    "    .drop(columns=\"Date\")\n",
    "    .rename(columns={\"Daily Max 8-hour Ozone Concentration\": \"Avg Ozone Reading (ppm)\"})\n",
    ")\n",
    "\n",
    "sns.lineplot(\n",
    "    data=monthly_avg,\n",
    "    x='Month',\n",
    "    y='Avg Ozone Reading (ppm)'\n",
    ")\n",
    "plt.title(\"Average Monthly Ozone Reading\");"
   ]
  },
  {
   "cell_type": "markdown",
   "id": "fb940295",
   "metadata": {},
   "source": [
    "Ozone levels hit their highest in June, July, and August, which are summer months. Ozone forms when sunlight reacts with pollution from cars and factories. Because summer brings longer, sunnier days, more ozone gets produced."
   ]
  },
  {
   "cell_type": "markdown",
   "id": "da7d6827",
   "metadata": {},
   "source": [
    "### How does daily maximum 8-hour ozone concentration vary over regions?"
   ]
  },
  {
   "cell_type": "code",
   "execution_count": 157,
   "id": "f28d334b",
   "metadata": {},
   "outputs": [
    {
     "data": {
      "image/png": "[encoded data removed]",
      "text/plain": [
       "<Figure size 640x480 with 1 Axes>"
      ]
     },
     "metadata": {},
     "output_type": "display_data"
    }
   ],
   "source": [
    "# Top 5 Counties with the highest average ozone reading\n",
    "top_5 = df.groupby('County')\\\n",
    "    .agg(Avg_Ozone_Reading=('Daily Max 8-hour Ozone Concentration', 'mean'))\\\n",
    "        .reset_index()\\\n",
    "            .sort_values('Avg_Ozone_Reading')\\\n",
    "                .tail()\n",
    "top_5.plot(x='County',\n",
    "           y='Avg_Ozone_Reading',\n",
    "           kind='barh',\n",
    "           legend=False\n",
    "        )\n",
    "plt.title('These 5 counties had the highest average ozone reading')\n",
    "plt.xlabel('Avg Ozone Reading (ppm)');"
   ]
  },
  {
   "cell_type": "code",
   "execution_count": 158,
   "id": "ca91f979",
   "metadata": {},
   "outputs": [
    {
     "data": {
      "image/png": "[encoded data removed]",
      "text/plain": [
       "<Figure size 640x480 with 1 Axes>"
      ]
     },
     "metadata": {},
     "output_type": "display_data"
    }
   ],
   "source": [
    "# Bottom 5 Counties with the least average ozone reading\n",
    "bottom_5 = df.groupby('County')\\\n",
    "    .agg(Avg_Ozone_Reading=('Daily Max 8-hour Ozone Concentration', 'mean'))\\\n",
    "        .reset_index()\\\n",
    "            .sort_values('Avg_Ozone_Reading')\\\n",
    "                .head()\n",
    "bottom_5.plot(x='County',\n",
    "              y='Avg_Ozone_Reading',\n",
    "              kind='barh',\n",
    "              legend=False)\n",
    "plt.title('These 5 counties had the lowest average ozone reading')\n",
    "plt.xlabel('Avg Ozone Reading (ppm)');\n",
    "        "
   ]
  },
  {
   "cell_type": "markdown",
   "id": "04c78176",
   "metadata": {},
   "source": [
    "Compared to the overall average ozone level of California, 0.04 ppm, some counties had much higher or lower readings.\n",
    "\n",
    "- San Bernardino, Riverside, Tulare, Imperial, and Kern had the highest ozone levels, with averages of 0.05 ppm or more.\n",
    "\n",
    "- On the other hand, Humboldt, San Mateo, Alameda, Sonoma, and San Francisco had the lowest ozone levels, averaging 0.03 ppm or less."
   ]
  },
  {
   "cell_type": "code",
   "execution_count": 159,
   "id": "2048cc61",
   "metadata": {},
   "outputs": [
    {
     "data": {
      "application/vnd.plotly.v1+json": {
       "config": {
        "plotlyServerURL": "https://plot.ly"
       },
       "data": [
        {
         "customdata": [
          [
           "Alameda",
           60010007,
           "Livermore",
           0.029222222222222222
          ],
          [
           "Alameda",
           60010009,
           "Oakland",
           0.03080708661417323
          ],
          [
           "Alameda",
           60010011,
           "Oakland West",
           0.029968858131487888
          ],
          [
           "Alameda",
           60010013,
           "Berkeley- Aquatic Park",
           0.025284946236559143
          ],
          [
           "Alameda",
           60010016,
           "Livermore Portola",
           0.03775471698113208
          ],
          [
           "Alameda",
           60012001,
           "Hayward",
           0.03578735632183908
          ],
          [
           "Amador",
           60050002,
           "Jackson-Clinton Road",
           0.04376736111111111
          ],
          [
           "Butte",
           60070008,
           "Chico-East Avenue",
           0.0427923875432526
          ],
          [
           "Butte",
           60072003,
           "Paradise-Clark",
           0.043293233082706765
          ],
          [
           "Calaveras",
           60090001,
           "San Andreas-Gold Strike Road",
           0.043555147058823525
          ],
          [
           "Colusa",
           60111002,
           "Colusa-Sunrise Blvd",
           0.0399859649122807
          ],
          [
           "Contra Costa",
           60130002,
           "Concord",
           0.03375438596491228
          ],
          [
           "Contra Costa",
           60131002,
           "Bethel Island",
           0.038922727272727276
          ],
          [
           "Contra Costa",
           60131004,
           "San Pablo",
           0.031209523809523812
          ],
          [
           "Contra Costa",
           60132007,
           "San Ramon",
           0.037029850746268654
          ],
          [
           "El Dorado",
           60170012,
           "Echo Summit",
           0.052115107913669065
          ],
          [
           "El Dorado",
           60170020,
           "Cool",
           0.05174850299401197
          ],
          [
           "El Dorado",
           60172004,
           "PLACERVILLE- CANAL STREET",
           0.04334470989761092
          ],
          [
           "Fresno",
           60190007,
           "Fresno-Drummond",
           0.045118466898954705
          ],
          [
           "Fresno",
           60190011,
           "Fresno - Garland",
           0.03986909090909091
          ],
          [
           "Fresno",
           60190242,
           "Fresno-Sky Park",
           0.04548745519713262
          ],
          [
           "Fresno",
           60190500,
           "Table Mountain Air Monitoring Site",
           0.05027430555555555
          ],
          [
           "Fresno",
           60192009,
           "Tranquillity",
           0.04177007299270073
          ],
          [
           "Fresno",
           60194001,
           "Parlier",
           0.048744604316546765
          ],
          [
           "Fresno",
           60195001,
           "Clovis-Villa",
           0.04843661971830986
          ],
          [
           "Glenn",
           60210003,
           "Willows-Colusa Street",
           0.03948754448398577
          ],
          [
           "Humboldt",
           60231004,
           "Jacobs",
           0.032011406844106464
          ],
          [
           "Imperial",
           60250005,
           "Calexico-Ethel Street",
           0.05023389830508475
          ],
          [
           "Imperial",
           60251003,
           "El Centro-9th Street",
           0.05068095238095238
          ],
          [
           "Imperial",
           60254003,
           "Westmorland",
           0.048413194444444446
          ],
          [
           "Imperial",
           60254004,
           "Niland-English Road",
           0.05149723756906077
          ],
          [
           "Inyo",
           60270002,
           "WMRC/NCORE",
           0.043522336769759445
          ],
          [
           "Inyo",
           60270101,
           "Death Valley NP - Park Village",
           0.050508833922261485
          ],
          [
           "Inyo",
           60271023,
           "Bishop Tribe EMO",
           0.039699551569506726
          ],
          [
           "Kern",
           60290007,
           "Edison",
           0.05292418772563177
          ],
          [
           "Kern",
           60290008,
           "Maricopa",
           0.04675789473684211
          ],
          [
           "Kern",
           60290014,
           "Bakersfield-California",
           0.048112676056338025
          ],
          [
           "Kern",
           60290020,
           "Mojave-Pat Avenue",
           0.05053571428571429
          ],
          [
           "Kern",
           60290232,
           "Oildale",
           0.049975
          ],
          [
           "Kern",
           60292012,
           "Bakersfield-Muni",
           0.04674621212121212
          ],
          [
           "Kern",
           60295002,
           "Arvin-Di Giorgio",
           0.051054263565891475
          ],
          [
           "Kern",
           60296001,
           "Shafter",
           0.04616666666666667
          ],
          [
           "Kings",
           60311004,
           "Hanford-Irwin",
           0.04551320754716981
          ],
          [
           "Lake",
           60333002,
           "Lakeport-S. Main Street",
           0.03454063604240283
          ],
          [
           "Los Angeles",
           60370016,
           "Glendora",
           0.056492592592592594
          ],
          [
           "Los Angeles",
           60370113,
           "West Los Angeles",
           0.04025287356321839
          ],
          [
           "Los Angeles",
           60371103,
           "Los Angeles-North Main Street",
           0.04391489361702128
          ],
          [
           "Los Angeles",
           60371201,
           "Reseda",
           0.05122614840989399
          ],
          [
           "Los Angeles",
           60371302,
           "Compton",
           0.041014440433213
          ],
          [
           "Los Angeles",
           60371602,
           "Pico Rivera #2",
           0.045503649635036496
          ],
          [
           "Los Angeles",
           60371701,
           "Pomona",
           0.0519288256227758
          ],
          [
           "Los Angeles",
           60372005,
           "Pasadena",
           0.05129304029304029
          ],
          [
           "Los Angeles",
           60374009,
           "Signal Hill (LBSH)",
           0.03977419354838709
          ],
          [
           "Los Angeles",
           60374010,
           "North Hollywood (NOHO)",
           0.05021276595744681
          ],
          [
           "Los Angeles",
           60376012,
           "Santa Clarita",
           0.056546075085324235
          ],
          [
           "Los Angeles",
           60379035,
           "Lancaster - Fairgrounds",
           0.05328813559322034
          ],
          [
           "Madera",
           60390004,
           "Madera-Pump Yard",
           0.04497535211267605
          ],
          [
           "Madera",
           60392010,
           "Madera-City",
           0.04543877551020408
          ],
          [
           "Marin",
           60410001,
           "San Rafael",
           0.03213937282229965
          ],
          [
           "Mariposa",
           60430003,
           "Yosemite NP",
           0.048625429553264606
          ],
          [
           "Mariposa",
           60430006,
           "Jerseydale",
           0.04730538922155689
          ],
          [
           "Mendocino",
           60450008,
           "Ukiah-Gobbi Street",
           0.033219424460431655
          ],
          [
           "Mendocino",
           60450011,
           "Ukiah-Municipal Airport",
           0.03021212121212121
          ],
          [
           "Merced",
           60470003,
           "Merced-Coffee",
           0.025833333333333333
          ],
          [
           "Merced",
           60472024,
           "Merced-Vierra",
           0.047136690647482014
          ],
          [
           "Monterey",
           60530002,
           "Carmel Valley",
           0.03401038062283737
          ],
          [
           "Monterey",
           60530008,
           "King City 2",
           0.037722033898305085
          ],
          [
           "Monterey",
           60531003,
           "Salinas 3",
           0.03455639097744361
          ],
          [
           "Nevada",
           60570005,
           "Grass Valley-Litton Building",
           0.043007017543859646
          ],
          [
           "Orange",
           60590007,
           "Anaheim",
           0.03719655172413793
          ],
          [
           "Orange",
           60595001,
           "La Habra",
           0.04538078291814947
          ],
          [
           "Placer",
           60610003,
           "Auburn-Atwood",
           0.0448122866894198
          ],
          [
           "Placer",
           60610004,
           "Colfax-City Hall",
           0.04300359712230216
          ],
          [
           "Placer",
           60610006,
           "Roseville-N Sunrise Ave",
           0.043838129496402874
          ],
          [
           "Placer",
           60611004,
           "Tahoe City-Fairway Drive",
           0.04469611307420494
          ],
          [
           "Placer",
           60612003,
           "Lincoln-2885 Moore Road",
           0.03767368421052632
          ],
          [
           "Riverside",
           60650009,
           "Pechanga",
           0.0491685393258427
          ],
          [
           "Riverside",
           60650010,
           "Joshua Tree NP - Cottonwood Visitor Center",
           0.05019272727272728
          ],
          [
           "Riverside",
           60650012,
           "Banning Airport",
           0.056641638225255975
          ],
          [
           "Riverside",
           60650016,
           "Temecula",
           0.047815972222222225
          ],
          [
           "Riverside",
           60651016,
           "Morongo Air Monitoring Station",
           0.05863888888888889
          ],
          [
           "Riverside",
           60652007,
           "Indio Amistad High School",
           0.051923875432525954
          ],
          [
           "Riverside",
           60655001,
           "Palm Springs",
           0.05448965517241379
          ],
          [
           "Riverside",
           60658001,
           "Rubidoux",
           0.058118644067796606
          ],
          [
           "Riverside",
           60658005,
           "Mira Loma (Van Buren)",
           0.055399317406143345
          ],
          [
           "Riverside",
           60659001,
           "Lake Elsinore",
           0.0520140350877193
          ],
          [
           "Riverside",
           60659003,
           "Blythe-445 W Murphy Street",
           0.0405171102661597
          ],
          [
           "Sacramento",
           60670006,
           "Sacramento-Del Paso Manor",
           0.0449409594095941
          ],
          [
           "Sacramento",
           60670010,
           "Sacramento-1309 T Street",
           0.040125
          ],
          [
           "Sacramento",
           60670011,
           "Elk Grove-Bruceville",
           0.026799242424242423
          ],
          [
           "Sacramento",
           60670012,
           "Folsom-Natoma St.",
           0.036896296296296295
          ],
          [
           "Sacramento",
           60675003,
           "Sloughhouse",
           0.03588214285714286
          ],
          [
           "San Benito",
           60690002,
           "Hollister",
           0.036650735294117644
          ],
          [
           "San Benito",
           60690003,
           "Pinnacles NP",
           0.04265248226950355
          ],
          [
           "San Bernardino",
           60710001,
           "Barstow",
           0.05177133105802048
          ],
          [
           "San Bernardino",
           60710005,
           "Crestline",
           0.05971527777777778
          ],
          [
           "San Bernardino",
           60710306,
           "Victorville-Park Avenue",
           0.054855670103092787
          ],
          [
           "San Bernardino",
           60711234,
           "Trona - Athol/Telescope #2",
           0.04911832061068702
          ],
          [
           "San Bernardino",
           60712002,
           "Fontana",
           0.05405882352941176
          ],
          [
           "San Bernardino",
           60714001,
           "Hesperia-Olive Street",
           0.05531578947368421
          ],
          [
           "San Bernardino",
           60714003,
           "Redlands",
           0.059052631578947364
          ],
          [
           "San Bernardino",
           60719002,
           "Joshua Tree NP",
           0.05555147058823529
          ],
          [
           "San Bernardino",
           60719004,
           "San Bernardino",
           0.05788652482269504
          ],
          [
           "San Diego",
           60730001,
           "Chula Vista",
           0.0431859649122807
          ],
          [
           "San Diego",
           60731006,
           "Alpine",
           0.05381978798586572
          ],
          [
           "San Diego",
           60731008,
           "Camp Pendleton",
           0.04245692883895131
          ],
          [
           "San Diego",
           60731014,
           "Donovan",
           0.046159010600706714
          ],
          [
           "San Diego",
           60731016,
           "San Diego - Kearny Villa Rd.",
           0.04531095406360424
          ],
          [
           "San Diego",
           60731022,
           "El Cajon - Lexington Elementary School",
           0.048053191489361706
          ],
          [
           "San Diego",
           60731026,
           "San Diego - Sherman Elementary School",
           0.041183673469387755
          ],
          [
           "San Diego",
           60731201,
           "Pala Airpad",
           0.031163701067615658
          ],
          [
           "San Diego",
           60739991,
           "La Posta Band of Indians",
           0.05128174603174603
          ],
          [
           "San Francisco",
           60750005,
           "San Francisco",
           0.028128301886792453
          ],
          [
           "San Joaquin",
           60771003,
           "Stockton - University Park",
           0.037875
          ],
          [
           "San Joaquin",
           60773005,
           "Tracy-Airport",
           0.038660516605166055
          ],
          [
           "San Luis Obispo",
           60790005,
           "Paso Robles",
           0.03898239436619718
          ],
          [
           "San Luis Obispo",
           60793003,
           "Morro Bay Kings Ave",
           0.03502877697841726
          ],
          [
           "San Luis Obispo",
           60794002,
           "Nipomo Regional Park (NRP)",
           0.03545787545787546
          ],
          [
           "San Luis Obispo",
           60798002,
           "Atascadero",
           0.037295774647887324
          ],
          [
           "San Luis Obispo",
           60798005,
           "Red Hills",
           0.04770629370629371
          ],
          [
           "San Luis Obispo",
           60798006,
           "Carrizo Plains",
           0.04552397260273972
          ],
          [
           "San Mateo",
           60811001,
           "Redwood City",
           0.031751824817518245
          ],
          [
           "Santa Barbara",
           60830011,
           "Santa Barbara",
           0.03087279151943463
          ],
          [
           "Santa Barbara",
           60831009,
           "Santa Maria",
           0.03249819494584838
          ],
          [
           "Santa Barbara",
           60831013,
           "Lompoc HSP",
           0.03128571428571429
          ],
          [
           "Santa Barbara",
           60831014,
           "Paradise Road",
           0.04261904761904762
          ],
          [
           "Santa Barbara",
           60831021,
           "Carpinteria",
           0.02081785714285714
          ],
          [
           "Santa Barbara",
           60831025,
           "Los Flores Canyon #1",
           0.03735036496350365
          ],
          [
           "Santa Barbara",
           60832004,
           "Lompoc H Street",
           0.03423046875
          ],
          [
           "Santa Barbara",
           60832011,
           "Goleta",
           0.034494584837545125
          ],
          [
           "Santa Barbara",
           60833001,
           "Santa Ynez",
           0.03635483870967742
          ],
          [
           "Santa Clara",
           60850002,
           "Gilroy",
           0.035781553398058254
          ],
          [
           "Santa Clara",
           60850005,
           "San Jose - Jackson",
           0.034855555555555556
          ],
          [
           "Santa Clara",
           60851001,
           "Los Gatos",
           0.03764754098360656
          ],
          [
           "Santa Clara",
           60852006,
           "San Martin",
           0.04052348993288591
          ],
          [
           "Santa Cruz",
           60870007,
           "Santa Cruz",
           0.034273972602739726
          ],
          [
           "Shasta",
           60890004,
           "Redding - Health Department",
           0.04111787072243346
          ],
          [
           "Shasta",
           60890009,
           "Shasta Lake - Lake Blvd",
           0.04139426523297491
          ],
          [
           "Shasta",
           60893003,
           "Lassen Volcanic NP",
           0.044023923444976076
          ],
          [
           "Siskiyou",
           60932001,
           "Yreka",
           0.040294964028776976
          ],
          [
           "Solano",
           60950004,
           "Vallejo",
           0.03478423236514523
          ],
          [
           "Solano",
           60950005,
           "Fairfield",
           0.03415525114155251
          ],
          [
           "Solano",
           60953003,
           "Vacaville-Ulatis Drive",
           0.03812671232876712
          ],
          [
           "Sonoma",
           60970004,
           "Sebastopol",
           0.030186046511627908
          ],
          [
           "Stanislaus",
           60990005,
           "Modesto-14th Street",
           0.042412186379928316
          ],
          [
           "Stanislaus",
           60990006,
           "Turlock",
           0.04615107913669065
          ],
          [
           "Sutter",
           61010003,
           "Yuba City",
           0.04115384615384615
          ],
          [
           "Sutter",
           61010004,
           "Sutter Buttes (seasonal)",
           0.05201149425287357
          ],
          [
           "Tehama",
           61030004,
           "Tuscan Butte (seasonal)",
           0.05092737430167597
          ],
          [
           "Tehama",
           61030007,
           "Red Bluff-Walnut St. District Office",
           0.03353472222222222
          ],
          [
           "Tulare",
           61070006,
           "Sequoia & Kings Canyon NPs - Lower Kaweah",
           0.06058045977011495
          ],
          [
           "Tulare",
           61070009,
           "Sequoia & Kings Canyon NPs - Ash Mountain",
           0.05267910447761194
          ],
          [
           "Tulare",
           61072003,
           "Visalia-W. Ashland Avenue",
           0.04903886925795053
          ],
          [
           "Tulare",
           61072010,
           "Porterville",
           0.048871886120996445
          ],
          [
           "Tuolumne",
           61090005,
           "Sonora-Barretta Street",
           0.044023411371237456
          ],
          [
           "Ventura",
           61110007,
           "Thousand Oaks",
           0.044417910447761194
          ],
          [
           "Ventura",
           61110009,
           "Piru - Pacific",
           0.044914590747330965
          ],
          [
           "Ventura",
           61111004,
           "Ojai - East Ojai Ave",
           0.04368965517241379
          ],
          [
           "Ventura",
           61112002,
           "Simi Valley-Cochran Street",
           0.04921201413427562
          ],
          [
           "Ventura",
           61113001,
           "El Rio-Rio Mesa School #2",
           0.038341216216216216
          ],
          [
           "Yolo",
           61130004,
           "Davis-UCD Campus",
           0.0401067615658363
          ],
          [
           "Yolo",
           61131003,
           "Woodland-Gibson Road",
           0.04093189964157706
          ]
         ],
         "hovertemplate": "Site Latitude=%{lat}<br>Site Longitude=%{lon}<br>County=%{customdata[0]}<br>Site ID=%{customdata[1]}<br>Local Site Name=%{customdata[2]}<br>Avg_Ozone_Reading=%{marker.color}<extra></extra>",
         "lat": {
          "bdata": "KZMa2gDYQkCw5gDBHN9CQHszar5K6EJAPMthr7DuQkA/NV66SdhCQONV1jbF00JA6rRug9orQ0A2AvG6fuFDQCl5dY4B4UNAS1mGONYZQ0B5Xb9gN5hDQMDQI0bP90JAck2BzM4AQ0AJih9j7vpCQP9Z8+Mv30JApI0j1uJnQ0BhO+JXCnJDQHb9gt2wXUNA0xbX+ExaQkBcd/NUh2RCQKFJYkm5a0JAjnBpXRh+QkDul+pILlFCQOCgvfp4TEJAtd5vtONoQkBjKCfaVcRDQPQY7oZtY0RAyhr1EI1WQEBangd3Z2VAQFyPwvUohEBAbojxmlebQEBhGLDkKq5CQGSxTSoaQUJAjAQUgVquQkBkIqXZPKxBQMufbwuWhkFAqyFxj6WtQUCfjscMVIZBQG7A54cRuEFAB3sTQ3KqQUC77UJznZ5BQJvIt4p1wEFABirj32coQkBhcFtMbIJDQLyWkA96EkFA0T/BxYoGQUBVAGoFhghBQC/dJAaBGUFAH937tmDzQEAOnsguUQFBQOrsZHCUCEFAjLlrCfkQQUAmlDpjmOVAQDOyuQVLF0FAN/3ZjxQxQUBn8PeL2VxBQKJFtvP9bkJAn1voSgR6QkBxyXGndPxCQJ7vp8ZL20JA4UVfQZrFQkDtKqT8pJJDQHj9kwkJkENAxqNUwhOkQkBmTSzwFaVCQEFmi+qtPUJA7a844skaQkDX4mKL3VhCQGGrCZPinUNAp7OTwVHqQEA1RuuoavZAQLnCu1zEd0NATRuUhNKMQ0BrYKsEi19DQFP2vAhAlUNAYvlEjxhvQ0Dg17S0U7lAQM0R5W2l30BA5xiQvd71QECWW3dVoMpAQP7NMFrs+EBA8L+V7NjcQED+1HjpJu1AQEK/yjzy/0BAfGZ5uYj/QEAYCW05l9ZAQFHaG3xhzkBAQPZvT5BOQ0B/3lSkwkhDQC+ISE27JkNA7ZxmgXZXQ0BF2PD0Sj9DQGbCtVn1a0JAPQ/uzto9QkCRfvs6cHJBQCzUmuYdH0FAnGF2LGdBQUCzB1qBIeNBQBR5knTNDEFAfjoeM1A1QUAWpBmLpgdBQDBkdavnCEFAsnvun6cNQUCYxbKJzFBAQFtDhRPRa0BAI93PKcibQECOWItPAUpAQE5QSjFAbEBA8GBIdxBlQEBzh3gU51pAQIN+JnFprkBAoDU//tJcQEBCQL6ECuJCQMxG5/wU+0JAbw1slWDXQkDp8uZwrc5BQPPLYIxIrkFA65Cb4QaEQUAIclDCTL9BQG6LMhtk0kFAWp4Hd2etQUAwEATI0L1CQNszwVTBNkFAko6GXQFyQUAc8ZhV2FxBQD2rah1VRUFA+S49NZczQUDYqePMrz5BQFBD9hWkUUFATunBeAY5QUDQJRx6i01BQNiDSfHxf0JAh+C4jJusQkBCWmPQCZ1CQJ5+UBcpikJA+rIGbt19QkCURu2oakZEQEZeZG05WERAYhVvZB5FRECt3AvMCt1EQDhOCvMeDUNASwSqfxAdQ0DEsS5uoy1DQH0iT5KuM0NAY9F0djLSQkBZiuQrgb5CQH2PeUzDkUNAuXjuLlCaQ0BCmUaTiyFEQODzwwjhFURARZ3g4XZIQkDCL/Xzpj5CQJYhjnVxJ0JAf+3JCRMEQkD27o/3qv1CQAfRWtHmGkFAdLLUer8zQUCoUrMHWjlBQEeum1JeI0FAMevFUE4gQUBxrIvbaERDQOLkfoeiVENA",
          "dtype": "f8"
         },
         "legendgroup": "",
         "lon": {
          "bdata": "5/1/nDByXsCH3Aw34IpewOvHJvkRkl7AIorJG2CTXsClTkATYXFewF1Std0Egl7Ak40HW+wwXsA50a5CynVewFQ6WP/nZl7AJc6KqIkrXsAnvW987X9ewDeq04GsgV7Ari08LxVpXsCY9s391ZZewDQUd7zJe17AVoFaDB4CXsDfRblEN0BewOQxA5XxM17AnN7F+3HvXcAsvMtFfPFdwEpiSbn7913ASGleOyLqXcDOT3EceBhewIJV9fI74F3AnDHMCdrtXcDAPc+fNoxewGH9n8N8C1/AcOtunureXMDja88sCeRcwFnd6jnp51zAbcoV3uXiXMCoxHWMK5VdwCwRqP5BNl3A2KlP9beaXcCTOgFNhLZdwMstrYbE2V3AfNP02QHEXcDuztptF4xdwN7/xwkTwV3AoRFsXP+/XcA/qfbpeLJdwEMuWmFy0V3AZW1TPC7pXcAqHaz/c7pewOZ0WUxsdl3A98ySADWdXcB0B7EzhY5dwHwnZr0Yol3AhetRuB6NXcCq8dJNYoRdwLmNBvAWcF3ARwN4CySIXcCo/6z58YpdwFLRWPs7l13ANs07TtGhXcAbguMybotdwL1yvW2mAF7ANZvHYTACXsCCctu+R6FewNobfGEy7V3A+SzPg7v1XcB+b9Of/cxewJWIS+n0zF7AUI4CRMEbXsApIO1/gBtewD7L8+Dubl7AbApkdhZIXsDlYgys42dewFhZ2xSPQ17AmbuWkA98XcAiN8MN+HxdwI5AvK5fRl7AfygplAs9XsAFhqxu9VBewBPOPnyGCV7AOWBXk6dVXsCu9NpsrEVdwIuqX+l89FzAzSN/MPA2XcAsLSP1nkRdwKLQsu4fNV3AHFw65jwNXcDGM2jonyJdwMYzaOifWl3AOiNKe4NfXcBT6LzGLlVdwOrPfqSIplzAF56Xio1XXsAo1T4dj19ewIC6gQLvWl7ASiandoZKXsD+Cpkrg01ewGx4eqUsV17AYFlpUgpKXsCWeEDZlEFdwDPEsS5uUV3AjWK5pdVUXcDdtYR80FddwITTghd9X13AajANw0dSXcDsF+yGbUldwLubpzrkGF3Ay4KJP4pRXcCC5QgZyENdwLovZ7YrMV3ApwTEJFxZXcCfWKfK9zpdwGh4swbvR13AelbSim88XcAqUmFsIUldwAamDFTGRV3AdxVSflIXXcCQatjviZlewL2o3a8CUl7AL2mM1lFcXsBmFqHYCipewPlqR3GONV7AJxQi4BAgXsDi5H6HoipewH/7OnDODl7AFOgTeZICXsA0v5oDBI1ewJhrfuk87F3AAz0vubMbXsBQj20ZcBtewOYF2Een8l3AW5iFdk7dXcDQYb68AANewOF6FK5HHV7AaQBvgQT1XcBh/DTuzQRewDViZp/HZF7AX9BCAkZ5XsBdbcX+sn5ewIRlbOhmZl7AM1AZ/z5/XsAcmUf+YJhewIuHo4y9mV7A8Nx7uORkXsCsG++OjKhewOhOsP86j17AvLILBteEXsDU8ZiBynxewNUgzO1etF7AnFJeK6E/XsBxzLIngTVewJazfE6WZ17AZTiez4B0XsCRC87g74VewJyKVBhbkF7AWYY41sWxXcCeXinLELVdwMe6uI0G1F3AP6w3aoXDXcCPN/ktOhhewOp3YWu2t13AgJpattazXcAm5IOezc5dwALxun7Bq13ADtjV5CnJXcB9rrZif3FewM0GmWTkbl7A",
          "dtype": "f8"
         },
         "marker": {
          "color": {
           "bdata": "dSYLI27snT9KvviV5IufPwf2SgYosJ4/siarBEzkmT8fS2gVllSjPzVzBmq4UqI/vnk18axopj/INAhC4uilP8fndNiHKqY/GVdhONxMpj+jyjFXCnmkP1u4oT9BSKE/QDxqAa7toz+EsVewY/WfPxOq3JuT9aI/psI72NSuqj+q1fOfx36qP1kA7h5HMaY/j6eNh8QZpz/IziazuGmkP9Nf5rghSqc/zmRhxI29qT+uDekS42KlP0nEyoIN9ag/V+Q8Q6/MqD/G7VAgtjekP2cg/ZLMY6A/Yuq97EG4qT/gPAOS2vKpP+zkqj2dyag/AA1jjthdqj+8qiRKj0imP+PdtTtL3Kk/yVRQ539TpD8t3eUO4RirP+D3cpmm8Kc/KrpehDmiqD+XN0Yw0d+pPxE2PL1Slqk/IoOLmB7vpz/+eazQyCOqPz1R/0Yoo6c/wP3m04FNpz8qzV5sT6+hPyiJTduY7Kw/wU8MTwacpD8A7MhPA3ymPwq3PVBQOqo/bxamQNj/pD9/7w8eQUynPxL9iT9qlqo/g1wk1RRDqj/Dugd5SF2kP+wDQtd8tak/StFqbpvzrD/zf0YflUirPxdq5mQCB6c/176STcBDpz/FF19mknSgP5nVXqtu5ag/fCRDd2k4qD/LikzrIgKhP1YFMiLt754/dNpApw10mj/LkovhTCKoP2TL/wDPaaE/ABjda01Qoz+HWDsSYLGhP1bhsgsEBaY/37hbKm0Loz/qKgBlJjynP1t/lNOi8aY/3lSARpEEpj9xfQKJ83GmP1710q9o4qY/AkU1E/dJoz8YDctoniypP3BORHTcsqk/qOaJ/yEArT/AftfJVXuoP35lGpzqBa4/foK6JcSVqj+yJd9tEearP+k7Hhe6wa0/4ND1oExdrD8R/kRnlaGqP8QMC5+ovqQ/EoTUXYACpz8lBoGVQ4ukP3ErFLdCcZs/7UrfQxLkoj9w5SnsJF+iP13Y7Jriw6I/XKjh0IvWpT/0d4ebxYGqP7UUQToAk64/8ZYv2goWrD9Uj1BZCSapP0f1PB6Zras/oNl75VlSrD9Rpr+CJTyuP3Gk1wo+caw/yzH8dU2jrT/WjuOFeBymP//LjWpEjqs/mSu0Ieq8pT+xOeRhJ6KnPzcdtVP/Mqc/j5nUi22aqD9cPlzFBhalP9qDoZNg6Z8/+x4t3JlBqj/UfMhiqs2cPzEIrBxaZKM/F2rurE/Loz/rXdgZgPWjP4YVFbdK76E/rFX03ognoj/rh8iIbhijP3lVkJb1bKg/aYkGC+tOpz+O71tyxkGgPzQXpvcdnZ8/EGLxeJqjoD9W12BfrgSgP4nDa+8p0qU/6c1nvkZRlT9iGQZIlh+jPy2yne+nhqE/hl+IM0apoT83bJ72GZ2iPxUbSrP1UaI/9NljXpbYoT8/TJnaiUajPyGL9q9+v6Q/p5PdrluMoT9yaRHMZg2lP6nM1Q6hMaU/sCTgvk2Kpj9x6WShiqGkP5p62Sg9z6E/M35HDcx8oT82sxwtWIWjP/p8QEoX6Z4/pkTo0gy3pT9JZyI/HaGnP4i3q+4dEqU/AxSqJUChqj82ljEeJxOqP6Mkc452K6E/4IP66mYErz8S7NNtwfiqPw81ZGefG6k/ncIqYbwFqT9iFTKQPIqmPyyndcHxvaY/Qvu+lAv/pj+HL0eQfV6mP2jTjS5RMqk/X5t5u3Whoz82J4ya34ikP6C/paQG9aQ/",
           "dtype": "f8"
          },
          "coloraxis": "coloraxis"
         },
         "mode": "markers",
         "name": "",
         "showlegend": false,
         "subplot": "map",
         "type": "scattermap"
        }
       ],
       "layout": {
        "coloraxis": {
         "colorbar": {
          "title": {
           "text": "Avg_Ozone_Reading"
          }
         },
         "colorscale": [
          [
           0,
           "rgb(255,255,204)"
          ],
          [
           0.125,
           "rgb(255,237,160)"
          ],
          [
           0.25,
           "rgb(254,217,118)"
          ],
          [
           0.375,
           "rgb(254,178,76)"
          ],
          [
           0.5,
           "rgb(253,141,60)"
          ],
          [
           0.625,
           "rgb(252,78,42)"
          ],
          [
           0.75,
           "rgb(227,26,28)"
          ],
          [
           0.875,
           "rgb(189,0,38)"
          ],
          [
           1,
           "rgb(128,0,38)"
          ]
         ]
        },
        "height": 600,
        "legend": {
         "tracegroupgap": 0
        },
        "map": {
         "center": {
          "lat": 36.7783,
          "lon": -119.4179
         },
         "domain": {
          "x": [
           0,
           1
          ],
          "y": [
           0,
           1
          ]
         },
         "zoom": 8
        },
        "mapbox": {
         "center": {
          "lat": 36.7783,
          "lon": -119.4179
         },
         "style": "open-street-map",
         "zoom": 8
        },
        "margin": {
         "t": 60
        },
        "template": {
         "data": {
          "bar": [
           {
            "error_x": {
             "color": "#2a3f5f"
            },
            "error_y": {
             "color": "#2a3f5f"
            },
            "marker": {
             "line": {
              "color": "#E5ECF6",
              "width": 0.5
             },
             "pattern": {
              "fillmode": "overlay",
              "size": 10,
              "solidity": 0.2
             }
            },
            "type": "bar"
           }
          ],
          "barpolar": [
           {
            "marker": {
             "line": {
              "color": "#E5ECF6",
              "width": 0.5
             },
             "pattern": {
              "fillmode": "overlay",
              "size": 10,
              "solidity": 0.2
             }
            },
            "type": "barpolar"
           }
          ],
          "carpet": [
           {
            "aaxis": {
             "endlinecolor": "#2a3f5f",
             "gridcolor": "white",
             "linecolor": "white",
             "minorgridcolor": "white",
             "startlinecolor": "#2a3f5f"
            },
            "baxis": {
             "endlinecolor": "#2a3f5f",
             "gridcolor": "white",
             "linecolor": "white",
             "minorgridcolor": "white",
             "startlinecolor": "#2a3f5f"
            },
            "type": "carpet"
           }
          ],
          "choropleth": [
           {
            "colorbar": {
             "outlinewidth": 0,
             "ticks": ""
            },
            "type": "choropleth"
           }
          ],
          "contour": [
           {
            "colorbar": {
             "outlinewidth": 0,
             "ticks": ""
            },
            "colorscale": [
             [
              0,
              "#0d0887"
             ],
             [
              0.1111111111111111,
              "#46039f"
             ],
             [
              0.2222222222222222,
              "#7201a8"
             ],
             [
              0.3333333333333333,
              "#9c179e"
             ],
             [
              0.4444444444444444,
              "#bd3786"
             ],
             [
              0.5555555555555556,
              "#d8576b"
             ],
             [
              0.6666666666666666,
              "#ed7953"
             ],
             [
              0.7777777777777778,
              "#fb9f3a"
             ],
             [
              0.8888888888888888,
              "#fdca26"
             ],
             [
              1,
              "#f0f921"
             ]
            ],
            "type": "contour"
           }
          ],
          "contourcarpet": [
           {
            "colorbar": {
             "outlinewidth": 0,
             "ticks": ""
            },
            "type": "contourcarpet"
           }
          ],
          "heatmap": [
           {
            "colorbar": {
             "outlinewidth": 0,
             "ticks": ""
            },
            "colorscale": [
             [
              0,
              "#0d0887"
             ],
             [
              0.1111111111111111,
              "#46039f"
             ],
             [
              0.2222222222222222,
              "#7201a8"
             ],
             [
              0.3333333333333333,
              "#9c179e"
             ],
             [
              0.4444444444444444,
              "#bd3786"
             ],
             [
              0.5555555555555556,
              "#d8576b"
             ],
             [
              0.6666666666666666,
              "#ed7953"
             ],
             [
              0.7777777777777778,
              "#fb9f3a"
             ],
             [
              0.8888888888888888,
              "#fdca26"
             ],
             [
              1,
              "#f0f921"
             ]
            ],
            "type": "heatmap"
           }
          ],
          "histogram": [
           {
            "marker": {
             "pattern": {
              "fillmode": "overlay",
              "size": 10,
              "solidity": 0.2
             }
            },
            "type": "histogram"
           }
          ],
          "histogram2d": [
           {
            "colorbar": {
             "outlinewidth": 0,
             "ticks": ""
            },
            "colorscale": [
             [
              0,
              "#0d0887"
             ],
             [
              0.1111111111111111,
              "#46039f"
             ],
             [
              0.2222222222222222,
              "#7201a8"
             ],
             [
              0.3333333333333333,
              "#9c179e"
             ],
             [
              0.4444444444444444,
              "#bd3786"
             ],
             [
              0.5555555555555556,
              "#d8576b"
             ],
             [
              0.6666666666666666,
              "#ed7953"
             ],
             [
              0.7777777777777778,
              "#fb9f3a"
             ],
             [
              0.8888888888888888,
              "#fdca26"
             ],
             [
              1,
              "#f0f921"
             ]
            ],
            "type": "histogram2d"
           }
          ],
          "histogram2dcontour": [
           {
            "colorbar": {
             "outlinewidth": 0,
             "ticks": ""
            },
            "colorscale": [
             [
              0,
              "#0d0887"
             ],
             [
              0.1111111111111111,
              "#46039f"
             ],
             [
              0.2222222222222222,
              "#7201a8"
             ],
             [
              0.3333333333333333,
              "#9c179e"
             ],
             [
              0.4444444444444444,
              "#bd3786"
             ],
             [
              0.5555555555555556,
              "#d8576b"
             ],
             [
              0.6666666666666666,
              "#ed7953"
             ],
             [
              0.7777777777777778,
              "#fb9f3a"
             ],
             [
              0.8888888888888888,
              "#fdca26"
             ],
             [
              1,
              "#f0f921"
             ]
            ],
            "type": "histogram2dcontour"
           }
          ],
          "mesh3d": [
           {
            "colorbar": {
             "outlinewidth": 0,
             "ticks": ""
            },
            "type": "mesh3d"
           }
          ],
          "parcoords": [
           {
            "line": {
             "colorbar": {
              "outlinewidth": 0,
              "ticks": ""
             }
            },
            "type": "parcoords"
           }
          ],
          "pie": [
           {
            "automargin": true,
            "type": "pie"
           }
          ],
          "scatter": [
           {
            "fillpattern": {
             "fillmode": "overlay",
             "size": 10,
             "solidity": 0.2
            },
            "type": "scatter"
           }
          ],
          "scatter3d": [
           {
            "line": {
             "colorbar": {
              "outlinewidth": 0,
              "ticks": ""
             }
            },
            "marker": {
             "colorbar": {
              "outlinewidth": 0,
              "ticks": ""
             }
            },
            "type": "scatter3d"
           }
          ],
          "scattercarpet": [
           {
            "marker": {
             "colorbar": {
              "outlinewidth": 0,
              "ticks": ""
             }
            },
            "type": "scattercarpet"
           }
          ],
          "scattergeo": [
           {
            "marker": {
             "colorbar": {
              "outlinewidth": 0,
              "ticks": ""
             }
            },
            "type": "scattergeo"
           }
          ],
          "scattergl": [
           {
            "marker": {
             "colorbar": {
              "outlinewidth": 0,
              "ticks": ""
             }
            },
            "type": "scattergl"
           }
          ],
          "scattermap": [
           {
            "marker": {
             "colorbar": {
              "outlinewidth": 0,
              "ticks": ""
             }
            },
            "type": "scattermap"
           }
          ],
          "scattermapbox": [
           {
            "marker": {
             "colorbar": {
              "outlinewidth": 0,
              "ticks": ""
             }
            },
            "type": "scattermapbox"
           }
          ],
          "scatterpolar": [
           {
            "marker": {
             "colorbar": {
              "outlinewidth": 0,
              "ticks": ""
             }
            },
            "type": "scatterpolar"
           }
          ],
          "scatterpolargl": [
           {
            "marker": {
             "colorbar": {
              "outlinewidth": 0,
              "ticks": ""
             }
            },
            "type": "scatterpolargl"
           }
          ],
          "scatterternary": [
           {
            "marker": {
             "colorbar": {
              "outlinewidth": 0,
              "ticks": ""
             }
            },
            "type": "scatterternary"
           }
          ],
          "surface": [
           {
            "colorbar": {
             "outlinewidth": 0,
             "ticks": ""
            },
            "colorscale": [
             [
              0,
              "#0d0887"
             ],
             [
              0.1111111111111111,
              "#46039f"
             ],
             [
              0.2222222222222222,
              "#7201a8"
             ],
             [
              0.3333333333333333,
              "#9c179e"
             ],
             [
              0.4444444444444444,
              "#bd3786"
             ],
             [
              0.5555555555555556,
              "#d8576b"
             ],
             [
              0.6666666666666666,
              "#ed7953"
             ],
             [
              0.7777777777777778,
              "#fb9f3a"
             ],
             [
              0.8888888888888888,
              "#fdca26"
             ],
             [
              1,
              "#f0f921"
             ]
            ],
            "type": "surface"
           }
          ],
          "table": [
           {
            "cells": {
             "fill": {
              "color": "#EBF0F8"
             },
             "line": {
              "color": "white"
             }
            },
            "header": {
             "fill": {
              "color": "#C8D4E3"
             },
             "line": {
              "color": "white"
             }
            },
            "type": "table"
           }
          ]
         },
         "layout": {
          "annotationdefaults": {
           "arrowcolor": "#2a3f5f",
           "arrowhead": 0,
           "arrowwidth": 1
          },
          "autotypenumbers": "strict",
          "coloraxis": {
           "colorbar": {
            "outlinewidth": 0,
            "ticks": ""
           }
          },
          "colorscale": {
           "diverging": [
            [
             0,
             "#8e0152"
            ],
            [
             0.1,
             "#c51b7d"
            ],
            [
             0.2,
             "#de77ae"
            ],
            [
             0.3,
             "#f1b6da"
            ],
            [
             0.4,
             "#fde0ef"
            ],
            [
             0.5,
             "#f7f7f7"
            ],
            [
             0.6,
             "#e6f5d0"
            ],
            [
             0.7,
             "#b8e186"
            ],
            [
             0.8,
             "#7fbc41"
            ],
            [
             0.9,
             "#4d9221"
            ],
            [
             1,
             "#276419"
            ]
           ],
           "sequential": [
            [
             0,
             "#0d0887"
            ],
            [
             0.1111111111111111,
             "#46039f"
            ],
            [
             0.2222222222222222,
             "#7201a8"
            ],
            [
             0.3333333333333333,
             "#9c179e"
            ],
            [
             0.4444444444444444,
             "#bd3786"
            ],
            [
             0.5555555555555556,
             "#d8576b"
            ],
            [
             0.6666666666666666,
             "#ed7953"
            ],
            [
             0.7777777777777778,
             "#fb9f3a"
            ],
            [
             0.8888888888888888,
             "#fdca26"
            ],
            [
             1,
             "#f0f921"
            ]
           ],
           "sequentialminus": [
            [
             0,
             "#0d0887"
            ],
            [
             0.1111111111111111,
             "#46039f"
            ],
            [
             0.2222222222222222,
             "#7201a8"
            ],
            [
             0.3333333333333333,
             "#9c179e"
            ],
            [
             0.4444444444444444,
             "#bd3786"
            ],
            [
             0.5555555555555556,
             "#d8576b"
            ],
            [
             0.6666666666666666,
             "#ed7953"
            ],
            [
             0.7777777777777778,
             "#fb9f3a"
            ],
            [
             0.8888888888888888,
             "#fdca26"
            ],
            [
             1,
             "#f0f921"
            ]
           ]
          },
          "colorway": [
           "#636efa",
           "#EF553B",
           "#00cc96",
           "#ab63fa",
           "#FFA15A",
           "#19d3f3",
           "#FF6692",
           "#B6E880",
           "#FF97FF",
           "#FECB52"
          ],
          "font": {
           "color": "#2a3f5f"
          },
          "geo": {
           "bgcolor": "white",
           "lakecolor": "white",
           "landcolor": "#E5ECF6",
           "showlakes": true,
           "showland": true,
           "subunitcolor": "white"
          },
          "hoverlabel": {
           "align": "left"
          },
          "hovermode": "closest",
          "mapbox": {
           "style": "light"
          },
          "paper_bgcolor": "white",
          "plot_bgcolor": "#E5ECF6",
          "polar": {
           "angularaxis": {
            "gridcolor": "white",
            "linecolor": "white",
            "ticks": ""
           },
           "bgcolor": "#E5ECF6",
           "radialaxis": {
            "gridcolor": "white",
            "linecolor": "white",
            "ticks": ""
           }
          },
          "scene": {
           "xaxis": {
            "backgroundcolor": "#E5ECF6",
            "gridcolor": "white",
            "gridwidth": 2,
            "linecolor": "white",
            "showbackground": true,
            "ticks": "",
            "zerolinecolor": "white"
           },
           "yaxis": {
            "backgroundcolor": "#E5ECF6",
            "gridcolor": "white",
            "gridwidth": 2,
            "linecolor": "white",
            "showbackground": true,
            "ticks": "",
            "zerolinecolor": "white"
           },
           "zaxis": {
            "backgroundcolor": "#E5ECF6",
            "gridcolor": "white",
            "gridwidth": 2,
            "linecolor": "white",
            "showbackground": true,
            "ticks": "",
            "zerolinecolor": "white"
           }
          },
          "shapedefaults": {
           "line": {
            "color": "#2a3f5f"
           }
          },
          "ternary": {
           "aaxis": {
            "gridcolor": "white",
            "linecolor": "white",
            "ticks": ""
           },
           "baxis": {
            "gridcolor": "white",
            "linecolor": "white",
            "ticks": ""
           },
           "bgcolor": "#E5ECF6",
           "caxis": {
            "gridcolor": "white",
            "linecolor": "white",
            "ticks": ""
           }
          },
          "title": {
           "x": 0.05
          },
          "xaxis": {
           "automargin": true,
           "gridcolor": "white",
           "linecolor": "white",
           "ticks": "",
           "title": {
            "standoff": 15
           },
           "zerolinecolor": "white",
           "zerolinewidth": 2
          },
          "yaxis": {
           "automargin": true,
           "gridcolor": "white",
           "linecolor": "white",
           "ticks": "",
           "title": {
            "standoff": 15
           },
           "zerolinecolor": "white",
           "zerolinewidth": 2
          }
         }
        },
        "title": {
         "text": "County-by-County Average Ozone Readings in California",
         "x": 0.5
        },
        "width": 800
       }
      }
     },
     "metadata": {},
     "output_type": "display_data"
    }
   ],
   "source": [
    "# Group  by county and side\n",
    "ozone_by_region = df.groupby(['County',\n",
    "                              'Site ID',\n",
    "                              'Local Site Name',\n",
    "                              'Site Latitude',\n",
    "                              'Site Longitude'\n",
    "                            ]).agg(\n",
    "                                Avg_Ozone_Reading=(\n",
    "                                    'Daily Max 8-hour Ozone Concentration',\n",
    "                                    'mean'\n",
    "                                    )\n",
    "                                ).reset_index()\n",
    "\n",
    "fig = px.scatter_map(\n",
    "    ozone_by_region,\n",
    "    lat=\"Site Latitude\",\n",
    "    lon=\"Site Longitude\",\n",
    "    color=\"Avg_Ozone_Reading\",  # Color by ozone levels\n",
    "    color_continuous_scale=\"YlOrRd\",  # Yellow-Orange-Red: good for pollution data\n",
    "    center={\"lat\": 36.7783, \"lon\": -119.4179},  # California center\n",
    "    width=800,\n",
    "    height=600,\n",
    "    hover_data=[\n",
    "        \"County\",\n",
    "        \"Site ID\",\n",
    "        \"Local Site Name\",\n",
    "        \"Avg_Ozone_Reading\"\n",
    "    ]\n",
    ")\n",
    "\n",
    "fig.update_layout(mapbox_style=\"open-street-map\",\n",
    "                  title_text='County-by-County Average Ozone Readings in California',\n",
    "                  title_x=0.5\n",
    "                  )\n",
    "fig.show()\n"
   ]
  },
  {
   "cell_type": "markdown",
   "id": "7a3d6c38",
   "metadata": {},
   "source": [
    "Ozone levels are usually lower near the coast than farther inland.\n",
    "\n",
    "Coastal counties get clean ocean air, cooler temperatures, and more wind, so pollution doesn’t build up.\n",
    "\n",
    "Inland areas are hotter, have more pollution, and less breeze, which leads to higher ozone"
   ]
  },
  {
   "cell_type": "markdown",
   "id": "256283a5",
   "metadata": {},
   "source": [
    "### Do different methods report different ozone levels?"
   ]
  },
  {
   "cell_type": "code",
   "execution_count": 160,
   "id": "be68ee51",
   "metadata": {},
   "outputs": [
    {
     "data": {
      "image/png": "[encoded data removed]",
      "text/plain": [
       "<Figure size 1314.38x1200 with 5 Axes>"
      ]
     },
     "metadata": {},
     "output_type": "display_data"
    }
   ],
   "source": [
    "# To show difference in readings by method code of top 5 counties\n",
    "monthly = (\n",
    "    df[df['County'].isin(top_5['County'].to_list())]\n",
    "    .assign(Date=pd.to_datetime(df[\"Date\"]))  # Ensure datetime\n",
    "    .groupby([\"Date\", \"County\", \"Method Code\"])[\"Daily Max 8-hour Ozone Concentration\"]\n",
    "    .mean()\n",
    "    .reset_index(name=\"Avg_Ozone_Reading\")\n",
    "    .set_index(\"Date\")\n",
    "    .groupby([\"County\", \"Method Code\"])\n",
    "    .resample(\"ME\")  # Month-End\n",
    "    .mean()\n",
    "    .reset_index()\n",
    "    .assign(Month=lambda d: d[\"Date\"].dt.strftime(\"%b\"))  # Get month name\n",
    "    .drop(columns=\"Date\")\n",
    ")\n",
    "\n",
    "\n",
    "# Create a FacetGrid: 2 rows x 3 columns by County\n",
    "g = sns.FacetGrid(\n",
    "    data=monthly, \n",
    "    col=\"County\", \n",
    "    col_wrap=2,  \n",
    "    height=4, \n",
    "    aspect=1.5, \n",
    "    sharey=True,\n",
    "    hue='Method Code',\n",
    "    palette='tab10'\n",
    ")\n",
    "\n",
    "# Map lineplot to each subplot, colored by Method Code\n",
    "g.map_dataframe(\n",
    "    sns.lineplot, \n",
    "    x=\"Month\", \n",
    "    y=\"Avg_Ozone_Reading\"\n",
    ")\n",
    "\n",
    "# Add a single legend for the entire plot\n",
    "g.add_legend(title=\"Method Code\")\n",
    "g.fig.suptitle(\"Top 5 Counties: Monthly Ozone Readings Colored by Method Code\",\n",
    "               fontsize=16)\n",
    "g.fig.tight_layout()\n",
    "plt.show()"
   ]
  },
  {
   "cell_type": "markdown",
   "id": "ad10659a",
   "metadata": {},
   "source": [
    "Ozone readings change depending on the method used.\n",
    "\n",
    "Some counties didn't use all the methods, so their data comes from fewer sources.\n",
    "\n",
    "When the method is “Unknown,” it generally reports lower ozone levels than the named methods.\n",
    "\n",
    "This gap is biggest in Kern and San Bernardino, where the “Unknown” readings are much lower than the others."
   ]
  },
  {
   "cell_type": "markdown",
   "id": "2c368664",
   "metadata": {},
   "source": [
    "### Does urban activity (weekend vs. weekday) has any affect on ozone levels"
   ]
  },
  {
   "cell_type": "code",
   "execution_count": 161,
   "id": "1948e6e4",
   "metadata": {},
   "outputs": [
    {
     "data": {
      "image/png": "[encoded data removed]",
      "text/plain": [
       "<Figure size 640x480 with 1 Axes>"
      ]
     },
     "metadata": {},
     "output_type": "display_data"
    }
   ],
   "source": [
    "# Create weekend/weekday label\n",
    "df['Day Type'] = df['Date'].dt.weekday\\\n",
    "    .map(lambda x: \"Weekend\" if x >= 5 else \"Weekday\")\n",
    "\n",
    "# Avg ozone levels by day type\n",
    "avg_ozone_by_daytype = (\n",
    "    df.groupby([\"Day Type\"])[\"Daily Max 8-hour Ozone Concentration\"]\n",
    "    .mean()\n",
    "    .reset_index()\n",
    "    .rename(columns={\"Daily Max 8-hour Ozone Concentration\": \"Avg_Ozone_Reading\"})\n",
    ")\n",
    "\n",
    "avg_ozone_by_daytype.plot(\n",
    "    x='Day Type',\n",
    "    y='Avg_Ozone_Reading',\n",
    "    kind='bar'\n",
    ")\n",
    "plt.xticks(rotation=0);"
   ]
  },
  {
   "cell_type": "code",
   "execution_count": 162,
   "id": "408b9769",
   "metadata": {},
   "outputs": [
    {
     "data": {
      "image/png": "[encoded data removed]",
      "text/plain": [
       "<Figure size 640x480 with 1 Axes>"
      ]
     },
     "metadata": {},
     "output_type": "display_data"
    }
   ],
   "source": [
    "# Avg Ozone levels by day type for top 5 counties\n",
    "top_5_by_daytype = (\n",
    "    df[df['County'].isin(top_5['County'].to_list())]\n",
    "    .groupby([\"County\", \"Day Type\"])[\"Daily Max 8-hour Ozone Concentration\"]\n",
    "    .mean()\n",
    "    .reset_index()\n",
    "    .rename(columns={\"Daily Max 8-hour Ozone Concentration\": \"Avg_Ozone_Reading\"})\n",
    ")\n",
    "\n",
    "sns.barplot(\n",
    "    data=top_5_by_daytype,\n",
    "    y='County',\n",
    "    x='Avg_Ozone_Reading',\n",
    "    hue='Day Type'\n",
    ")\n",
    "plt.legend(title='Day Type', loc='upper left');"
   ]
  },
  {
   "cell_type": "markdown",
   "id": "b2352331",
   "metadata": {},
   "source": [
    "Ozone levels are about the same on weekdays and weekends.\n",
    "\n",
    "This holds true in the five counties with the highest ozone readings.\n",
    "\n",
    "That tells us everyday city activity alone probably isn’t what makes ozone go up or down each day."
   ]
  },
  {
   "cell_type": "code",
   "execution_count": 163,
   "id": "bd97a383",
   "metadata": {},
   "outputs": [
    {
     "data": {
      "text/html": [
       "<div style=\"width:100%;\"><div style=\"position:relative;width:100%;height:0;padding-bottom:60%;\"><span style=\"color:#565656\">Make this Notebook Trusted to load map: File -> Trust Notebook</span><iframe srcdoc=\"&lt;!DOCTYPE html&gt;\n",
       "&lt;html&gt;\n",
       "&lt;head&gt;\n",
       "    \n",
       "    &lt;meta http-equiv=&quot;content-type&quot; content=&quot;text/html; charset=UTF-8&quot; /&gt;\n",
       "    &lt;script src=&quot;https://cdn.jsdelivr.net/npm/leaflet@1.9.3/dist/leaflet.js&quot;&gt;&lt;/script&gt;\n",
       "    &lt;script src=&quot;https://code.jquery.com/jquery-3.7.1.min.js&quot;&gt;&lt;/script&gt;\n",
       "    &lt;script src=&quot;https://cdn.jsdelivr.net/npm/bootstrap@5.2.2/dist/js/bootstrap.bundle.min.js&quot;&gt;&lt;/script&gt;\n",
       "    &lt;script src=&quot;https://cdnjs.cloudflare.com/ajax/libs/Leaflet.awesome-markers/2.0.2/leaflet.awesome-markers.js&quot;&gt;&lt;/script&gt;\n",
       "    &lt;link rel=&quot;stylesheet&quot; href=&quot;https://cdn.jsdelivr.net/npm/leaflet@1.9.3/dist/leaflet.css&quot;/&gt;\n",
       "    &lt;link rel=&quot;stylesheet&quot; href=&quot;https://cdn.jsdelivr.net/npm/bootstrap@5.2.2/dist/css/bootstrap.min.css&quot;/&gt;\n",
       "    &lt;link rel=&quot;stylesheet&quot; href=&quot;https://netdna.bootstrapcdn.com/bootstrap/3.0.0/css/bootstrap-glyphicons.css&quot;/&gt;\n",
       "    &lt;link rel=&quot;stylesheet&quot; href=&quot;https://cdn.jsdelivr.net/npm/@fortawesome/fontawesome-free@6.2.0/css/all.min.css&quot;/&gt;\n",
       "    &lt;link rel=&quot;stylesheet&quot; href=&quot;https://cdnjs.cloudflare.com/ajax/libs/Leaflet.awesome-markers/2.0.2/leaflet.awesome-markers.css&quot;/&gt;\n",
       "    &lt;link rel=&quot;stylesheet&quot; href=&quot;https://cdn.jsdelivr.net/gh/python-visualization/folium/folium/templates/leaflet.awesome.rotate.min.css&quot;/&gt;\n",
       "    \n",
       "            &lt;meta name=&quot;viewport&quot; content=&quot;width=device-width,\n",
       "                initial-scale=1.0, maximum-scale=1.0, user-scalable=no&quot; /&gt;\n",
       "            &lt;style&gt;\n",
       "                #map_ec8140bc3e185d96cf5f7f1863bc6706 {\n",
       "                    position: relative;\n",
       "                    width: 100.0%;\n",
       "                    height: 100.0%;\n",
       "                    left: 0.0%;\n",
       "                    top: 0.0%;\n",
       "                }\n",
       "                .leaflet-container { font-size: 1rem; }\n",
       "            &lt;/style&gt;\n",
       "\n",
       "            &lt;style&gt;html, body {\n",
       "                width: 100%;\n",
       "                height: 100%;\n",
       "                margin: 0;\n",
       "                padding: 0;\n",
       "            }\n",
       "            &lt;/style&gt;\n",
       "\n",
       "            &lt;style&gt;#map {\n",
       "                position:absolute;\n",
       "                top:0;\n",
       "                bottom:0;\n",
       "                right:0;\n",
       "                left:0;\n",
       "                }\n",
       "            &lt;/style&gt;\n",
       "\n",
       "            &lt;script&gt;\n",
       "                L_NO_TOUCH = false;\n",
       "                L_DISABLE_3D = false;\n",
       "            &lt;/script&gt;\n",
       "\n",
       "        \n",
       "    &lt;script src=&quot;https://cdn.jsdelivr.net/gh/python-visualization/folium@main/folium/templates/leaflet_heat.min.js&quot;&gt;&lt;/script&gt;\n",
       "&lt;/head&gt;\n",
       "&lt;body&gt;\n",
       "    \n",
       "    \n",
       "            &lt;div class=&quot;folium-map&quot; id=&quot;map_ec8140bc3e185d96cf5f7f1863bc6706&quot; &gt;&lt;/div&gt;\n",
       "        \n",
       "&lt;/body&gt;\n",
       "&lt;script&gt;\n",
       "    \n",
       "    \n",
       "            var map_ec8140bc3e185d96cf5f7f1863bc6706 = L.map(\n",
       "                &quot;map_ec8140bc3e185d96cf5f7f1863bc6706&quot;,\n",
       "                {\n",
       "                    center: [36.7783, -119.4179],\n",
       "                    crs: L.CRS.EPSG3857,\n",
       "                    ...{\n",
       "  &quot;zoom&quot;: 6,\n",
       "  &quot;zoomControl&quot;: true,\n",
       "  &quot;preferCanvas&quot;: false,\n",
       "}\n",
       "\n",
       "                }\n",
       "            );\n",
       "\n",
       "            \n",
       "\n",
       "        \n",
       "    \n",
       "            var tile_layer_8f13823fcc6024643a8ed39a59b60622 = L.tileLayer(\n",
       "                &quot;https://tile.openstreetmap.org/{z}/{x}/{y}.png&quot;,\n",
       "                {\n",
       "  &quot;minZoom&quot;: 0,\n",
       "  &quot;maxZoom&quot;: 19,\n",
       "  &quot;maxNativeZoom&quot;: 19,\n",
       "  &quot;noWrap&quot;: false,\n",
       "  &quot;attribution&quot;: &quot;\\u0026copy; \\u003ca href=\\&quot;https://www.openstreetmap.org/copyright\\&quot;\\u003eOpenStreetMap\\u003c/a\\u003e contributors&quot;,\n",
       "  &quot;subdomains&quot;: &quot;abc&quot;,\n",
       "  &quot;detectRetina&quot;: false,\n",
       "  &quot;tms&quot;: false,\n",
       "  &quot;opacity&quot;: 1,\n",
       "}\n",
       "\n",
       "            );\n",
       "        \n",
       "    \n",
       "            tile_layer_8f13823fcc6024643a8ed39a59b60622.addTo(map_ec8140bc3e185d96cf5f7f1863bc6706);\n",
       "        \n",
       "    \n",
       "            var heat_map_29439105800838e919554d53cbf8ae73 = L.heatLayer(\n",
       "                [[32.578165, -116.921374, 0.046159010600706714], [32.6312420008573, -117.059088, 0.0431859649122807], [32.67618, -115.48307, 0.05023389830508475], [32.7101770008584, -117.142665, 0.041183673469387755], [32.725189, -116.36441, 0.05128174603174603], [32.7895650008594, -116.944308, 0.048053191489361706], [32.79222, -115.56306, 0.05068095238095238], [32.8423180008601, -116.768293, 0.05381978798586572], [32.8457090008602, -117.123964, 0.04531095406360424], [33.0325, -115.62361, 0.048413194444444446], [33.213611, -115.54528, 0.05149723756906077], [33.217046, -117.396249, 0.04245692883895131], [33.3625928342781, -117.090229999878, 0.031163701067615658], [33.4478670008682, -117.088649, 0.0491685393258427], [33.5830180008699, -117.072202, 0.047815972222222225], [33.61235, -114.60209, 0.0405171102661597], [33.67649, -117.33098, 0.0520140350877193], [33.72537, -116.206842, 0.051923875432525954], [33.747236000872, -115.820124, 0.05019272727272728], [33.7937130008725, -118.171019, 0.03977419354838709], [33.83062, -117.93845, 0.03719655172413793], [33.85275, -116.54101, 0.05448965517241379], [33.9013890008739, -118.205, 0.041014440433213], [33.92086, -116.85841, 0.056641638225255975], [33.92513, -117.95264, 0.04538078291814947], [33.9447129, -116.830074, 0.05863888888888889], [33.996360000875, -117.4924, 0.055399317406143345], [33.9995800008751, -117.41601, 0.058118644067796606], [34.0102900008752, -118.0685, 0.045503649635036496], [34.05111, -118.45636, 0.04025287356321839], [34.05977, -117.14731, 0.059052631578947364], [34.0665900008759, -118.22688, 0.04391489361702128], [34.06703, -117.7514, 0.0519288256227758], [34.06957, -116.38893, 0.05555147058823529], [34.10002, -117.49201, 0.05405882352941176], [34.1066780008763, -117.274063, 0.05788652482269504], [34.1326, -118.1272, 0.05129304029304029], [34.14435, -117.85036, 0.056492592592592594], [34.1819770008773, -118.363036, 0.05021276595744681], [34.19925, -118.53276, 0.05122614840989399], [34.210169, -118.870509, 0.044417910447761194], [34.2431, -117.27235, 0.05971527777777778], [34.25239, -119.143182, 0.038341216216216216], [34.276316, -118.683685, 0.04921201413427562], [34.38344, -118.5284, 0.056546075085324235], [34.40305200088, -119.457914, 0.02081785714285714], [34.404281, -118.80998, 0.044914590747330965], [34.41651, -117.28563, 0.05531578947368421], [34.4277749961254, -119.691217778642, 0.03087279151943463], [34.4455100008805, -119.8284, 0.034494584837545125], [34.44806, -119.2313, 0.04368965517241379], [34.489740000881, -120.04692, 0.03735036496350365], [34.5109611108812, -117.32554, 0.054855670103092787], [34.5416600008816, -119.79146, 0.04261904761904762], [34.605819, -120.075069, 0.03635483870967742], [34.6378200008827, -120.4575, 0.03423046875], [34.7253520008837, -120.428717, 0.03128571428571429], [34.725389, -118.178601, 0.05328813559322034], [34.8906666667, -120.4328444444, 0.03249819494584838], [34.89405, -117.02471, 0.05177133105802048], [35.03146, -120.50103, 0.03545787545787546], [35.04944, -118.18893, 0.05053571428571429], [35.051454, -119.40262, 0.04675789473684211], [35.23918, -118.78863, 0.051054263565891475], [35.331612, -118.999961, 0.04674621212121212], [35.345607, -118.851825, 0.05292418772563177], [35.35472, -120.04019, 0.04552397260273972], [35.356615, -119.062613, 0.048112676056338025], [35.361589, -120.836819, 0.03502877697841726], [35.438035, -119.016787, 0.049975], [35.49453, -120.66617, 0.037295774647887324], [35.5035870931035, -119.272606218402, 0.04616666666666667], [35.614668, -120.656912, 0.03898239436619718], [35.64368, -120.23135, 0.04770629370629371], [35.77446, -117.3721, 0.04911832061068702], [36.0318310008979, -119.055018, 0.048871886120996445], [36.2092860008996, -121.126371, 0.037722033898305085], [36.30815, -119.3129, 0.04903886925795053], [36.31567, -119.643447, 0.04551320754716981], [36.4818700009023, -121.73333, 0.03401038062283737], [36.48324, -121.15688, 0.04265248226950355], [36.48947, -118.82915, 0.05267910447761194], [36.508611, -116.847778, 0.050508833922261485], [36.5661280009031, -118.7777, 0.06058045977011495], [36.597442, -119.503659, 0.048744604316546765], [36.6342250009037, -120.382331, 0.04177007299270073], [36.6942610009043, -121.623271, 0.03455639097744361], [36.705474, -119.741332, 0.045118466898954705], [36.78538, -119.77321, 0.03986909090909091], [36.819449, -119.716433, 0.04843661971830986], [36.841592, -119.874739, 0.04548745519713262], [36.8434250009057, -121.3621, 0.036650735294117644], [36.867125, -120.010158, 0.04497535211267605], [36.953256, -120.034203, 0.04543877551020408], [36.983320000907, -121.98822, 0.034273972602739726], [36.9851185574381, -119.658339349936, 0.05027430555555555], [36.999571, -121.574684, 0.035781553398058254], [37.079379, -121.600031, 0.04052348993288591], [37.226862, -121.979675, 0.03764754098360656], [37.281853, -120.433671, 0.025833333333333333], [37.289732, -120.429718, 0.047136690647482014], [37.348497, -121.894898, 0.034855555555555556], [37.360684, -118.330783, 0.043522336769759445], [37.3621369693511, -118.417477920338, 0.039699551569506726], [37.482934, -122.20337, 0.031751824817518245], [37.488317, -120.836008, 0.04615107913669065], [37.54377, -119.83957, 0.04730538922155689], [37.642165, -120.994212, 0.042412186379928316], [37.654456, -122.031547, 0.03578735632183908], [37.682635, -121.442495, 0.038660516605166055], [37.687526, -121.784217, 0.029222222222222222], [37.68975, -121.77155, 0.03775471698113208], [37.71325, -119.7062, 0.048625429553264606], [37.743065, -122.169935, 0.03080708661417323], [37.743649, -121.934188, 0.037029850746268654], [37.765946, -122.399044, 0.028128301886792453], [37.814781, -122.282347, 0.029968858131487888], [37.8647670009145, -122.302741, 0.025284946236559143], [37.936013, -122.026154, 0.03375438596491228], [37.9604, -122.356811, 0.031209523809523812], [37.961578, -121.281414, 0.037875], [37.97231, -122.520004, 0.03213937282229965], [37.98178, -120.378551, 0.044023411371237456], [38.006311, -121.641918, 0.038922727272727276], [38.102507, -122.237976, 0.03478423236514523], [38.20185, -120.680277, 0.043555147058823525], [38.227066, -122.075624, 0.03415525114155251], [38.302591, -121.420838, 0.026799242424242423], [38.342606, -120.764426, 0.04376736111111111], [38.35655, -121.94986, 0.03812671232876712], [38.403765, -122.818294, 0.030186046511627908], [38.494475, -121.211131, 0.03588214285714286], [38.53445, -121.7734, 0.0401067615658363], [38.56844, -121.49311, 0.040125], [38.6137790009202, -121.368014, 0.0449409594095941], [38.66121, -121.73269, 0.04093189964157706], [38.683304, -121.164457, 0.036896296296296295], [38.73196, -120.81162, 0.04334470989761092], [38.74643, -121.26498, 0.043838129496402874], [38.81161, -120.033084, 0.052115107913669065], [38.867937000922, -121.338353, 0.03767368421052632], [38.8909406523369, -121.003373318606, 0.05174850299401197], [38.93568, -121.09959, 0.0448122866894198], [39.0189300009231, -122.91333, 0.03454063604240283], [39.100174496, -120.953831711, 0.04300359712230216], [39.1252758, -123.2024482, 0.03021212121212121], [39.1387725442464, -121.618548986224, 0.04115384615384615], [39.14566, -123.20298, 0.033219424460431655], [39.1660166666667, -120.148833333333, 0.04469611307420494], [39.18919, -121.99887, 0.0399859649122807], [39.2055720009243, -121.820362, 0.05201149425287357], [39.2334770009245, -121.055608, 0.043007017543859646], [39.53387, -122.190834, 0.03948754448398577], [39.75786, -121.60791, 0.043293233082706765], [39.76168, -121.84047, 0.0427923875432526], [40.17093, -122.25556, 0.03353472222222222], [40.262072, -122.092766, 0.05092737430167597], [40.53999, -121.57646, 0.044023923444976076], [40.550130000932, -122.38092, 0.04111787072243346], [40.6892525425033, -122.402194175431, 0.04139426523297491], [40.7767800009332, -124.17949, 0.032011406844106464], [41.726892, -122.633579, 0.040294964028776976]],\n",
       "                {\n",
       "  &quot;minOpacity&quot;: 0.5,\n",
       "  &quot;maxZoom&quot;: 10,\n",
       "  &quot;radius&quot;: 15,\n",
       "  &quot;blur&quot;: 10,\n",
       "}\n",
       "            );\n",
       "        \n",
       "    \n",
       "            heat_map_29439105800838e919554d53cbf8ae73.addTo(map_ec8140bc3e185d96cf5f7f1863bc6706);\n",
       "        \n",
       "&lt;/script&gt;\n",
       "&lt;/html&gt;\" style=\"position:absolute;width:100%;height:100%;left:0;top:0;border:none !important;\" allowfullscreen webkitallowfullscreen mozallowfullscreen></iframe></div></div>"
      ],
      "text/plain": [
       "<folium.folium.Map at 0x72f42c2d7770>"
      ]
     },
     "metadata": {},
     "output_type": "display_data"
    }
   ],
   "source": [
    "# Plot heatmap\n",
    "# Create base map centered on California\n",
    "m = folium.Map(location=[36.7783, -119.4179], zoom_start=6)\n",
    "\n",
    "# Prepare data\n",
    "heat_df = (\n",
    "    df.groupby([\"Site Latitude\", \"Site Longitude\"])\n",
    "    [\"Daily Max 8-hour Ozone Concentration\"]\n",
    "    .mean()\n",
    "    .reset_index()\n",
    "    .rename(columns={\"Daily Max 8-hour Ozone Concentration\": \"Avg_Ozone_Reading\"})\n",
    ")\n",
    "\n",
    "heat_data = heat_df[['Site Latitude','Site Longitude','Avg_Ozone_Reading']].values.tolist()\n",
    "\n",
    "# Add heatmap layer\n",
    "HeatMap(heat_data, radius=15, blur=10, max_zoom=10).add_to(m)\n",
    "\n",
    "display(m)"
   ]
  }
 ],
 "metadata": {
  "kernelspec": {
   "display_name": "Python 3",
   "language": "python",
   "name": "python3"
  },
  "language_info": {
   "codemirror_mode": {
    "name": "ipython",
    "version": 3
   },
   "file_extension": ".py",
   "mimetype": "text/x-python",
   "name": "python",
   "nbconvert_exporter": "python",
   "pygments_lexer": "ipython3",
   "version": "3.12.1"
  }
 },
 "nbformat": 4,
 "nbformat_minor": 5
}
