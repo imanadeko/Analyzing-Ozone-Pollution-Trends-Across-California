{
 "cells": [
  {
   "cell_type": "code",
   "execution_count": 1,
   "id": "8987ae28",
   "metadata": {
    "trusted": true
   },
   "outputs": [
    {
     "name": "stdout",
     "output_type": "stream",
     "text": [
      "Requirement already satisfied: folium in /usr/local/python/3.12.1/lib/python3.12/site-packages (0.20.0)\n",
      "Requirement already satisfied: branca>=0.6.0 in /usr/local/python/3.12.1/lib/python3.12/site-packages (from folium) (0.8.1)\n",
      "Requirement already satisfied: jinja2>=2.9 in /home/codespace/.local/lib/python3.12/site-packages (from folium) (3.1.6)\n",
      "Requirement already satisfied: numpy in /home/codespace/.local/lib/python3.12/site-packages (from folium) (2.2.6)\n",
      "Requirement already satisfied: requests in /home/codespace/.local/lib/python3.12/site-packages (from folium) (2.32.3)\n",
      "Requirement already satisfied: xyzservices in /usr/local/python/3.12.1/lib/python3.12/site-packages (from folium) (2025.4.0)\n",
      "Requirement already satisfied: MarkupSafe>=2.0 in /home/codespace/.local/lib/python3.12/site-packages (from jinja2>=2.9->folium) (3.0.2)\n",
      "Requirement already satisfied: charset-normalizer<4,>=2 in /home/codespace/.local/lib/python3.12/site-packages (from requests->folium) (3.4.2)\n",
      "Requirement already satisfied: idna<4,>=2.5 in /home/codespace/.local/lib/python3.12/site-packages (from requests->folium) (3.10)\n",
      "Requirement already satisfied: urllib3<3,>=1.21.1 in /home/codespace/.local/lib/python3.12/site-packages (from requests->folium) (2.4.0)\n",
      "Requirement already satisfied: certifi>=2017.4.17 in /home/codespace/.local/lib/python3.12/site-packages (from requests->folium) (2025.4.26)\n"
     ]
    },
    {
     "name": "stdout",
     "output_type": "stream",
     "text": [
      "Note: you may need to restart the kernel to use updated packages.\n"
     ]
    }
   ],
   "source": [
    "pip install folium"
   ]
  },
  {
   "cell_type": "code",
   "execution_count": 2,
   "id": "7fa948ee",
   "metadata": {},
   "outputs": [],
   "source": [
    "import pandas as pd\n",
    "import numpy as np\n",
    "import matplotlib.pyplot as plt\n",
    "import seaborn as sns\n",
    "import plotly.express as px\n",
    "import folium\n",
    "from folium.plugins import HeatMap"
   ]
  },
  {
   "cell_type": "code",
   "execution_count": 3,
   "id": "bad4e8a4",
   "metadata": {},
   "outputs": [
    {
     "data": {
      "text/html": [
       "<div>\n",
       "<style scoped>\n",
       "    .dataframe tbody tr th:only-of-type {\n",
       "        vertical-align: middle;\n",
       "    }\n",
       "\n",
       "    .dataframe tbody tr th {\n",
       "        vertical-align: top;\n",
       "    }\n",
       "\n",
       "    .dataframe thead th {\n",
       "        text-align: right;\n",
       "    }\n",
       "</style>\n",
       "<table border=\"1\" class=\"dataframe\">\n",
       "  <thead>\n",
       "    <tr style=\"text-align: right;\">\n",
       "      <th></th>\n",
       "      <th>Date</th>\n",
       "      <th>Source</th>\n",
       "      <th>Site ID</th>\n",
       "      <th>POC</th>\n",
       "      <th>Daily Max 8-hour Ozone Concentration</th>\n",
       "      <th>Units</th>\n",
       "      <th>Daily AQI Value</th>\n",
       "      <th>Local Site Name</th>\n",
       "      <th>Daily Obs Count</th>\n",
       "      <th>Percent Complete</th>\n",
       "      <th>Method Code</th>\n",
       "      <th>CBSA Code</th>\n",
       "      <th>CBSA Name</th>\n",
       "      <th>County FIPS Code</th>\n",
       "      <th>County</th>\n",
       "      <th>Site Latitude</th>\n",
       "      <th>Site Longitude</th>\n",
       "    </tr>\n",
       "  </thead>\n",
       "  <tbody>\n",
       "    <tr>\n",
       "      <th>0</th>\n",
       "      <td>/2024</td>\n",
       "      <td>AQS</td>\n",
       "      <td>60010007</td>\n",
       "      <td>1</td>\n",
       "      <td>0.031</td>\n",
       "      <td>ppm</td>\n",
       "      <td>29.0</td>\n",
       "      <td>Livermore</td>\n",
       "      <td>17</td>\n",
       "      <td>100.0</td>\n",
       "      <td>47.0</td>\n",
       "      <td>41860.0</td>\n",
       "      <td>San Francisco-Oakland-Hayward, CA</td>\n",
       "      <td>1</td>\n",
       "      <td>Alameda</td>\n",
       "      <td>37.687526</td>\n",
       "      <td>-121.784217</td>\n",
       "    </tr>\n",
       "    <tr>\n",
       "      <th>1</th>\n",
       "      <td>01/02/2024</td>\n",
       "      <td>AQS</td>\n",
       "      <td>60010007</td>\n",
       "      <td>1</td>\n",
       "      <td>0.037</td>\n",
       "      <td>ppm</td>\n",
       "      <td>34.0</td>\n",
       "      <td>Livermore</td>\n",
       "      <td>17</td>\n",
       "      <td>100.0</td>\n",
       "      <td>47.0</td>\n",
       "      <td>41860.0</td>\n",
       "      <td>San Francisco-Oakland-Hayward, CA</td>\n",
       "      <td>1</td>\n",
       "      <td>Alameda</td>\n",
       "      <td>37.687526</td>\n",
       "      <td>-121.784217</td>\n",
       "    </tr>\n",
       "    <tr>\n",
       "      <th>2</th>\n",
       "      <td>/2024</td>\n",
       "      <td>AQS</td>\n",
       "      <td>60010007</td>\n",
       "      <td>1</td>\n",
       "      <td>NaN</td>\n",
       "      <td>ppm</td>\n",
       "      <td>30.0</td>\n",
       "      <td>Livermore</td>\n",
       "      <td>17</td>\n",
       "      <td>100.0</td>\n",
       "      <td>47.0</td>\n",
       "      <td>41860.0</td>\n",
       "      <td>San Francisco-Oakland-Hayward, CA</td>\n",
       "      <td>1</td>\n",
       "      <td>Alameda</td>\n",
       "      <td>37.687526</td>\n",
       "      <td>-121.784217</td>\n",
       "    </tr>\n",
       "    <tr>\n",
       "      <th>3</th>\n",
       "      <td>January 04/2024</td>\n",
       "      <td>AQS</td>\n",
       "      <td>60010007</td>\n",
       "      <td>1</td>\n",
       "      <td>0.026</td>\n",
       "      <td>ppm</td>\n",
       "      <td>24.0</td>\n",
       "      <td>Livermore</td>\n",
       "      <td>17</td>\n",
       "      <td>100.0</td>\n",
       "      <td>47.0</td>\n",
       "      <td>41860.0</td>\n",
       "      <td>San Francisco-Oakland-Hayward, CA</td>\n",
       "      <td>1</td>\n",
       "      <td>Alameda</td>\n",
       "      <td>37.687526</td>\n",
       "      <td>-121.784217</td>\n",
       "    </tr>\n",
       "    <tr>\n",
       "      <th>4</th>\n",
       "      <td>January 05/2024</td>\n",
       "      <td>AQS</td>\n",
       "      <td>60010007</td>\n",
       "      <td>1</td>\n",
       "      <td>0.027</td>\n",
       "      <td>ppm</td>\n",
       "      <td>25.0</td>\n",
       "      <td>Livermore</td>\n",
       "      <td>17</td>\n",
       "      <td>100.0</td>\n",
       "      <td>47.0</td>\n",
       "      <td>41860.0</td>\n",
       "      <td>San Francisco-Oakland-Hayward, CA</td>\n",
       "      <td>1</td>\n",
       "      <td>Alameda</td>\n",
       "      <td>37.687526</td>\n",
       "      <td>-121.784217</td>\n",
       "    </tr>\n",
       "  </tbody>\n",
       "</table>\n",
       "</div>"
      ],
      "text/plain": [
       "              Date Source   Site ID  POC  \\\n",
       "0            /2024    AQS  60010007    1   \n",
       "1       01/02/2024    AQS  60010007    1   \n",
       "2            /2024    AQS  60010007    1   \n",
       "3  January 04/2024    AQS  60010007    1   \n",
       "4  January 05/2024    AQS  60010007    1   \n",
       "\n",
       "   Daily Max 8-hour Ozone Concentration Units  Daily AQI Value  \\\n",
       "0                                 0.031   ppm             29.0   \n",
       "1                                 0.037   ppm             34.0   \n",
       "2                                   NaN   ppm             30.0   \n",
       "3                                 0.026   ppm             24.0   \n",
       "4                                 0.027   ppm             25.0   \n",
       "\n",
       "  Local Site Name  Daily Obs Count  Percent Complete  Method Code  CBSA Code  \\\n",
       "0       Livermore               17             100.0         47.0    41860.0   \n",
       "1       Livermore               17             100.0         47.0    41860.0   \n",
       "2       Livermore               17             100.0         47.0    41860.0   \n",
       "3       Livermore               17             100.0         47.0    41860.0   \n",
       "4       Livermore               17             100.0         47.0    41860.0   \n",
       "\n",
       "                           CBSA Name  County FIPS Code   County  \\\n",
       "0  San Francisco-Oakland-Hayward, CA                 1  Alameda   \n",
       "1  San Francisco-Oakland-Hayward, CA                 1  Alameda   \n",
       "2  San Francisco-Oakland-Hayward, CA                 1  Alameda   \n",
       "3  San Francisco-Oakland-Hayward, CA                 1  Alameda   \n",
       "4  San Francisco-Oakland-Hayward, CA                 1  Alameda   \n",
       "\n",
       "   Site Latitude  Site Longitude  \n",
       "0      37.687526     -121.784217  \n",
       "1      37.687526     -121.784217  \n",
       "2      37.687526     -121.784217  \n",
       "3      37.687526     -121.784217  \n",
       "4      37.687526     -121.784217  "
      ]
     },
     "execution_count": 3,
     "metadata": {},
     "output_type": "execute_result"
    }
   ],
   "source": [
    "# Read in data\n",
    "df = pd.read_csv(\"/workspaces/Analyzing-Ozone-Pollution-Trends-Across-California/ozone.csv\")\n",
    "df.head()"
   ]
  },
  {
   "cell_type": "code",
   "execution_count": 4,
   "id": "b16729da",
   "metadata": {},
   "outputs": [],
   "source": [
    "# CHeck for duplicates\n",
    "df.duplicated().sum()       # 266 duplicate rows\n",
    "\n",
    "# Drop duplicates\n",
    "df = df.drop_duplicates()\n"
   ]
  },
  {
   "cell_type": "code",
   "execution_count": 5,
   "id": "4810478d",
   "metadata": {},
   "outputs": [
    {
     "name": "stdout",
     "output_type": "stream",
     "text": [
      "<class 'pandas.core.frame.DataFrame'>\n",
      "Index: 51183 entries, 0 to 54758\n",
      "Data columns (total 17 columns):\n",
      " #   Column                                Non-Null Count  Dtype  \n",
      "---  ------                                --------------  -----  \n",
      " 0   Date                                  51183 non-null  object \n",
      " 1   Source                                51183 non-null  object \n",
      " 2   Site ID                               51183 non-null  int64  \n",
      " 3   POC                                   51183 non-null  int64  \n",
      " 4   Daily Max 8-hour Ozone Concentration  48457 non-null  float64\n",
      " 5   Units                                 51183 non-null  object \n",
      " 6   Daily AQI Value                       48461 non-null  float64\n",
      " 7   Local Site Name                       51183 non-null  object \n",
      " 8   Daily Obs Count                       51183 non-null  int64  \n",
      " 9   Percent Complete                      51183 non-null  float64\n",
      " 10  Method Code                           45015 non-null  float64\n",
      " 11  CBSA Code                             48935 non-null  float64\n",
      " 12  CBSA Name                             48935 non-null  object \n",
      " 13  County FIPS Code                      51183 non-null  int64  \n",
      " 14  County                                51183 non-null  object \n",
      " 15  Site Latitude                         51183 non-null  float64\n",
      " 16  Site Longitude                        51183 non-null  float64\n",
      "dtypes: float64(7), int64(4), object(6)\n",
      "memory usage: 7.0+ MB\n"
     ]
    }
   ],
   "source": [
    "df.info()"
   ]
  },
  {
   "cell_type": "code",
   "execution_count": 6,
   "id": "27f20285",
   "metadata": {},
   "outputs": [
    {
     "data": {
      "text/plain": [
       "(51183, 17)"
      ]
     },
     "execution_count": 6,
     "metadata": {},
     "output_type": "execute_result"
    }
   ],
   "source": [
    "df.shape"
   ]
  },
  {
   "cell_type": "markdown",
   "id": "a7816e7f",
   "metadata": {},
   "source": [
    "### Cleaning the date column\n",
    "\n",
    "Upon examining the date column, I found out that the date is in the format mm/dd/yyy. Though, some dates had their month part in full while some had them in digits.\n",
    "\n",
    "Also, some of the entries in the column are incomplete like thus: \"/2024\". I will remove those instances before converting the column to a date data type. \n",
    "\n",
    "Converting the column will ensure a consistent format in the column."
   ]
  },
  {
   "cell_type": "code",
   "execution_count": 7,
   "id": "0db434b5",
   "metadata": {},
   "outputs": [
    {
     "data": {
      "text/html": [
       "<div>\n",
       "<style scoped>\n",
       "    .dataframe tbody tr th:only-of-type {\n",
       "        vertical-align: middle;\n",
       "    }\n",
       "\n",
       "    .dataframe tbody tr th {\n",
       "        vertical-align: top;\n",
       "    }\n",
       "\n",
       "    .dataframe thead th {\n",
       "        text-align: right;\n",
       "    }\n",
       "</style>\n",
       "<table border=\"1\" class=\"dataframe\">\n",
       "  <thead>\n",
       "    <tr style=\"text-align: right;\">\n",
       "      <th></th>\n",
       "      <th>Date</th>\n",
       "      <th>Source</th>\n",
       "      <th>Site ID</th>\n",
       "      <th>POC</th>\n",
       "      <th>Daily Max 8-hour Ozone Concentration</th>\n",
       "      <th>Units</th>\n",
       "      <th>Daily AQI Value</th>\n",
       "      <th>Local Site Name</th>\n",
       "      <th>Daily Obs Count</th>\n",
       "      <th>Percent Complete</th>\n",
       "      <th>Method Code</th>\n",
       "      <th>CBSA Code</th>\n",
       "      <th>CBSA Name</th>\n",
       "      <th>County FIPS Code</th>\n",
       "      <th>County</th>\n",
       "      <th>Site Latitude</th>\n",
       "      <th>Site Longitude</th>\n",
       "    </tr>\n",
       "  </thead>\n",
       "  <tbody>\n",
       "    <tr>\n",
       "      <th>1</th>\n",
       "      <td>2024-01-02</td>\n",
       "      <td>AQS</td>\n",
       "      <td>60010007</td>\n",
       "      <td>1</td>\n",
       "      <td>0.037</td>\n",
       "      <td>ppm</td>\n",
       "      <td>34.0</td>\n",
       "      <td>Livermore</td>\n",
       "      <td>17</td>\n",
       "      <td>100.0</td>\n",
       "      <td>47.0</td>\n",
       "      <td>41860.0</td>\n",
       "      <td>San Francisco-Oakland-Hayward, CA</td>\n",
       "      <td>1</td>\n",
       "      <td>Alameda</td>\n",
       "      <td>37.687526</td>\n",
       "      <td>-121.784217</td>\n",
       "    </tr>\n",
       "    <tr>\n",
       "      <th>3</th>\n",
       "      <td>2024-01-04</td>\n",
       "      <td>AQS</td>\n",
       "      <td>60010007</td>\n",
       "      <td>1</td>\n",
       "      <td>0.026</td>\n",
       "      <td>ppm</td>\n",
       "      <td>24.0</td>\n",
       "      <td>Livermore</td>\n",
       "      <td>17</td>\n",
       "      <td>100.0</td>\n",
       "      <td>47.0</td>\n",
       "      <td>41860.0</td>\n",
       "      <td>San Francisco-Oakland-Hayward, CA</td>\n",
       "      <td>1</td>\n",
       "      <td>Alameda</td>\n",
       "      <td>37.687526</td>\n",
       "      <td>-121.784217</td>\n",
       "    </tr>\n",
       "    <tr>\n",
       "      <th>4</th>\n",
       "      <td>2024-01-05</td>\n",
       "      <td>AQS</td>\n",
       "      <td>60010007</td>\n",
       "      <td>1</td>\n",
       "      <td>0.027</td>\n",
       "      <td>ppm</td>\n",
       "      <td>25.0</td>\n",
       "      <td>Livermore</td>\n",
       "      <td>17</td>\n",
       "      <td>100.0</td>\n",
       "      <td>47.0</td>\n",
       "      <td>41860.0</td>\n",
       "      <td>San Francisco-Oakland-Hayward, CA</td>\n",
       "      <td>1</td>\n",
       "      <td>Alameda</td>\n",
       "      <td>37.687526</td>\n",
       "      <td>-121.784217</td>\n",
       "    </tr>\n",
       "    <tr>\n",
       "      <th>5</th>\n",
       "      <td>2024-01-06</td>\n",
       "      <td>AQS</td>\n",
       "      <td>60010007</td>\n",
       "      <td>1</td>\n",
       "      <td>0.031</td>\n",
       "      <td>ppm</td>\n",
       "      <td>29.0</td>\n",
       "      <td>Livermore</td>\n",
       "      <td>17</td>\n",
       "      <td>100.0</td>\n",
       "      <td>47.0</td>\n",
       "      <td>41860.0</td>\n",
       "      <td>San Francisco-Oakland-Hayward, CA</td>\n",
       "      <td>1</td>\n",
       "      <td>Alameda</td>\n",
       "      <td>37.687526</td>\n",
       "      <td>-121.784217</td>\n",
       "    </tr>\n",
       "    <tr>\n",
       "      <th>6</th>\n",
       "      <td>2024-01-07</td>\n",
       "      <td>AQS</td>\n",
       "      <td>60010007</td>\n",
       "      <td>1</td>\n",
       "      <td>0.030</td>\n",
       "      <td>ppm</td>\n",
       "      <td>28.0</td>\n",
       "      <td>Livermore</td>\n",
       "      <td>17</td>\n",
       "      <td>100.0</td>\n",
       "      <td>47.0</td>\n",
       "      <td>41860.0</td>\n",
       "      <td>San Francisco-Oakland-Hayward, CA</td>\n",
       "      <td>1</td>\n",
       "      <td>Alameda</td>\n",
       "      <td>37.687526</td>\n",
       "      <td>-121.784217</td>\n",
       "    </tr>\n",
       "  </tbody>\n",
       "</table>\n",
       "</div>"
      ],
      "text/plain": [
       "        Date Source   Site ID  POC  Daily Max 8-hour Ozone Concentration  \\\n",
       "1 2024-01-02    AQS  60010007    1                                 0.037   \n",
       "3 2024-01-04    AQS  60010007    1                                 0.026   \n",
       "4 2024-01-05    AQS  60010007    1                                 0.027   \n",
       "5 2024-01-06    AQS  60010007    1                                 0.031   \n",
       "6 2024-01-07    AQS  60010007    1                                 0.030   \n",
       "\n",
       "  Units  Daily AQI Value Local Site Name  Daily Obs Count  Percent Complete  \\\n",
       "1   ppm             34.0       Livermore               17             100.0   \n",
       "3   ppm             24.0       Livermore               17             100.0   \n",
       "4   ppm             25.0       Livermore               17             100.0   \n",
       "5   ppm             29.0       Livermore               17             100.0   \n",
       "6   ppm             28.0       Livermore               17             100.0   \n",
       "\n",
       "   Method Code  CBSA Code                          CBSA Name  \\\n",
       "1         47.0    41860.0  San Francisco-Oakland-Hayward, CA   \n",
       "3         47.0    41860.0  San Francisco-Oakland-Hayward, CA   \n",
       "4         47.0    41860.0  San Francisco-Oakland-Hayward, CA   \n",
       "5         47.0    41860.0  San Francisco-Oakland-Hayward, CA   \n",
       "6         47.0    41860.0  San Francisco-Oakland-Hayward, CA   \n",
       "\n",
       "   County FIPS Code   County  Site Latitude  Site Longitude  \n",
       "1                 1  Alameda      37.687526     -121.784217  \n",
       "3                 1  Alameda      37.687526     -121.784217  \n",
       "4                 1  Alameda      37.687526     -121.784217  \n",
       "5                 1  Alameda      37.687526     -121.784217  \n",
       "6                 1  Alameda      37.687526     -121.784217  "
      ]
     },
     "execution_count": 7,
     "metadata": {},
     "output_type": "execute_result"
    }
   ],
   "source": [
    "# Removing instances of incomplete date\n",
    "df = df[df['Date'].str.len() >= 10]\n",
    "\n",
    "# Converting to date time data type\n",
    "df['Date'] = pd.to_datetime(df['Date'], format='mixed')\n",
    "df.head()"
   ]
  },
  {
   "cell_type": "code",
   "execution_count": 8,
   "id": "c3cfbfc4",
   "metadata": {},
   "outputs": [
    {
     "data": {
      "text/html": [
       "<div>\n",
       "<style scoped>\n",
       "    .dataframe tbody tr th:only-of-type {\n",
       "        vertical-align: middle;\n",
       "    }\n",
       "\n",
       "    .dataframe tbody tr th {\n",
       "        vertical-align: top;\n",
       "    }\n",
       "\n",
       "    .dataframe thead th {\n",
       "        text-align: right;\n",
       "    }\n",
       "</style>\n",
       "<table border=\"1\" class=\"dataframe\">\n",
       "  <thead>\n",
       "    <tr style=\"text-align: right;\">\n",
       "      <th></th>\n",
       "      <th>Date</th>\n",
       "      <th>Site ID</th>\n",
       "      <th>POC</th>\n",
       "      <th>Daily Max 8-hour Ozone Concentration</th>\n",
       "      <th>Daily AQI Value</th>\n",
       "      <th>Daily Obs Count</th>\n",
       "      <th>Percent Complete</th>\n",
       "      <th>Method Code</th>\n",
       "      <th>CBSA Code</th>\n",
       "      <th>County FIPS Code</th>\n",
       "      <th>Site Latitude</th>\n",
       "      <th>Site Longitude</th>\n",
       "    </tr>\n",
       "  </thead>\n",
       "  <tbody>\n",
       "    <tr>\n",
       "      <th>count</th>\n",
       "      <td>45364</td>\n",
       "      <td>4.536400e+04</td>\n",
       "      <td>45364.000000</td>\n",
       "      <td>43113.000000</td>\n",
       "      <td>43043.000000</td>\n",
       "      <td>45364.000000</td>\n",
       "      <td>45364.000000</td>\n",
       "      <td>39942.000000</td>\n",
       "      <td>43376.000000</td>\n",
       "      <td>45364.000000</td>\n",
       "      <td>45364.000000</td>\n",
       "      <td>45364.000000</td>\n",
       "    </tr>\n",
       "    <tr>\n",
       "      <th>mean</th>\n",
       "      <td>2024-07-02 10:18:04.348823296</td>\n",
       "      <td>6.059073e+07</td>\n",
       "      <td>1.000287</td>\n",
       "      <td>0.043527</td>\n",
       "      <td>45.296773</td>\n",
       "      <td>27.454898</td>\n",
       "      <td>99.330372</td>\n",
       "      <td>88.994342</td>\n",
       "      <td>36139.920232</td>\n",
       "      <td>58.905388</td>\n",
       "      <td>36.166569</td>\n",
       "      <td>-119.661583</td>\n",
       "    </tr>\n",
       "    <tr>\n",
       "      <th>min</th>\n",
       "      <td>2024-01-01 00:00:00</td>\n",
       "      <td>6.001001e+07</td>\n",
       "      <td>1.000000</td>\n",
       "      <td>0.000000</td>\n",
       "      <td>0.000000</td>\n",
       "      <td>1.000000</td>\n",
       "      <td>6.000000</td>\n",
       "      <td>47.000000</td>\n",
       "      <td>12540.000000</td>\n",
       "      <td>1.000000</td>\n",
       "      <td>32.578165</td>\n",
       "      <td>-124.179490</td>\n",
       "    </tr>\n",
       "    <tr>\n",
       "      <th>25%</th>\n",
       "      <td>2024-04-03 00:00:00</td>\n",
       "      <td>6.031100e+07</td>\n",
       "      <td>1.000000</td>\n",
       "      <td>0.034000</td>\n",
       "      <td>31.000000</td>\n",
       "      <td>17.000000</td>\n",
       "      <td>100.000000</td>\n",
       "      <td>87.000000</td>\n",
       "      <td>31080.000000</td>\n",
       "      <td>31.000000</td>\n",
       "      <td>34.181977</td>\n",
       "      <td>-121.420838</td>\n",
       "    </tr>\n",
       "    <tr>\n",
       "      <th>50%</th>\n",
       "      <td>2024-07-03 00:00:00</td>\n",
       "      <td>6.065500e+07</td>\n",
       "      <td>1.000000</td>\n",
       "      <td>0.041000</td>\n",
       "      <td>38.000000</td>\n",
       "      <td>17.000000</td>\n",
       "      <td>100.000000</td>\n",
       "      <td>87.000000</td>\n",
       "      <td>40140.000000</td>\n",
       "      <td>65.000000</td>\n",
       "      <td>36.209286</td>\n",
       "      <td>-119.828400</td>\n",
       "    </tr>\n",
       "    <tr>\n",
       "      <th>75%</th>\n",
       "      <td>2024-10-01 00:00:00</td>\n",
       "      <td>6.079801e+07</td>\n",
       "      <td>1.000000</td>\n",
       "      <td>0.052000</td>\n",
       "      <td>48.000000</td>\n",
       "      <td>17.000000</td>\n",
       "      <td>100.000000</td>\n",
       "      <td>87.000000</td>\n",
       "      <td>41860.000000</td>\n",
       "      <td>79.000000</td>\n",
       "      <td>37.961578</td>\n",
       "      <td>-118.068500</td>\n",
       "    </tr>\n",
       "    <tr>\n",
       "      <th>max</th>\n",
       "      <td>2024-12-31 00:00:00</td>\n",
       "      <td>6.113100e+07</td>\n",
       "      <td>2.000000</td>\n",
       "      <td>0.131000</td>\n",
       "      <td>227.000000</td>\n",
       "      <td>1000.000000</td>\n",
       "      <td>100.000000</td>\n",
       "      <td>199.000000</td>\n",
       "      <td>49700.000000</td>\n",
       "      <td>113.000000</td>\n",
       "      <td>41.726892</td>\n",
       "      <td>-114.602090</td>\n",
       "    </tr>\n",
       "    <tr>\n",
       "      <th>std</th>\n",
       "      <td>NaN</td>\n",
       "      <td>2.998785e+05</td>\n",
       "      <td>0.016926</td>\n",
       "      <td>0.014638</td>\n",
       "      <td>25.927245</td>\n",
       "      <td>97.375243</td>\n",
       "      <td>3.677716</td>\n",
       "      <td>36.552288</td>\n",
       "      <td>9513.454743</td>\n",
       "      <td>29.981006</td>\n",
       "      <td>2.193868</td>\n",
       "      <td>2.026574</td>\n",
       "    </tr>\n",
       "  </tbody>\n",
       "</table>\n",
       "</div>"
      ],
      "text/plain": [
       "                                Date       Site ID           POC  \\\n",
       "count                          45364  4.536400e+04  45364.000000   \n",
       "mean   2024-07-02 10:18:04.348823296  6.059073e+07      1.000287   \n",
       "min              2024-01-01 00:00:00  6.001001e+07      1.000000   \n",
       "25%              2024-04-03 00:00:00  6.031100e+07      1.000000   \n",
       "50%              2024-07-03 00:00:00  6.065500e+07      1.000000   \n",
       "75%              2024-10-01 00:00:00  6.079801e+07      1.000000   \n",
       "max              2024-12-31 00:00:00  6.113100e+07      2.000000   \n",
       "std                              NaN  2.998785e+05      0.016926   \n",
       "\n",
       "       Daily Max 8-hour Ozone Concentration  Daily AQI Value  Daily Obs Count  \\\n",
       "count                          43113.000000     43043.000000     45364.000000   \n",
       "mean                               0.043527        45.296773        27.454898   \n",
       "min                                0.000000         0.000000         1.000000   \n",
       "25%                                0.034000        31.000000        17.000000   \n",
       "50%                                0.041000        38.000000        17.000000   \n",
       "75%                                0.052000        48.000000        17.000000   \n",
       "max                                0.131000       227.000000      1000.000000   \n",
       "std                                0.014638        25.927245        97.375243   \n",
       "\n",
       "       Percent Complete   Method Code     CBSA Code  County FIPS Code  \\\n",
       "count      45364.000000  39942.000000  43376.000000      45364.000000   \n",
       "mean          99.330372     88.994342  36139.920232         58.905388   \n",
       "min            6.000000     47.000000  12540.000000          1.000000   \n",
       "25%          100.000000     87.000000  31080.000000         31.000000   \n",
       "50%          100.000000     87.000000  40140.000000         65.000000   \n",
       "75%          100.000000     87.000000  41860.000000         79.000000   \n",
       "max          100.000000    199.000000  49700.000000        113.000000   \n",
       "std            3.677716     36.552288   9513.454743         29.981006   \n",
       "\n",
       "       Site Latitude  Site Longitude  \n",
       "count   45364.000000    45364.000000  \n",
       "mean       36.166569     -119.661583  \n",
       "min        32.578165     -124.179490  \n",
       "25%        34.181977     -121.420838  \n",
       "50%        36.209286     -119.828400  \n",
       "75%        37.961578     -118.068500  \n",
       "max        41.726892     -114.602090  \n",
       "std         2.193868        2.026574  "
      ]
     },
     "execution_count": 8,
     "metadata": {},
     "output_type": "execute_result"
    }
   ],
   "source": [
    "df.describe()"
   ]
  },
  {
   "cell_type": "markdown",
   "id": "8552547f",
   "metadata": {},
   "source": [
    "No issue with Source.\n",
    "No issue with Site ID.\n",
    "No issue with POC.\n",
    "Dropped nulls in Daily Max 8-hour Ozone Concentration, no outliers observed.\n",
    "\n",
    "\n",
    "\n"
   ]
  },
  {
   "cell_type": "code",
   "execution_count": 9,
   "id": "93a3074e",
   "metadata": {},
   "outputs": [
    {
     "data": {
      "text/html": [
       "<div>\n",
       "<style scoped>\n",
       "    .dataframe tbody tr th:only-of-type {\n",
       "        vertical-align: middle;\n",
       "    }\n",
       "\n",
       "    .dataframe tbody tr th {\n",
       "        vertical-align: top;\n",
       "    }\n",
       "\n",
       "    .dataframe thead th {\n",
       "        text-align: right;\n",
       "    }\n",
       "</style>\n",
       "<table border=\"1\" class=\"dataframe\">\n",
       "  <thead>\n",
       "    <tr style=\"text-align: right;\">\n",
       "      <th></th>\n",
       "      <th>Date</th>\n",
       "      <th>Source</th>\n",
       "      <th>Site ID</th>\n",
       "      <th>POC</th>\n",
       "      <th>Daily Max 8-hour Ozone Concentration</th>\n",
       "      <th>Units</th>\n",
       "      <th>Daily AQI Value</th>\n",
       "      <th>Local Site Name</th>\n",
       "      <th>Daily Obs Count</th>\n",
       "      <th>Percent Complete</th>\n",
       "      <th>Method Code</th>\n",
       "      <th>CBSA Code</th>\n",
       "      <th>CBSA Name</th>\n",
       "      <th>County FIPS Code</th>\n",
       "      <th>County</th>\n",
       "      <th>Site Latitude</th>\n",
       "      <th>Site Longitude</th>\n",
       "    </tr>\n",
       "  </thead>\n",
       "  <tbody>\n",
       "    <tr>\n",
       "      <th>1</th>\n",
       "      <td>2024-01-02</td>\n",
       "      <td>AQS</td>\n",
       "      <td>60010007</td>\n",
       "      <td>1</td>\n",
       "      <td>0.037</td>\n",
       "      <td>ppm</td>\n",
       "      <td>34.0</td>\n",
       "      <td>Livermore</td>\n",
       "      <td>17</td>\n",
       "      <td>100.0</td>\n",
       "      <td>47.0</td>\n",
       "      <td>41860.0</td>\n",
       "      <td>San Francisco-Oakland-Hayward, CA</td>\n",
       "      <td>1</td>\n",
       "      <td>Alameda</td>\n",
       "      <td>37.687526</td>\n",
       "      <td>-121.784217</td>\n",
       "    </tr>\n",
       "    <tr>\n",
       "      <th>3</th>\n",
       "      <td>2024-01-04</td>\n",
       "      <td>AQS</td>\n",
       "      <td>60010007</td>\n",
       "      <td>1</td>\n",
       "      <td>0.026</td>\n",
       "      <td>ppm</td>\n",
       "      <td>24.0</td>\n",
       "      <td>Livermore</td>\n",
       "      <td>17</td>\n",
       "      <td>100.0</td>\n",
       "      <td>47.0</td>\n",
       "      <td>41860.0</td>\n",
       "      <td>San Francisco-Oakland-Hayward, CA</td>\n",
       "      <td>1</td>\n",
       "      <td>Alameda</td>\n",
       "      <td>37.687526</td>\n",
       "      <td>-121.784217</td>\n",
       "    </tr>\n",
       "    <tr>\n",
       "      <th>4</th>\n",
       "      <td>2024-01-05</td>\n",
       "      <td>AQS</td>\n",
       "      <td>60010007</td>\n",
       "      <td>1</td>\n",
       "      <td>0.027</td>\n",
       "      <td>ppm</td>\n",
       "      <td>25.0</td>\n",
       "      <td>Livermore</td>\n",
       "      <td>17</td>\n",
       "      <td>100.0</td>\n",
       "      <td>47.0</td>\n",
       "      <td>41860.0</td>\n",
       "      <td>San Francisco-Oakland-Hayward, CA</td>\n",
       "      <td>1</td>\n",
       "      <td>Alameda</td>\n",
       "      <td>37.687526</td>\n",
       "      <td>-121.784217</td>\n",
       "    </tr>\n",
       "    <tr>\n",
       "      <th>5</th>\n",
       "      <td>2024-01-06</td>\n",
       "      <td>AQS</td>\n",
       "      <td>60010007</td>\n",
       "      <td>1</td>\n",
       "      <td>0.031</td>\n",
       "      <td>ppm</td>\n",
       "      <td>29.0</td>\n",
       "      <td>Livermore</td>\n",
       "      <td>17</td>\n",
       "      <td>100.0</td>\n",
       "      <td>47.0</td>\n",
       "      <td>41860.0</td>\n",
       "      <td>San Francisco-Oakland-Hayward, CA</td>\n",
       "      <td>1</td>\n",
       "      <td>Alameda</td>\n",
       "      <td>37.687526</td>\n",
       "      <td>-121.784217</td>\n",
       "    </tr>\n",
       "    <tr>\n",
       "      <th>6</th>\n",
       "      <td>2024-01-07</td>\n",
       "      <td>AQS</td>\n",
       "      <td>60010007</td>\n",
       "      <td>1</td>\n",
       "      <td>0.030</td>\n",
       "      <td>ppm</td>\n",
       "      <td>28.0</td>\n",
       "      <td>Livermore</td>\n",
       "      <td>17</td>\n",
       "      <td>100.0</td>\n",
       "      <td>47.0</td>\n",
       "      <td>41860.0</td>\n",
       "      <td>San Francisco-Oakland-Hayward, CA</td>\n",
       "      <td>1</td>\n",
       "      <td>Alameda</td>\n",
       "      <td>37.687526</td>\n",
       "      <td>-121.784217</td>\n",
       "    </tr>\n",
       "    <tr>\n",
       "      <th>...</th>\n",
       "      <td>...</td>\n",
       "      <td>...</td>\n",
       "      <td>...</td>\n",
       "      <td>...</td>\n",
       "      <td>...</td>\n",
       "      <td>...</td>\n",
       "      <td>...</td>\n",
       "      <td>...</td>\n",
       "      <td>...</td>\n",
       "      <td>...</td>\n",
       "      <td>...</td>\n",
       "      <td>...</td>\n",
       "      <td>...</td>\n",
       "      <td>...</td>\n",
       "      <td>...</td>\n",
       "      <td>...</td>\n",
       "      <td>...</td>\n",
       "    </tr>\n",
       "    <tr>\n",
       "      <th>54750</th>\n",
       "      <td>2024-06-18</td>\n",
       "      <td>AQS</td>\n",
       "      <td>60658001</td>\n",
       "      <td>1</td>\n",
       "      <td>0.066</td>\n",
       "      <td>ppm</td>\n",
       "      <td>87.0</td>\n",
       "      <td>Rubidoux</td>\n",
       "      <td>17</td>\n",
       "      <td>100.0</td>\n",
       "      <td>87.0</td>\n",
       "      <td>40140.0</td>\n",
       "      <td>Riverside-San Bernardino-Ontario, CA</td>\n",
       "      <td>65</td>\n",
       "      <td>Riverside</td>\n",
       "      <td>33.999580</td>\n",
       "      <td>-117.416010</td>\n",
       "    </tr>\n",
       "    <tr>\n",
       "      <th>54751</th>\n",
       "      <td>2024-05-20</td>\n",
       "      <td>AQS</td>\n",
       "      <td>60190500</td>\n",
       "      <td>1</td>\n",
       "      <td>0.061</td>\n",
       "      <td>ppm</td>\n",
       "      <td>71.0</td>\n",
       "      <td>Table Mountain Air Monitoring Site</td>\n",
       "      <td>17</td>\n",
       "      <td>100.0</td>\n",
       "      <td>87.0</td>\n",
       "      <td>23420.0</td>\n",
       "      <td>Fresno, CA</td>\n",
       "      <td>19</td>\n",
       "      <td>Fresno</td>\n",
       "      <td>36.985119</td>\n",
       "      <td>-119.658339</td>\n",
       "    </tr>\n",
       "    <tr>\n",
       "      <th>54752</th>\n",
       "      <td>2024-08-15</td>\n",
       "      <td>AQS</td>\n",
       "      <td>60430006</td>\n",
       "      <td>1</td>\n",
       "      <td>0.036</td>\n",
       "      <td>ppm</td>\n",
       "      <td>33.0</td>\n",
       "      <td>Jerseydale</td>\n",
       "      <td>17</td>\n",
       "      <td>100.0</td>\n",
       "      <td>87.0</td>\n",
       "      <td>NaN</td>\n",
       "      <td>NaN</td>\n",
       "      <td>43</td>\n",
       "      <td>Mariposa</td>\n",
       "      <td>37.543770</td>\n",
       "      <td>-119.839570</td>\n",
       "    </tr>\n",
       "    <tr>\n",
       "      <th>54753</th>\n",
       "      <td>2024-11-27</td>\n",
       "      <td>AQS</td>\n",
       "      <td>60371701</td>\n",
       "      <td>1</td>\n",
       "      <td>0.023</td>\n",
       "      <td>ppm</td>\n",
       "      <td>21.0</td>\n",
       "      <td>Pomona</td>\n",
       "      <td>17</td>\n",
       "      <td>100.0</td>\n",
       "      <td>87.0</td>\n",
       "      <td>31080.0</td>\n",
       "      <td>Los Angeles-Long Beach-Anaheim, CA</td>\n",
       "      <td>37</td>\n",
       "      <td>Los Angeles</td>\n",
       "      <td>34.067030</td>\n",
       "      <td>-117.751400</td>\n",
       "    </tr>\n",
       "    <tr>\n",
       "      <th>54755</th>\n",
       "      <td>2024-08-14</td>\n",
       "      <td>AQS</td>\n",
       "      <td>60270101</td>\n",
       "      <td>1</td>\n",
       "      <td>0.057</td>\n",
       "      <td>ppm</td>\n",
       "      <td>58.0</td>\n",
       "      <td>Death Valley NP - Park Village</td>\n",
       "      <td>17</td>\n",
       "      <td>100.0</td>\n",
       "      <td>87.0</td>\n",
       "      <td>13860.0</td>\n",
       "      <td>Bishop, CA</td>\n",
       "      <td>27</td>\n",
       "      <td>Inyo</td>\n",
       "      <td>36.508611</td>\n",
       "      <td>-116.847778</td>\n",
       "    </tr>\n",
       "  </tbody>\n",
       "</table>\n",
       "<p>43113 rows × 17 columns</p>\n",
       "</div>"
      ],
      "text/plain": [
       "            Date Source   Site ID  POC  Daily Max 8-hour Ozone Concentration  \\\n",
       "1     2024-01-02    AQS  60010007    1                                 0.037   \n",
       "3     2024-01-04    AQS  60010007    1                                 0.026   \n",
       "4     2024-01-05    AQS  60010007    1                                 0.027   \n",
       "5     2024-01-06    AQS  60010007    1                                 0.031   \n",
       "6     2024-01-07    AQS  60010007    1                                 0.030   \n",
       "...          ...    ...       ...  ...                                   ...   \n",
       "54750 2024-06-18    AQS  60658001    1                                 0.066   \n",
       "54751 2024-05-20    AQS  60190500    1                                 0.061   \n",
       "54752 2024-08-15    AQS  60430006    1                                 0.036   \n",
       "54753 2024-11-27    AQS  60371701    1                                 0.023   \n",
       "54755 2024-08-14    AQS  60270101    1                                 0.057   \n",
       "\n",
       "      Units  Daily AQI Value                     Local Site Name  \\\n",
       "1       ppm             34.0                           Livermore   \n",
       "3       ppm             24.0                           Livermore   \n",
       "4       ppm             25.0                           Livermore   \n",
       "5       ppm             29.0                           Livermore   \n",
       "6       ppm             28.0                           Livermore   \n",
       "...     ...              ...                                 ...   \n",
       "54750   ppm             87.0                            Rubidoux   \n",
       "54751   ppm             71.0  Table Mountain Air Monitoring Site   \n",
       "54752   ppm             33.0                          Jerseydale   \n",
       "54753   ppm             21.0                              Pomona   \n",
       "54755   ppm             58.0      Death Valley NP - Park Village   \n",
       "\n",
       "       Daily Obs Count  Percent Complete  Method Code  CBSA Code  \\\n",
       "1                   17             100.0         47.0    41860.0   \n",
       "3                   17             100.0         47.0    41860.0   \n",
       "4                   17             100.0         47.0    41860.0   \n",
       "5                   17             100.0         47.0    41860.0   \n",
       "6                   17             100.0         47.0    41860.0   \n",
       "...                ...               ...          ...        ...   \n",
       "54750               17             100.0         87.0    40140.0   \n",
       "54751               17             100.0         87.0    23420.0   \n",
       "54752               17             100.0         87.0        NaN   \n",
       "54753               17             100.0         87.0    31080.0   \n",
       "54755               17             100.0         87.0    13860.0   \n",
       "\n",
       "                                  CBSA Name  County FIPS Code       County  \\\n",
       "1         San Francisco-Oakland-Hayward, CA                 1      Alameda   \n",
       "3         San Francisco-Oakland-Hayward, CA                 1      Alameda   \n",
       "4         San Francisco-Oakland-Hayward, CA                 1      Alameda   \n",
       "5         San Francisco-Oakland-Hayward, CA                 1      Alameda   \n",
       "6         San Francisco-Oakland-Hayward, CA                 1      Alameda   \n",
       "...                                     ...               ...          ...   \n",
       "54750  Riverside-San Bernardino-Ontario, CA                65    Riverside   \n",
       "54751                            Fresno, CA                19       Fresno   \n",
       "54752                                   NaN                43     Mariposa   \n",
       "54753    Los Angeles-Long Beach-Anaheim, CA                37  Los Angeles   \n",
       "54755                            Bishop, CA                27         Inyo   \n",
       "\n",
       "       Site Latitude  Site Longitude  \n",
       "1          37.687526     -121.784217  \n",
       "3          37.687526     -121.784217  \n",
       "4          37.687526     -121.784217  \n",
       "5          37.687526     -121.784217  \n",
       "6          37.687526     -121.784217  \n",
       "...              ...             ...  \n",
       "54750      33.999580     -117.416010  \n",
       "54751      36.985119     -119.658339  \n",
       "54752      37.543770     -119.839570  \n",
       "54753      34.067030     -117.751400  \n",
       "54755      36.508611     -116.847778  \n",
       "\n",
       "[43113 rows x 17 columns]"
      ]
     },
     "execution_count": 9,
     "metadata": {},
     "output_type": "execute_result"
    }
   ],
   "source": [
    "# Dropping nulls in ozone conc.\n",
    "df.dropna(subset=['Daily Max 8-hour Ozone Concentration'])"
   ]
  },
  {
   "cell_type": "code",
   "execution_count": 10,
   "id": "ea1838ad",
   "metadata": {},
   "outputs": [
    {
     "data": {
      "text/plain": [
       "np.int64(2321)"
      ]
     },
     "execution_count": 10,
     "metadata": {},
     "output_type": "execute_result"
    }
   ],
   "source": [
    "df['Daily AQI Value'].isna().sum() # Not dropping because it will not be used in analysis"
   ]
  },
  {
   "cell_type": "code",
   "execution_count": 11,
   "id": "4b9157db",
   "metadata": {},
   "outputs": [
    {
     "data": {
      "image/png": "[encoded data removed]",
      "text/plain": [
       "<Figure size 640x480 with 1 Axes>"
      ]
     },
     "metadata": {},
     "output_type": "display_data"
    }
   ],
   "source": [
    "# Checking Daily AQI Value\n",
    "# Plotting in a boxplot to check for outliers\n",
    "sns.boxplot(data=df,\n",
    "            x='Daily AQI Value');"
   ]
  },
  {
   "cell_type": "code",
   "execution_count": 12,
   "id": "dd5efa75",
   "metadata": {},
   "outputs": [
    {
     "data": {
      "image/png": "[encoded data removed]",
      "text/plain": [
       "<Figure size 640x480 with 1 Axes>"
      ]
     },
     "metadata": {},
     "output_type": "display_data"
    }
   ],
   "source": [
    "# Plotting daily obs count with a boxplot to check for outliers\n",
    "sns.boxplot(data=df,\n",
    "            x='Daily Obs Count');"
   ]
  },
  {
   "cell_type": "code",
   "execution_count": 13,
   "id": "5a46743a",
   "metadata": {},
   "outputs": [
    {
     "data": {
      "image/png": "[encoded data removed]",
      "text/plain": [
       "<Figure size 640x480 with 1 Axes>"
      ]
     },
     "metadata": {},
     "output_type": "display_data"
    }
   ],
   "source": [
    "# Remove outlier at 1000 and replot\n",
    "df = df[df['Daily Obs Count'] < 200]\n",
    "sns.boxplot(data=df,\n",
    "            x='Daily Obs Count');"
   ]
  },
  {
   "cell_type": "code",
   "execution_count": 14,
   "id": "bfbb3ac2",
   "metadata": {},
   "outputs": [],
   "source": [
    "# There are 2 distinct entries for Los Angeles and San Francisco in the county column\n",
    "# the other being entries being LA and SF\n",
    "# Replace accordingly\n",
    "df['County'] = df['County'].str.replace('LA', 'Los Angeles')\n",
    "df['County'] = df['County'].str.replace('SF', 'San Francisco')"
   ]
  },
  {
   "cell_type": "code",
   "execution_count": 15,
   "id": "e07cccec",
   "metadata": {},
   "outputs": [
    {
     "data": {
      "text/plain": [
       "array([ 47.,  nan,  87., 199.,  53.])"
      ]
     },
     "execution_count": 15,
     "metadata": {},
     "output_type": "execute_result"
    }
   ],
   "source": [
    "df['Method Code'].unique()"
   ]
  },
  {
   "cell_type": "markdown",
   "id": "bff5c7c4",
   "metadata": {},
   "source": [
    "### How does daily maximum 8-hour ozone concentration vary over time?\n",
    "\n",
    "Since the dataset records multiple daily ozone concentration values for different collection method and site, I aggregated over the date and found the average ozone concentration across all sites and collection method."
   ]
  },
  {
   "cell_type": "code",
   "execution_count": 16,
   "id": "f627992d",
   "metadata": {},
   "outputs": [
    {
     "data": {
      "image/png": "[encoded data removed]",
      "text/plain": [
       "<Figure size 640x480 with 1 Axes>"
      ]
     },
     "metadata": {},
     "output_type": "display_data"
    }
   ],
   "source": [
    "# Grouping ozone conc. readings by day and finding the average and resetting the index\n",
    "daily_ozone = df.groupby('Date')['Daily Max 8-hour Ozone Concentration'].mean().reset_index()\n",
    "daily_ozone.head()\n",
    "\n",
    "\n",
    "# Plot average ozone reading over time\n",
    "sns.lineplot(x='Date',\n",
    "             y='Daily Max 8-hour Ozone Concentration',\n",
    "             data=daily_ozone);\n"
   ]
  },
  {
   "cell_type": "markdown",
   "id": "da7d6827",
   "metadata": {},
   "source": [
    "### How does daily maximum 8-hour ozone concentration vary over regions?"
   ]
  },
  {
   "cell_type": "code",
   "execution_count": 17,
   "id": "f28d334b",
   "metadata": {},
   "outputs": [
    {
     "data": {
      "image/png": "[encoded data removed]",
      "text/plain": [
       "<Figure size 640x480 with 1 Axes>"
      ]
     },
     "metadata": {},
     "output_type": "display_data"
    }
   ],
   "source": [
    "# Top 5 Counties with the highest average ozone reading\n",
    "top_5 = df.groupby('County')\\\n",
    "    .agg(Avg_Ozone_Reading=('Daily Max 8-hour Ozone Concentration', 'mean'))\\\n",
    "        .reset_index()\\\n",
    "            .sort_values('Avg_Ozone_Reading')\\\n",
    "                .tail()\n",
    "top_5.plot(x='County', y='Avg_Ozone_Reading', kind='barh');\n",
    "        "
   ]
  },
  {
   "cell_type": "code",
   "execution_count": 18,
   "id": "ca91f979",
   "metadata": {},
   "outputs": [
    {
     "data": {
      "image/png": "[encoded data removed]",
      "text/plain": [
       "<Figure size 640x480 with 1 Axes>"
      ]
     },
     "metadata": {},
     "output_type": "display_data"
    }
   ],
   "source": [
    "# Bottom 5 Counties with the least average ozone reading\n",
    "bottom_5 = df.groupby('County')\\\n",
    "    .agg(Avg_Ozone_Reading=('Daily Max 8-hour Ozone Concentration', 'mean'))\\\n",
    "        .reset_index()\\\n",
    "            .sort_values('Avg_Ozone_Reading')\\\n",
    "                .head()\n",
    "bottom_5.plot(x='County', y='Avg_Ozone_Reading', kind='barh');"
   ]
  },
  {
   "cell_type": "code",
   "execution_count": 19,
   "id": "6765d056",
   "metadata": {},
   "outputs": [
    {
     "data": {
      "text/plain": [
       "162"
      ]
     },
     "execution_count": 19,
     "metadata": {},
     "output_type": "execute_result"
    }
   ],
   "source": [
    "df['Site ID'].nunique()"
   ]
  },
  {
   "cell_type": "code",
   "execution_count": 20,
   "id": "2048cc61",
   "metadata": {},
   "outputs": [
    {
     "data": {
      "application/vnd.plotly.v1+json": {
       "config": {
        "plotlyServerURL": "https://plot.ly"
       },
       "data": [
        {
         "customdata": [
          [
           "Alameda",
           60010007,
           "Livermore",
           0.029222222222222222
          ],
          [
           "Alameda",
           60010009,
           "Oakland",
           0.03080708661417323
          ],
          [
           "Alameda",
           60010011,
           "Oakland West",
           0.029968858131487888
          ],
          [
           "Alameda",
           60010013,
           "Berkeley- Aquatic Park",
           0.025284946236559143
          ],
          [
           "Alameda",
           60010016,
           "Livermore Portola",
           0.03775471698113208
          ],
          [
           "Alameda",
           60012001,
           "Hayward",
           0.03578735632183908
          ],
          [
           "Amador",
           60050002,
           "Jackson-Clinton Road",
           0.04376736111111111
          ],
          [
           "Butte",
           60070008,
           "Chico-East Avenue",
           0.0427923875432526
          ],
          [
           "Butte",
           60072003,
           "Paradise-Clark",
           0.043293233082706765
          ],
          [
           "Calaveras",
           60090001,
           "San Andreas-Gold Strike Road",
           0.043555147058823525
          ],
          [
           "Colusa",
           60111002,
           "Colusa-Sunrise Blvd",
           0.0399859649122807
          ],
          [
           "Contra Costa",
           60130002,
           "Concord",
           0.03375438596491228
          ],
          [
           "Contra Costa",
           60131002,
           "Bethel Island",
           0.038922727272727276
          ],
          [
           "Contra Costa",
           60131004,
           "San Pablo",
           0.031209523809523812
          ],
          [
           "Contra Costa",
           60132007,
           "San Ramon",
           0.037029850746268654
          ],
          [
           "El Dorado",
           60170012,
           "Echo Summit",
           0.052115107913669065
          ],
          [
           "El Dorado",
           60170020,
           "Cool",
           0.05174850299401197
          ],
          [
           "El Dorado",
           60172004,
           "PLACERVILLE- CANAL STREET",
           0.04334470989761092
          ],
          [
           "Fresno",
           60190007,
           "Fresno-Drummond",
           0.045118466898954705
          ],
          [
           "Fresno",
           60190011,
           "Fresno - Garland",
           0.03986909090909091
          ],
          [
           "Fresno",
           60190242,
           "Fresno-Sky Park",
           0.04548745519713262
          ],
          [
           "Fresno",
           60190500,
           "Table Mountain Air Monitoring Site",
           0.05027430555555555
          ],
          [
           "Fresno",
           60192009,
           "Tranquillity",
           0.04177007299270073
          ],
          [
           "Fresno",
           60194001,
           "Parlier",
           0.048744604316546765
          ],
          [
           "Fresno",
           60195001,
           "Clovis-Villa",
           0.04843661971830986
          ],
          [
           "Glenn",
           60210003,
           "Willows-Colusa Street",
           0.03948754448398577
          ],
          [
           "Humboldt",
           60231004,
           "Jacobs",
           0.032011406844106464
          ],
          [
           "Imperial",
           60250005,
           "Calexico-Ethel Street",
           0.05023389830508475
          ],
          [
           "Imperial",
           60251003,
           "El Centro-9th Street",
           0.05068095238095238
          ],
          [
           "Imperial",
           60254003,
           "Westmorland",
           0.048413194444444446
          ],
          [
           "Imperial",
           60254004,
           "Niland-English Road",
           0.05149723756906077
          ],
          [
           "Inyo",
           60270002,
           "WMRC/NCORE",
           0.043522336769759445
          ],
          [
           "Inyo",
           60270101,
           "Death Valley NP - Park Village",
           0.050508833922261485
          ],
          [
           "Inyo",
           60271023,
           "Bishop Tribe EMO",
           0.039699551569506726
          ],
          [
           "Kern",
           60290007,
           "Edison",
           0.05292418772563177
          ],
          [
           "Kern",
           60290008,
           "Maricopa",
           0.04675789473684211
          ],
          [
           "Kern",
           60290014,
           "Bakersfield-California",
           0.048112676056338025
          ],
          [
           "Kern",
           60290020,
           "Mojave-Pat Avenue",
           0.05053571428571429
          ],
          [
           "Kern",
           60290232,
           "Oildale",
           0.049975
          ],
          [
           "Kern",
           60292012,
           "Bakersfield-Muni",
           0.04674621212121212
          ],
          [
           "Kern",
           60295002,
           "Arvin-Di Giorgio",
           0.051054263565891475
          ],
          [
           "Kern",
           60296001,
           "Shafter",
           0.04616666666666667
          ],
          [
           "Kings",
           60311004,
           "Hanford-Irwin",
           0.04551320754716981
          ],
          [
           "Lake",
           60333002,
           "Lakeport-S. Main Street",
           0.03454063604240283
          ],
          [
           "Los Angeles",
           60370016,
           "Glendora",
           0.056492592592592594
          ],
          [
           "Los Angeles",
           60370113,
           "West Los Angeles",
           0.04025287356321839
          ],
          [
           "Los Angeles",
           60371103,
           "Los Angeles-North Main Street",
           0.04391489361702128
          ],
          [
           "Los Angeles",
           60371201,
           "Reseda",
           0.05122614840989399
          ],
          [
           "Los Angeles",
           60371302,
           "Compton",
           0.041014440433213
          ],
          [
           "Los Angeles",
           60371602,
           "Pico Rivera #2",
           0.045503649635036496
          ],
          [
           "Los Angeles",
           60371701,
           "Pomona",
           0.0519288256227758
          ],
          [
           "Los Angeles",
           60372005,
           "Pasadena",
           0.05129304029304029
          ],
          [
           "Los Angeles",
           60374009,
           "Signal Hill (LBSH)",
           0.03977419354838709
          ],
          [
           "Los Angeles",
           60374010,
           "North Hollywood (NOHO)",
           0.05021276595744681
          ],
          [
           "Los Angeles",
           60376012,
           "Santa Clarita",
           0.056546075085324235
          ],
          [
           "Los Angeles",
           60379035,
           "Lancaster - Fairgrounds",
           0.05328813559322034
          ],
          [
           "Madera",
           60390004,
           "Madera-Pump Yard",
           0.04497535211267605
          ],
          [
           "Madera",
           60392010,
           "Madera-City",
           0.04543877551020408
          ],
          [
           "Marin",
           60410001,
           "San Rafael",
           0.03213937282229965
          ],
          [
           "Mariposa",
           60430003,
           "Yosemite NP",
           0.048625429553264606
          ],
          [
           "Mariposa",
           60430006,
           "Jerseydale",
           0.04730538922155689
          ],
          [
           "Mendocino",
           60450008,
           "Ukiah-Gobbi Street",
           0.033219424460431655
          ],
          [
           "Mendocino",
           60450011,
           "Ukiah-Municipal Airport",
           0.03021212121212121
          ],
          [
           "Merced",
           60470003,
           "Merced-Coffee",
           0.025833333333333333
          ],
          [
           "Merced",
           60472024,
           "Merced-Vierra",
           0.047136690647482014
          ],
          [
           "Monterey",
           60530002,
           "Carmel Valley",
           0.03401038062283737
          ],
          [
           "Monterey",
           60530008,
           "King City 2",
           0.037722033898305085
          ],
          [
           "Monterey",
           60531003,
           "Salinas 3",
           0.03455639097744361
          ],
          [
           "Nevada",
           60570005,
           "Grass Valley-Litton Building",
           0.043007017543859646
          ],
          [
           "Orange",
           60590007,
           "Anaheim",
           0.03719655172413793
          ],
          [
           "Orange",
           60595001,
           "La Habra",
           0.04538078291814947
          ],
          [
           "Placer",
           60610003,
           "Auburn-Atwood",
           0.0448122866894198
          ],
          [
           "Placer",
           60610004,
           "Colfax-City Hall",
           0.04300359712230216
          ],
          [
           "Placer",
           60610006,
           "Roseville-N Sunrise Ave",
           0.043838129496402874
          ],
          [
           "Placer",
           60611004,
           "Tahoe City-Fairway Drive",
           0.04469611307420494
          ],
          [
           "Placer",
           60612003,
           "Lincoln-2885 Moore Road",
           0.03767368421052632
          ],
          [
           "Riverside",
           60650009,
           "Pechanga",
           0.0491685393258427
          ],
          [
           "Riverside",
           60650010,
           "Joshua Tree NP - Cottonwood Visitor Center",
           0.05019272727272728
          ],
          [
           "Riverside",
           60650012,
           "Banning Airport",
           0.056641638225255975
          ],
          [
           "Riverside",
           60650016,
           "Temecula",
           0.047815972222222225
          ],
          [
           "Riverside",
           60651016,
           "Morongo Air Monitoring Station",
           0.05863888888888889
          ],
          [
           "Riverside",
           60652007,
           "Indio Amistad High School",
           0.051923875432525954
          ],
          [
           "Riverside",
           60655001,
           "Palm Springs",
           0.05448965517241379
          ],
          [
           "Riverside",
           60658001,
           "Rubidoux",
           0.058118644067796606
          ],
          [
           "Riverside",
           60658005,
           "Mira Loma (Van Buren)",
           0.055399317406143345
          ],
          [
           "Riverside",
           60659001,
           "Lake Elsinore",
           0.0520140350877193
          ],
          [
           "Riverside",
           60659003,
           "Blythe-445 W Murphy Street",
           0.0405171102661597
          ],
          [
           "Sacramento",
           60670006,
           "Sacramento-Del Paso Manor",
           0.0449409594095941
          ],
          [
           "Sacramento",
           60670010,
           "Sacramento-1309 T Street",
           0.040125
          ],
          [
           "Sacramento",
           60670011,
           "Elk Grove-Bruceville",
           0.026799242424242423
          ],
          [
           "Sacramento",
           60670012,
           "Folsom-Natoma St.",
           0.036896296296296295
          ],
          [
           "Sacramento",
           60675003,
           "Sloughhouse",
           0.03588214285714286
          ],
          [
           "San Benito",
           60690002,
           "Hollister",
           0.036650735294117644
          ],
          [
           "San Benito",
           60690003,
           "Pinnacles NP",
           0.04265248226950355
          ],
          [
           "San Bernardino",
           60710001,
           "Barstow",
           0.05177133105802048
          ],
          [
           "San Bernardino",
           60710005,
           "Crestline",
           0.05971527777777778
          ],
          [
           "San Bernardino",
           60710306,
           "Victorville-Park Avenue",
           0.054855670103092787
          ],
          [
           "San Bernardino",
           60711234,
           "Trona - Athol/Telescope #2",
           0.04911832061068702
          ],
          [
           "San Bernardino",
           60712002,
           "Fontana",
           0.05405882352941176
          ],
          [
           "San Bernardino",
           60714001,
           "Hesperia-Olive Street",
           0.05531578947368421
          ],
          [
           "San Bernardino",
           60714003,
           "Redlands",
           0.059052631578947364
          ],
          [
           "San Bernardino",
           60719002,
           "Joshua Tree NP",
           0.05555147058823529
          ],
          [
           "San Bernardino",
           60719004,
           "San Bernardino",
           0.05788652482269504
          ],
          [
           "San Diego",
           60730001,
           "Chula Vista",
           0.0431859649122807
          ],
          [
           "San Diego",
           60731006,
           "Alpine",
           0.05381978798586572
          ],
          [
           "San Diego",
           60731008,
           "Camp Pendleton",
           0.04245692883895131
          ],
          [
           "San Diego",
           60731014,
           "Donovan",
           0.046159010600706714
          ],
          [
           "San Diego",
           60731016,
           "San Diego - Kearny Villa Rd.",
           0.04531095406360424
          ],
          [
           "San Diego",
           60731022,
           "El Cajon - Lexington Elementary School",
           0.048053191489361706
          ],
          [
           "San Diego",
           60731026,
           "San Diego - Sherman Elementary School",
           0.041183673469387755
          ],
          [
           "San Diego",
           60731201,
           "Pala Airpad",
           0.031163701067615658
          ],
          [
           "San Diego",
           60739991,
           "La Posta Band of Indians",
           0.05128174603174603
          ],
          [
           "San Francisco",
           60750005,
           "San Francisco",
           0.028128301886792453
          ],
          [
           "San Joaquin",
           60771003,
           "Stockton - University Park",
           0.037875
          ],
          [
           "San Joaquin",
           60773005,
           "Tracy-Airport",
           0.038660516605166055
          ],
          [
           "San Luis Obispo",
           60790005,
           "Paso Robles",
           0.03898239436619718
          ],
          [
           "San Luis Obispo",
           60793003,
           "Morro Bay Kings Ave",
           0.03502877697841726
          ],
          [
           "San Luis Obispo",
           60794002,
           "Nipomo Regional Park (NRP)",
           0.03545787545787546
          ],
          [
           "San Luis Obispo",
           60798002,
           "Atascadero",
           0.037295774647887324
          ],
          [
           "San Luis Obispo",
           60798005,
           "Red Hills",
           0.04770629370629371
          ],
          [
           "San Luis Obispo",
           60798006,
           "Carrizo Plains",
           0.04552397260273972
          ],
          [
           "San Mateo",
           60811001,
           "Redwood City",
           0.031751824817518245
          ],
          [
           "Santa Barbara",
           60830011,
           "Santa Barbara",
           0.03087279151943463
          ],
          [
           "Santa Barbara",
           60831009,
           "Santa Maria",
           0.03249819494584838
          ],
          [
           "Santa Barbara",
           60831013,
           "Lompoc HSP",
           0.03128571428571429
          ],
          [
           "Santa Barbara",
           60831014,
           "Paradise Road",
           0.04261904761904762
          ],
          [
           "Santa Barbara",
           60831021,
           "Carpinteria",
           0.02081785714285714
          ],
          [
           "Santa Barbara",
           60831025,
           "Los Flores Canyon #1",
           0.03735036496350365
          ],
          [
           "Santa Barbara",
           60832004,
           "Lompoc H Street",
           0.03423046875
          ],
          [
           "Santa Barbara",
           60832011,
           "Goleta",
           0.034494584837545125
          ],
          [
           "Santa Barbara",
           60833001,
           "Santa Ynez",
           0.03635483870967742
          ],
          [
           "Santa Clara",
           60850002,
           "Gilroy",
           0.035781553398058254
          ],
          [
           "Santa Clara",
           60850005,
           "San Jose - Jackson",
           0.034855555555555556
          ],
          [
           "Santa Clara",
           60851001,
           "Los Gatos",
           0.03764754098360656
          ],
          [
           "Santa Clara",
           60852006,
           "San Martin",
           0.04052348993288591
          ],
          [
           "Santa Cruz",
           60870007,
           "Santa Cruz",
           0.034273972602739726
          ],
          [
           "Shasta",
           60890004,
           "Redding - Health Department",
           0.04111787072243346
          ],
          [
           "Shasta",
           60890009,
           "Shasta Lake - Lake Blvd",
           0.04139426523297491
          ],
          [
           "Shasta",
           60893003,
           "Lassen Volcanic NP",
           0.044023923444976076
          ],
          [
           "Siskiyou",
           60932001,
           "Yreka",
           0.040294964028776976
          ],
          [
           "Solano",
           60950004,
           "Vallejo",
           0.03478423236514523
          ],
          [
           "Solano",
           60950005,
           "Fairfield",
           0.03415525114155251
          ],
          [
           "Solano",
           60953003,
           "Vacaville-Ulatis Drive",
           0.03812671232876712
          ],
          [
           "Sonoma",
           60970004,
           "Sebastopol",
           0.030186046511627908
          ],
          [
           "Stanislaus",
           60990005,
           "Modesto-14th Street",
           0.042412186379928316
          ],
          [
           "Stanislaus",
           60990006,
           "Turlock",
           0.04615107913669065
          ],
          [
           "Sutter",
           61010003,
           "Yuba City",
           0.04115384615384615
          ],
          [
           "Sutter",
           61010004,
           "Sutter Buttes (seasonal)",
           0.05201149425287357
          ],
          [
           "Tehama",
           61030004,
           "Tuscan Butte (seasonal)",
           0.05092737430167597
          ],
          [
           "Tehama",
           61030007,
           "Red Bluff-Walnut St. District Office",
           0.03353472222222222
          ],
          [
           "Tulare",
           61070006,
           "Sequoia & Kings Canyon NPs - Lower Kaweah",
           0.06058045977011495
          ],
          [
           "Tulare",
           61070009,
           "Sequoia & Kings Canyon NPs - Ash Mountain",
           0.05267910447761194
          ],
          [
           "Tulare",
           61072003,
           "Visalia-W. Ashland Avenue",
           0.04903886925795053
          ],
          [
           "Tulare",
           61072010,
           "Porterville",
           0.048871886120996445
          ],
          [
           "Tuolumne",
           61090005,
           "Sonora-Barretta Street",
           0.044023411371237456
          ],
          [
           "Ventura",
           61110007,
           "Thousand Oaks",
           0.044417910447761194
          ],
          [
           "Ventura",
           61110009,
           "Piru - Pacific",
           0.044914590747330965
          ],
          [
           "Ventura",
           61111004,
           "Ojai - East Ojai Ave",
           0.04368965517241379
          ],
          [
           "Ventura",
           61112002,
           "Simi Valley-Cochran Street",
           0.04921201413427562
          ],
          [
           "Ventura",
           61113001,
           "El Rio-Rio Mesa School #2",
           0.038341216216216216
          ],
          [
           "Yolo",
           61130004,
           "Davis-UCD Campus",
           0.0401067615658363
          ],
          [
           "Yolo",
           61131003,
           "Woodland-Gibson Road",
           0.04093189964157706
          ]
         ],
         "hovertemplate": "Site Latitude=%{lat}<br>Site Longitude=%{lon}<br>County=%{customdata[0]}<br>Site ID=%{customdata[1]}<br>Local Site Name=%{customdata[2]}<br>Avg_Ozone_Reading=%{marker.color}<extra></extra>",
         "lat": {
          "bdata": "KZMa2gDYQkCw5gDBHN9CQHszar5K6EJAPMthr7DuQkA/NV66SdhCQONV1jbF00JA6rRug9orQ0A2AvG6fuFDQCl5dY4B4UNAS1mGONYZQ0B5Xb9gN5hDQMDQI0bP90JAck2BzM4AQ0AJih9j7vpCQP9Z8+Mv30JApI0j1uJnQ0BhO+JXCnJDQHb9gt2wXUNA0xbX+ExaQkBcd/NUh2RCQKFJYkm5a0JAjnBpXRh+QkDul+pILlFCQOCgvfp4TEJAtd5vtONoQkBjKCfaVcRDQPQY7oZtY0RAyhr1EI1WQEBangd3Z2VAQFyPwvUohEBAbojxmlebQEBhGLDkKq5CQGSxTSoaQUJAjAQUgVquQkBkIqXZPKxBQMufbwuWhkFAqyFxj6WtQUCfjscMVIZBQG7A54cRuEFAB3sTQ3KqQUC77UJznZ5BQJvIt4p1wEFABirj32coQkBhcFtMbIJDQLyWkA96EkFA0T/BxYoGQUBVAGoFhghBQC/dJAaBGUFAH937tmDzQEAOnsguUQFBQOrsZHCUCEFAjLlrCfkQQUAmlDpjmOVAQDOyuQVLF0FAN/3ZjxQxQUBn8PeL2VxBQKJFtvP9bkJAn1voSgR6QkBxyXGndPxCQJ7vp8ZL20JA4UVfQZrFQkDtKqT8pJJDQHj9kwkJkENAxqNUwhOkQkBmTSzwFaVCQEFmi+qtPUJA7a844skaQkDX4mKL3VhCQGGrCZPinUNAp7OTwVHqQEA1RuuoavZAQLnCu1zEd0NATRuUhNKMQ0BrYKsEi19DQFP2vAhAlUNAYvlEjxhvQ0Dg17S0U7lAQM0R5W2l30BA5xiQvd71QECWW3dVoMpAQP7NMFrs+EBA8L+V7NjcQED+1HjpJu1AQEK/yjzy/0BAfGZ5uYj/QEAYCW05l9ZAQFHaG3xhzkBAQPZvT5BOQ0B/3lSkwkhDQC+ISE27JkNA7ZxmgXZXQ0BF2PD0Sj9DQGbCtVn1a0JAPQ/uzto9QkCRfvs6cHJBQCzUmuYdH0FAnGF2LGdBQUCzB1qBIeNBQBR5knTNDEFAfjoeM1A1QUAWpBmLpgdBQDBkdavnCEFAsnvun6cNQUCYxbKJzFBAQFtDhRPRa0BAI93PKcibQECOWItPAUpAQE5QSjFAbEBA8GBIdxBlQEBzh3gU51pAQIN+JnFprkBAoDU//tJcQEBCQL6ECuJCQMxG5/wU+0JAbw1slWDXQkDp8uZwrc5BQPPLYIxIrkFA65Cb4QaEQUAIclDCTL9BQG6LMhtk0kFAWp4Hd2etQUAwEATI0L1CQNszwVTBNkFAko6GXQFyQUAc8ZhV2FxBQD2rah1VRUFA+S49NZczQUDYqePMrz5BQFBD9hWkUUFATunBeAY5QUDQJRx6i01BQNiDSfHxf0JAh+C4jJusQkBCWmPQCZ1CQJ5+UBcpikJA+rIGbt19QkCURu2oakZEQEZeZG05WERAYhVvZB5FRECt3AvMCt1EQDhOCvMeDUNASwSqfxAdQ0DEsS5uoy1DQH0iT5KuM0NAY9F0djLSQkBZiuQrgb5CQH2PeUzDkUNAuXjuLlCaQ0BCmUaTiyFEQODzwwjhFURARZ3g4XZIQkDCL/Xzpj5CQJYhjnVxJ0JAf+3JCRMEQkD27o/3qv1CQAfRWtHmGkFAdLLUer8zQUCoUrMHWjlBQEeum1JeI0FAMevFUE4gQUBxrIvbaERDQOLkfoeiVENA",
          "dtype": "f8"
         },
         "legendgroup": "",
         "lon": {
          "bdata": "5/1/nDByXsCH3Aw34IpewOvHJvkRkl7AIorJG2CTXsClTkATYXFewF1Std0Egl7Ak40HW+wwXsA50a5CynVewFQ6WP/nZl7AJc6KqIkrXsAnvW987X9ewDeq04GsgV7Ari08LxVpXsCY9s391ZZewDQUd7zJe17AVoFaDB4CXsDfRblEN0BewOQxA5XxM17AnN7F+3HvXcAsvMtFfPFdwEpiSbn7913ASGleOyLqXcDOT3EceBhewIJV9fI74F3AnDHMCdrtXcDAPc+fNoxewGH9n8N8C1/AcOtunureXMDja88sCeRcwFnd6jnp51zAbcoV3uXiXMCoxHWMK5VdwCwRqP5BNl3A2KlP9beaXcCTOgFNhLZdwMstrYbE2V3AfNP02QHEXcDuztptF4xdwN7/xwkTwV3AoRFsXP+/XcA/qfbpeLJdwEMuWmFy0V3AZW1TPC7pXcAqHaz/c7pewOZ0WUxsdl3A98ySADWdXcB0B7EzhY5dwHwnZr0Yol3AhetRuB6NXcCq8dJNYoRdwLmNBvAWcF3ARwN4CySIXcCo/6z58YpdwFLRWPs7l13ANs07TtGhXcAbguMybotdwL1yvW2mAF7ANZvHYTACXsCCctu+R6FewNobfGEy7V3A+SzPg7v1XcB+b9Of/cxewJWIS+n0zF7AUI4CRMEbXsApIO1/gBtewD7L8+Dubl7AbApkdhZIXsDlYgys42dewFhZ2xSPQ17AmbuWkA98XcAiN8MN+HxdwI5AvK5fRl7AfygplAs9XsAFhqxu9VBewBPOPnyGCV7AOWBXk6dVXsCu9NpsrEVdwIuqX+l89FzAzSN/MPA2XcAsLSP1nkRdwKLQsu4fNV3AHFw65jwNXcDGM2jonyJdwMYzaOifWl3AOiNKe4NfXcBT6LzGLlVdwOrPfqSIplzAF56Xio1XXsAo1T4dj19ewIC6gQLvWl7ASiandoZKXsD+Cpkrg01ewGx4eqUsV17AYFlpUgpKXsCWeEDZlEFdwDPEsS5uUV3AjWK5pdVUXcDdtYR80FddwITTghd9X13AajANw0dSXcDsF+yGbUldwLubpzrkGF3Ay4KJP4pRXcCC5QgZyENdwLovZ7YrMV3ApwTEJFxZXcCfWKfK9zpdwGh4swbvR13AelbSim88XcAqUmFsIUldwAamDFTGRV3AdxVSflIXXcCQatjviZlewL2o3a8CUl7AL2mM1lFcXsBmFqHYCipewPlqR3GONV7AJxQi4BAgXsDi5H6HoipewH/7OnDODl7AFOgTeZICXsA0v5oDBI1ewJhrfuk87F3AAz0vubMbXsBQj20ZcBtewOYF2Een8l3AW5iFdk7dXcDQYb68AANewOF6FK5HHV7AaQBvgQT1XcBh/DTuzQRewDViZp/HZF7AX9BCAkZ5XsBdbcX+sn5ewIRlbOhmZl7AM1AZ/z5/XsAcmUf+YJhewIuHo4y9mV7A8Nx7uORkXsCsG++OjKhewOhOsP86j17AvLILBteEXsDU8ZiBynxewNUgzO1etF7AnFJeK6E/XsBxzLIngTVewJazfE6WZ17AZTiez4B0XsCRC87g74VewJyKVBhbkF7AWYY41sWxXcCeXinLELVdwMe6uI0G1F3AP6w3aoXDXcCPN/ktOhhewOp3YWu2t13AgJpattazXcAm5IOezc5dwALxun7Bq13ADtjV5CnJXcB9rrZif3FewM0GmWTkbl7A",
          "dtype": "f8"
         },
         "marker": {
          "color": {
           "bdata": "dSYLI27snT9KvviV5IufPwf2SgYosJ4/siarBEzkmT8fS2gVllSjPzVzBmq4UqI/vnk18axopj/INAhC4uilP8fndNiHKqY/GVdhONxMpj+jyjFXCnmkP1u4oT9BSKE/QDxqAa7toz+EsVewY/WfPxOq3JuT9aI/psI72NSuqj+q1fOfx36qP1kA7h5HMaY/j6eNh8QZpz/IziazuGmkP9Nf5rghSqc/zmRhxI29qT+uDekS42KlP0nEyoIN9ag/V+Q8Q6/MqD/G7VAgtjekP2cg/ZLMY6A/Yuq97EG4qT/gPAOS2vKpP+zkqj2dyag/AA1jjthdqj+8qiRKj0imP+PdtTtL3Kk/yVRQ539TpD8t3eUO4RirP+D3cpmm8Kc/KrpehDmiqD+XN0Yw0d+pPxE2PL1Slqk/IoOLmB7vpz/+eazQyCOqPz1R/0Yoo6c/wP3m04FNpz8qzV5sT6+hPyiJTduY7Kw/wU8MTwacpD8A7MhPA3ymPwq3PVBQOqo/bxamQNj/pD9/7w8eQUynPxL9iT9qlqo/g1wk1RRDqj/Dugd5SF2kP+wDQtd8tak/StFqbpvzrD/zf0YflUirPxdq5mQCB6c/176STcBDpz/FF19mknSgP5nVXqtu5ag/fCRDd2k4qD/LikzrIgKhP1YFMiLt754/dNpApw10mj/LkovhTCKoP2TL/wDPaaE/ABjda01Qoz+HWDsSYLGhP1bhsgsEBaY/37hbKm0Loz/qKgBlJjynP1t/lNOi8aY/3lSARpEEpj9xfQKJ83GmP1710q9o4qY/AkU1E/dJoz8YDctoniypP3BORHTcsqk/qOaJ/yEArT/AftfJVXuoP35lGpzqBa4/foK6JcSVqj+yJd9tEearP+k7Hhe6wa0/4ND1oExdrD8R/kRnlaGqP8QMC5+ovqQ/EoTUXYACpz8lBoGVQ4ukP3ErFLdCcZs/7UrfQxLkoj9w5SnsJF+iP13Y7Jriw6I/XKjh0IvWpT/0d4ebxYGqP7UUQToAk64/8ZYv2goWrD9Uj1BZCSapP0f1PB6Zras/oNl75VlSrD9Rpr+CJTyuP3Gk1wo+caw/yzH8dU2jrT/WjuOFeBymP//LjWpEjqs/mSu0Ieq8pT+xOeRhJ6KnPzcdtVP/Mqc/j5nUi22aqD9cPlzFBhalP9qDoZNg6Z8/+x4t3JlBqj/UfMhiqs2cPzEIrBxaZKM/F2rurE/Loz/rXdgZgPWjP4YVFbdK76E/rFX03ognoj/rh8iIbhijP3lVkJb1bKg/aYkGC+tOpz+O71tyxkGgPzQXpvcdnZ8/EGLxeJqjoD9W12BfrgSgP4nDa+8p0qU/6c1nvkZRlT9iGQZIlh+jPy2yne+nhqE/hl+IM0apoT83bJ72GZ2iPxUbSrP1UaI/9NljXpbYoT8/TJnaiUajPyGL9q9+v6Q/p5PdrluMoT9yaRHMZg2lP6nM1Q6hMaU/sCTgvk2Kpj9x6WShiqGkP5p62Sg9z6E/M35HDcx8oT82sxwtWIWjP/p8QEoX6Z4/pkTo0gy3pT9JZyI/HaGnP4i3q+4dEqU/AxSqJUChqj82ljEeJxOqP6Mkc452K6E/4IP66mYErz8S7NNtwfiqPw81ZGefG6k/ncIqYbwFqT9iFTKQPIqmPyyndcHxvaY/Qvu+lAv/pj+HL0eQfV6mP2jTjS5RMqk/X5t5u3Whoz82J4ya34ikP6C/paQG9aQ/",
           "dtype": "f8"
          },
          "coloraxis": "coloraxis"
         },
         "mode": "markers",
         "name": "",
         "showlegend": false,
         "subplot": "map",
         "type": "scattermap"
        }
       ],
       "layout": {
        "coloraxis": {
         "colorbar": {
          "title": {
           "text": "Avg_Ozone_Reading"
          }
         },
         "colorscale": [
          [
           0,
           "rgb(255,255,204)"
          ],
          [
           0.125,
           "rgb(255,237,160)"
          ],
          [
           0.25,
           "rgb(254,217,118)"
          ],
          [
           0.375,
           "rgb(254,178,76)"
          ],
          [
           0.5,
           "rgb(253,141,60)"
          ],
          [
           0.625,
           "rgb(252,78,42)"
          ],
          [
           0.75,
           "rgb(227,26,28)"
          ],
          [
           0.875,
           "rgb(189,0,38)"
          ],
          [
           1,
           "rgb(128,0,38)"
          ]
         ]
        },
        "height": 600,
        "legend": {
         "tracegroupgap": 0
        },
        "map": {
         "center": {
          "lat": 36.7783,
          "lon": -119.4179
         },
         "domain": {
          "x": [
           0,
           1
          ],
          "y": [
           0,
           1
          ]
         },
         "zoom": 8
        },
        "mapbox": {
         "center": {
          "lat": 36.7783,
          "lon": -119.4179
         },
         "style": "open-street-map",
         "zoom": 8
        },
        "margin": {
         "t": 60
        },
        "template": {
         "data": {
          "bar": [
           {
            "error_x": {
             "color": "#2a3f5f"
            },
            "error_y": {
             "color": "#2a3f5f"
            },
            "marker": {
             "line": {
              "color": "#E5ECF6",
              "width": 0.5
             },
             "pattern": {
              "fillmode": "overlay",
              "size": 10,
              "solidity": 0.2
             }
            },
            "type": "bar"
           }
          ],
          "barpolar": [
           {
            "marker": {
             "line": {
              "color": "#E5ECF6",
              "width": 0.5
             },
             "pattern": {
              "fillmode": "overlay",
              "size": 10,
              "solidity": 0.2
             }
            },
            "type": "barpolar"
           }
          ],
          "carpet": [
           {
            "aaxis": {
             "endlinecolor": "#2a3f5f",
             "gridcolor": "white",
             "linecolor": "white",
             "minorgridcolor": "white",
             "startlinecolor": "#2a3f5f"
            },
            "baxis": {
             "endlinecolor": "#2a3f5f",
             "gridcolor": "white",
             "linecolor": "white",
             "minorgridcolor": "white",
             "startlinecolor": "#2a3f5f"
            },
            "type": "carpet"
           }
          ],
          "choropleth": [
           {
            "colorbar": {
             "outlinewidth": 0,
             "ticks": ""
            },
            "type": "choropleth"
           }
          ],
          "contour": [
           {
            "colorbar": {
             "outlinewidth": 0,
             "ticks": ""
            },
            "colorscale": [
             [
              0,
              "#0d0887"
             ],
             [
              0.1111111111111111,
              "#46039f"
             ],
             [
              0.2222222222222222,
              "#7201a8"
             ],
             [
              0.3333333333333333,
              "#9c179e"
             ],
             [
              0.4444444444444444,
              "#bd3786"
             ],
             [
              0.5555555555555556,
              "#d8576b"
             ],
             [
              0.6666666666666666,
              "#ed7953"
             ],
             [
              0.7777777777777778,
              "#fb9f3a"
             ],
             [
              0.8888888888888888,
              "#fdca26"
             ],
             [
              1,
              "#f0f921"
             ]
            ],
            "type": "contour"
           }
          ],
          "contourcarpet": [
           {
            "colorbar": {
             "outlinewidth": 0,
             "ticks": ""
            },
            "type": "contourcarpet"
           }
          ],
          "heatmap": [
           {
            "colorbar": {
             "outlinewidth": 0,
             "ticks": ""
            },
            "colorscale": [
             [
              0,
              "#0d0887"
             ],
             [
              0.1111111111111111,
              "#46039f"
             ],
             [
              0.2222222222222222,
              "#7201a8"
             ],
             [
              0.3333333333333333,
              "#9c179e"
             ],
             [
              0.4444444444444444,
              "#bd3786"
             ],
             [
              0.5555555555555556,
              "#d8576b"
             ],
             [
              0.6666666666666666,
              "#ed7953"
             ],
             [
              0.7777777777777778,
              "#fb9f3a"
             ],
             [
              0.8888888888888888,
              "#fdca26"
             ],
             [
              1,
              "#f0f921"
             ]
            ],
            "type": "heatmap"
           }
          ],
          "histogram": [
           {
            "marker": {
             "pattern": {
              "fillmode": "overlay",
              "size": 10,
              "solidity": 0.2
             }
            },
            "type": "histogram"
           }
          ],
          "histogram2d": [
           {
            "colorbar": {
             "outlinewidth": 0,
             "ticks": ""
            },
            "colorscale": [
             [
              0,
              "#0d0887"
             ],
             [
              0.1111111111111111,
              "#46039f"
             ],
             [
              0.2222222222222222,
              "#7201a8"
             ],
             [
              0.3333333333333333,
              "#9c179e"
             ],
             [
              0.4444444444444444,
              "#bd3786"
             ],
             [
              0.5555555555555556,
              "#d8576b"
             ],
             [
              0.6666666666666666,
              "#ed7953"
             ],
             [
              0.7777777777777778,
              "#fb9f3a"
             ],
             [
              0.8888888888888888,
              "#fdca26"
             ],
             [
              1,
              "#f0f921"
             ]
            ],
            "type": "histogram2d"
           }
          ],
          "histogram2dcontour": [
           {
            "colorbar": {
             "outlinewidth": 0,
             "ticks": ""
            },
            "colorscale": [
             [
              0,
              "#0d0887"
             ],
             [
              0.1111111111111111,
              "#46039f"
             ],
             [
              0.2222222222222222,
              "#7201a8"
             ],
             [
              0.3333333333333333,
              "#9c179e"
             ],
             [
              0.4444444444444444,
              "#bd3786"
             ],
             [
              0.5555555555555556,
              "#d8576b"
             ],
             [
              0.6666666666666666,
              "#ed7953"
             ],
             [
              0.7777777777777778,
              "#fb9f3a"
             ],
             [
              0.8888888888888888,
              "#fdca26"
             ],
             [
              1,
              "#f0f921"
             ]
            ],
            "type": "histogram2dcontour"
           }
          ],
          "mesh3d": [
           {
            "colorbar": {
             "outlinewidth": 0,
             "ticks": ""
            },
            "type": "mesh3d"
           }
          ],
          "parcoords": [
           {
            "line": {
             "colorbar": {
              "outlinewidth": 0,
              "ticks": ""
             }
            },
            "type": "parcoords"
           }
          ],
          "pie": [
           {
            "automargin": true,
            "type": "pie"
           }
          ],
          "scatter": [
           {
            "fillpattern": {
             "fillmode": "overlay",
             "size": 10,
             "solidity": 0.2
            },
            "type": "scatter"
           }
          ],
          "scatter3d": [
           {
            "line": {
             "colorbar": {
              "outlinewidth": 0,
              "ticks": ""
             }
            },
            "marker": {
             "colorbar": {
              "outlinewidth": 0,
              "ticks": ""
             }
            },
            "type": "scatter3d"
           }
          ],
          "scattercarpet": [
           {
            "marker": {
             "colorbar": {
              "outlinewidth": 0,
              "ticks": ""
             }
            },
            "type": "scattercarpet"
           }
          ],
          "scattergeo": [
           {
            "marker": {
             "colorbar": {
              "outlinewidth": 0,
              "ticks": ""
             }
            },
            "type": "scattergeo"
           }
          ],
          "scattergl": [
           {
            "marker": {
             "colorbar": {
              "outlinewidth": 0,
              "ticks": ""
             }
            },
            "type": "scattergl"
           }
          ],
          "scattermap": [
           {
            "marker": {
             "colorbar": {
              "outlinewidth": 0,
              "ticks": ""
             }
            },
            "type": "scattermap"
           }
          ],
          "scattermapbox": [
           {
            "marker": {
             "colorbar": {
              "outlinewidth": 0,
              "ticks": ""
             }
            },
            "type": "scattermapbox"
           }
          ],
          "scatterpolar": [
           {
            "marker": {
             "colorbar": {
              "outlinewidth": 0,
              "ticks": ""
             }
            },
            "type": "scatterpolar"
           }
          ],
          "scatterpolargl": [
           {
            "marker": {
             "colorbar": {
              "outlinewidth": 0,
              "ticks": ""
             }
            },
            "type": "scatterpolargl"
           }
          ],
          "scatterternary": [
           {
            "marker": {
             "colorbar": {
              "outlinewidth": 0,
              "ticks": ""
             }
            },
            "type": "scatterternary"
           }
          ],
          "surface": [
           {
            "colorbar": {
             "outlinewidth": 0,
             "ticks": ""
            },
            "colorscale": [
             [
              0,
              "#0d0887"
             ],
             [
              0.1111111111111111,
              "#46039f"
             ],
             [
              0.2222222222222222,
              "#7201a8"
             ],
             [
              0.3333333333333333,
              "#9c179e"
             ],
             [
              0.4444444444444444,
              "#bd3786"
             ],
             [
              0.5555555555555556,
              "#d8576b"
             ],
             [
              0.6666666666666666,
              "#ed7953"
             ],
             [
              0.7777777777777778,
              "#fb9f3a"
             ],
             [
              0.8888888888888888,
              "#fdca26"
             ],
             [
              1,
              "#f0f921"
             ]
            ],
            "type": "surface"
           }
          ],
          "table": [
           {
            "cells": {
             "fill": {
              "color": "#EBF0F8"
             },
             "line": {
              "color": "white"
             }
            },
            "header": {
             "fill": {
              "color": "#C8D4E3"
             },
             "line": {
              "color": "white"
             }
            },
            "type": "table"
           }
          ]
         },
         "layout": {
          "annotationdefaults": {
           "arrowcolor": "#2a3f5f",
           "arrowhead": 0,
           "arrowwidth": 1
          },
          "autotypenumbers": "strict",
          "coloraxis": {
           "colorbar": {
            "outlinewidth": 0,
            "ticks": ""
           }
          },
          "colorscale": {
           "diverging": [
            [
             0,
             "#8e0152"
            ],
            [
             0.1,
             "#c51b7d"
            ],
            [
             0.2,
             "#de77ae"
            ],
            [
             0.3,
             "#f1b6da"
            ],
            [
             0.4,
             "#fde0ef"
            ],
            [
             0.5,
             "#f7f7f7"
            ],
            [
             0.6,
             "#e6f5d0"
            ],
            [
             0.7,
             "#b8e186"
            ],
            [
             0.8,
             "#7fbc41"
            ],
            [
             0.9,
             "#4d9221"
            ],
            [
             1,
             "#276419"
            ]
           ],
           "sequential": [
            [
             0,
             "#0d0887"
            ],
            [
             0.1111111111111111,
             "#46039f"
            ],
            [
             0.2222222222222222,
             "#7201a8"
            ],
            [
             0.3333333333333333,
             "#9c179e"
            ],
            [
             0.4444444444444444,
             "#bd3786"
            ],
            [
             0.5555555555555556,
             "#d8576b"
            ],
            [
             0.6666666666666666,
             "#ed7953"
            ],
            [
             0.7777777777777778,
             "#fb9f3a"
            ],
            [
             0.8888888888888888,
             "#fdca26"
            ],
            [
             1,
             "#f0f921"
            ]
           ],
           "sequentialminus": [
            [
             0,
             "#0d0887"
            ],
            [
             0.1111111111111111,
             "#46039f"
            ],
            [
             0.2222222222222222,
             "#7201a8"
            ],
            [
             0.3333333333333333,
             "#9c179e"
            ],
            [
             0.4444444444444444,
             "#bd3786"
            ],
            [
             0.5555555555555556,
             "#d8576b"
            ],
            [
             0.6666666666666666,
             "#ed7953"
            ],
            [
             0.7777777777777778,
             "#fb9f3a"
            ],
            [
             0.8888888888888888,
             "#fdca26"
            ],
            [
             1,
             "#f0f921"
            ]
           ]
          },
          "colorway": [
           "#636efa",
           "#EF553B",
           "#00cc96",
           "#ab63fa",
           "#FFA15A",
           "#19d3f3",
           "#FF6692",
           "#B6E880",
           "#FF97FF",
           "#FECB52"
          ],
          "font": {
           "color": "#2a3f5f"
          },
          "geo": {
           "bgcolor": "white",
           "lakecolor": "white",
           "landcolor": "#E5ECF6",
           "showlakes": true,
           "showland": true,
           "subunitcolor": "white"
          },
          "hoverlabel": {
           "align": "left"
          },
          "hovermode": "closest",
          "mapbox": {
           "style": "light"
          },
          "paper_bgcolor": "white",
          "plot_bgcolor": "#E5ECF6",
          "polar": {
           "angularaxis": {
            "gridcolor": "white",
            "linecolor": "white",
            "ticks": ""
           },
           "bgcolor": "#E5ECF6",
           "radialaxis": {
            "gridcolor": "white",
            "linecolor": "white",
            "ticks": ""
           }
          },
          "scene": {
           "xaxis": {
            "backgroundcolor": "#E5ECF6",
            "gridcolor": "white",
            "gridwidth": 2,
            "linecolor": "white",
            "showbackground": true,
            "ticks": "",
            "zerolinecolor": "white"
           },
           "yaxis": {
            "backgroundcolor": "#E5ECF6",
            "gridcolor": "white",
            "gridwidth": 2,
            "linecolor": "white",
            "showbackground": true,
            "ticks": "",
            "zerolinecolor": "white"
           },
           "zaxis": {
            "backgroundcolor": "#E5ECF6",
            "gridcolor": "white",
            "gridwidth": 2,
            "linecolor": "white",
            "showbackground": true,
            "ticks": "",
            "zerolinecolor": "white"
           }
          },
          "shapedefaults": {
           "line": {
            "color": "#2a3f5f"
           }
          },
          "ternary": {
           "aaxis": {
            "gridcolor": "white",
            "linecolor": "white",
            "ticks": ""
           },
           "baxis": {
            "gridcolor": "white",
            "linecolor": "white",
            "ticks": ""
           },
           "bgcolor": "#E5ECF6",
           "caxis": {
            "gridcolor": "white",
            "linecolor": "white",
            "ticks": ""
           }
          },
          "title": {
           "x": 0.05
          },
          "xaxis": {
           "automargin": true,
           "gridcolor": "white",
           "linecolor": "white",
           "ticks": "",
           "title": {
            "standoff": 15
           },
           "zerolinecolor": "white",
           "zerolinewidth": 2
          },
          "yaxis": {
           "automargin": true,
           "gridcolor": "white",
           "linecolor": "white",
           "ticks": "",
           "title": {
            "standoff": 15
           },
           "zerolinecolor": "white",
           "zerolinewidth": 2
          }
         }
        },
        "width": 800
       }
      }
     },
     "metadata": {},
     "output_type": "display_data"
    }
   ],
   "source": [
    "# Group  by county and side\n",
    "ozone_by_region = df.groupby(['County',\n",
    "                              'Site ID',\n",
    "                              'Local Site Name',\n",
    "                              'Site Latitude',\n",
    "                              'Site Longitude'\n",
    "                            ]).agg(\n",
    "                                Avg_Ozone_Reading=(\n",
    "                                    'Daily Max 8-hour Ozone Concentration',\n",
    "                                    'mean'\n",
    "                                    )\n",
    "                                ).reset_index()\n",
    "\n",
    "fig = px.scatter_map(\n",
    "    ozone_by_region,\n",
    "    lat=\"Site Latitude\",\n",
    "    lon=\"Site Longitude\",\n",
    "    color=\"Avg_Ozone_Reading\",  # Color by ozone levels\n",
    "    color_continuous_scale=\"YlOrRd\",  # Yellow-Orange-Red: good for pollution data\n",
    "    center={\"lat\": 36.7783, \"lon\": -119.4179},  # California center\n",
    "    width=800,\n",
    "    height=600,\n",
    "    hover_data=[\n",
    "        \"County\",\n",
    "        \"Site ID\",\n",
    "        \"Local Site Name\",\n",
    "        \"Avg_Ozone_Reading\"\n",
    "    ]\n",
    ")\n",
    "\n",
    "fig.update_layout(mapbox_style=\"open-street-map\")\n",
    "fig.show()\n"
   ]
  },
  {
   "cell_type": "code",
   "execution_count": 21,
   "id": "be68ee51",
   "metadata": {},
   "outputs": [
    {
     "data": {
      "image/png": "[encoded data removed]",
      "text/plain": [
       "<Figure size 1303.24x1200 with 5 Axes>"
      ]
     },
     "metadata": {},
     "output_type": "display_data"
    }
   ],
   "source": [
    "# To show difference in readings by method code of top 5 counties\n",
    "monthly = (\n",
    "    df[df['County'].isin(top_5['County'].to_list())]\n",
    "    .assign(Date=pd.to_datetime(df[\"Date\"]))  # Ensure datetime\n",
    "    .groupby([\"Date\", \"County\", \"Method Code\"])[\"Daily Max 8-hour Ozone Concentration\"]\n",
    "    .mean()\n",
    "    .reset_index(name=\"Avg_Ozone_Reading\")\n",
    "    .set_index(\"Date\")\n",
    "    .groupby([\"County\", \"Method Code\"])\n",
    "    .resample(\"ME\")  # Month-End\n",
    "    .mean()\n",
    "    .reset_index()\n",
    "    .assign(Month=lambda d: d[\"Date\"].dt.strftime(\"%b\"))  # Get month name\n",
    "    .drop(columns=\"Date\")\n",
    ")\n",
    "\n",
    "\n",
    "# Create a FacetGrid: 2 rows x 3 columns by County\n",
    "g = sns.FacetGrid(\n",
    "    data=monthly, \n",
    "    col=\"County\", \n",
    "    col_wrap=2,  \n",
    "    height=4, \n",
    "    aspect=1.5, \n",
    "    sharey=True,\n",
    "    hue='Method Code',\n",
    "    palette='tab10'\n",
    ")\n",
    "\n",
    "# Map lineplot to each subplot, colored by Method Code\n",
    "g.map_dataframe(\n",
    "    sns.lineplot, \n",
    "    x=\"Month\", \n",
    "    y=\"Avg_Ozone_Reading\"\n",
    ")\n",
    "\n",
    "# Add a single legend for the entire plot\n",
    "g.add_legend(title=\"Method Code\")\n",
    "\n",
    "\n",
    "plt.show()"
   ]
  },
  {
   "cell_type": "markdown",
   "id": "2c368664",
   "metadata": {},
   "source": [
    "### Does urban activity (weekend vs. weekday) has any affect on ozone levels"
   ]
  },
  {
   "cell_type": "code",
   "execution_count": 22,
   "id": "1948e6e4",
   "metadata": {},
   "outputs": [
    {
     "data": {
      "image/png": "[encoded data removed]",
      "text/plain": [
       "<Figure size 640x480 with 1 Axes>"
      ]
     },
     "metadata": {},
     "output_type": "display_data"
    }
   ],
   "source": [
    "# Create weekend/weekday label\n",
    "df['Day Type'] = df['Date'].dt.weekday\\\n",
    "    .map(lambda x: \"Weekend\" if x >= 5 else \"Weekday\")\n",
    "\n",
    "# Avg ozone levels by day type\n",
    "avg_ozone_by_daytype = (\n",
    "    df.groupby([\"Day Type\"])[\"Daily Max 8-hour Ozone Concentration\"]\n",
    "    .mean()\n",
    "    .reset_index()\n",
    "    .rename(columns={\"Daily Max 8-hour Ozone Concentration\": \"Avg_Ozone_Reading\"})\n",
    ")\n",
    "\n",
    "avg_ozone_by_daytype.plot(\n",
    "    x='Day Type',\n",
    "    y='Avg_Ozone_Reading',\n",
    "    kind='bar'\n",
    ")\n",
    "plt.xticks(rotation=0);"
   ]
  },
  {
   "cell_type": "code",
   "execution_count": 23,
   "id": "408b9769",
   "metadata": {},
   "outputs": [
    {
     "data": {
      "image/png": "[encoded data removed]",
      "text/plain": [
       "<Figure size 640x480 with 1 Axes>"
      ]
     },
     "metadata": {},
     "output_type": "display_data"
    }
   ],
   "source": [
    "# Avg Ozone levels by day type for top 5 counties\n",
    "top_5_by_daytype = (\n",
    "    df[df['County'].isin(top_5['County'].to_list())]\n",
    "    .groupby([\"County\", \"Day Type\"])[\"Daily Max 8-hour Ozone Concentration\"]\n",
    "    .mean()\n",
    "    .reset_index()\n",
    "    .rename(columns={\"Daily Max 8-hour Ozone Concentration\": \"Avg_Ozone_Reading\"})\n",
    ")\n",
    "\n",
    "sns.barplot(\n",
    "    data=top_5_by_daytype,\n",
    "    y='County',\n",
    "    x='Avg_Ozone_Reading',\n",
    "    hue='Day Type'\n",
    ")\n",
    "plt.legend(title='Day Type', loc='upper left');"
   ]
  },
  {
   "cell_type": "code",
   "execution_count": 29,
   "id": "bd97a383",
   "metadata": {},
   "outputs": [
    {
     "data": {
      "text/html": [
       "<div style=\"width:100%;\"><div style=\"position:relative;width:100%;height:0;padding-bottom:60%;\"><span style=\"color:#565656\">Make this Notebook Trusted to load map: File -> Trust Notebook</span><iframe srcdoc=\"&lt;!DOCTYPE html&gt;\n",
       "&lt;html&gt;\n",
       "&lt;head&gt;\n",
       "    \n",
       "    &lt;meta http-equiv=&quot;content-type&quot; content=&quot;text/html; charset=UTF-8&quot; /&gt;\n",
       "    &lt;script src=&quot;https://cdn.jsdelivr.net/npm/leaflet@1.9.3/dist/leaflet.js&quot;&gt;&lt;/script&gt;\n",
       "    &lt;script src=&quot;https://code.jquery.com/jquery-3.7.1.min.js&quot;&gt;&lt;/script&gt;\n",
       "    &lt;script src=&quot;https://cdn.jsdelivr.net/npm/bootstrap@5.2.2/dist/js/bootstrap.bundle.min.js&quot;&gt;&lt;/script&gt;\n",
       "    &lt;script src=&quot;https://cdnjs.cloudflare.com/ajax/libs/Leaflet.awesome-markers/2.0.2/leaflet.awesome-markers.js&quot;&gt;&lt;/script&gt;\n",
       "    &lt;link rel=&quot;stylesheet&quot; href=&quot;https://cdn.jsdelivr.net/npm/leaflet@1.9.3/dist/leaflet.css&quot;/&gt;\n",
       "    &lt;link rel=&quot;stylesheet&quot; href=&quot;https://cdn.jsdelivr.net/npm/bootstrap@5.2.2/dist/css/bootstrap.min.css&quot;/&gt;\n",
       "    &lt;link rel=&quot;stylesheet&quot; href=&quot;https://netdna.bootstrapcdn.com/bootstrap/3.0.0/css/bootstrap-glyphicons.css&quot;/&gt;\n",
       "    &lt;link rel=&quot;stylesheet&quot; href=&quot;https://cdn.jsdelivr.net/npm/@fortawesome/fontawesome-free@6.2.0/css/all.min.css&quot;/&gt;\n",
       "    &lt;link rel=&quot;stylesheet&quot; href=&quot;https://cdnjs.cloudflare.com/ajax/libs/Leaflet.awesome-markers/2.0.2/leaflet.awesome-markers.css&quot;/&gt;\n",
       "    &lt;link rel=&quot;stylesheet&quot; href=&quot;https://cdn.jsdelivr.net/gh/python-visualization/folium/folium/templates/leaflet.awesome.rotate.min.css&quot;/&gt;\n",
       "    \n",
       "            &lt;meta name=&quot;viewport&quot; content=&quot;width=device-width,\n",
       "                initial-scale=1.0, maximum-scale=1.0, user-scalable=no&quot; /&gt;\n",
       "            &lt;style&gt;\n",
       "                #map_5de471605badc4673a22901bfc60b9cf {\n",
       "                    position: relative;\n",
       "                    width: 100.0%;\n",
       "                    height: 100.0%;\n",
       "                    left: 0.0%;\n",
       "                    top: 0.0%;\n",
       "                }\n",
       "                .leaflet-container { font-size: 1rem; }\n",
       "            &lt;/style&gt;\n",
       "\n",
       "            &lt;style&gt;html, body {\n",
       "                width: 100%;\n",
       "                height: 100%;\n",
       "                margin: 0;\n",
       "                padding: 0;\n",
       "            }\n",
       "            &lt;/style&gt;\n",
       "\n",
       "            &lt;style&gt;#map {\n",
       "                position:absolute;\n",
       "                top:0;\n",
       "                bottom:0;\n",
       "                right:0;\n",
       "                left:0;\n",
       "                }\n",
       "            &lt;/style&gt;\n",
       "\n",
       "            &lt;script&gt;\n",
       "                L_NO_TOUCH = false;\n",
       "                L_DISABLE_3D = false;\n",
       "            &lt;/script&gt;\n",
       "\n",
       "        \n",
       "    &lt;script src=&quot;https://cdn.jsdelivr.net/gh/python-visualization/folium@main/folium/templates/leaflet_heat.min.js&quot;&gt;&lt;/script&gt;\n",
       "&lt;/head&gt;\n",
       "&lt;body&gt;\n",
       "    \n",
       "    \n",
       "            &lt;div class=&quot;folium-map&quot; id=&quot;map_5de471605badc4673a22901bfc60b9cf&quot; &gt;&lt;/div&gt;\n",
       "        \n",
       "&lt;/body&gt;\n",
       "&lt;script&gt;\n",
       "    \n",
       "    \n",
       "            var map_5de471605badc4673a22901bfc60b9cf = L.map(\n",
       "                &quot;map_5de471605badc4673a22901bfc60b9cf&quot;,\n",
       "                {\n",
       "                    center: [36.7783, -119.4179],\n",
       "                    crs: L.CRS.EPSG3857,\n",
       "                    ...{\n",
       "  &quot;zoom&quot;: 6,\n",
       "  &quot;zoomControl&quot;: true,\n",
       "  &quot;preferCanvas&quot;: false,\n",
       "}\n",
       "\n",
       "                }\n",
       "            );\n",
       "\n",
       "            \n",
       "\n",
       "        \n",
       "    \n",
       "            var tile_layer_baf7fb82716df23df8a5bc9e99b99d73 = L.tileLayer(\n",
       "                &quot;https://tile.openstreetmap.org/{z}/{x}/{y}.png&quot;,\n",
       "                {\n",
       "  &quot;minZoom&quot;: 0,\n",
       "  &quot;maxZoom&quot;: 19,\n",
       "  &quot;maxNativeZoom&quot;: 19,\n",
       "  &quot;noWrap&quot;: false,\n",
       "  &quot;attribution&quot;: &quot;\\u0026copy; \\u003ca href=\\&quot;https://www.openstreetmap.org/copyright\\&quot;\\u003eOpenStreetMap\\u003c/a\\u003e contributors&quot;,\n",
       "  &quot;subdomains&quot;: &quot;abc&quot;,\n",
       "  &quot;detectRetina&quot;: false,\n",
       "  &quot;tms&quot;: false,\n",
       "  &quot;opacity&quot;: 1,\n",
       "}\n",
       "\n",
       "            );\n",
       "        \n",
       "    \n",
       "            tile_layer_baf7fb82716df23df8a5bc9e99b99d73.addTo(map_5de471605badc4673a22901bfc60b9cf);\n",
       "        \n",
       "    \n",
       "            var heat_map_6ccc803c982390692f0c8e452519e026 = L.heatLayer(\n",
       "                [[32.578165, -116.921374, 0.046159010600706714], [32.6312420008573, -117.059088, 0.0431859649122807], [32.67618, -115.48307, 0.05023389830508475], [32.7101770008584, -117.142665, 0.041183673469387755], [32.725189, -116.36441, 0.05128174603174603], [32.7895650008594, -116.944308, 0.048053191489361706], [32.79222, -115.56306, 0.05068095238095238], [32.8423180008601, -116.768293, 0.05381978798586572], [32.8457090008602, -117.123964, 0.04531095406360424], [33.0325, -115.62361, 0.048413194444444446], [33.213611, -115.54528, 0.05149723756906077], [33.217046, -117.396249, 0.04245692883895131], [33.3625928342781, -117.090229999878, 0.031163701067615658], [33.4478670008682, -117.088649, 0.0491685393258427], [33.5830180008699, -117.072202, 0.047815972222222225], [33.61235, -114.60209, 0.0405171102661597], [33.67649, -117.33098, 0.0520140350877193], [33.72537, -116.206842, 0.051923875432525954], [33.747236000872, -115.820124, 0.05019272727272728], [33.7937130008725, -118.171019, 0.03977419354838709], [33.83062, -117.93845, 0.03719655172413793], [33.85275, -116.54101, 0.05448965517241379], [33.9013890008739, -118.205, 0.041014440433213], [33.92086, -116.85841, 0.056641638225255975], [33.92513, -117.95264, 0.04538078291814947], [33.9447129, -116.830074, 0.05863888888888889], [33.996360000875, -117.4924, 0.055399317406143345], [33.9995800008751, -117.41601, 0.058118644067796606], [34.0102900008752, -118.0685, 0.045503649635036496], [34.05111, -118.45636, 0.04025287356321839], [34.05977, -117.14731, 0.059052631578947364], [34.0665900008759, -118.22688, 0.04391489361702128], [34.06703, -117.7514, 0.0519288256227758], [34.06957, -116.38893, 0.05555147058823529], [34.10002, -117.49201, 0.05405882352941176], [34.1066780008763, -117.274063, 0.05788652482269504], [34.1326, -118.1272, 0.05129304029304029], [34.14435, -117.85036, 0.056492592592592594], [34.1819770008773, -118.363036, 0.05021276595744681], [34.19925, -118.53276, 0.05122614840989399], [34.210169, -118.870509, 0.044417910447761194], [34.2431, -117.27235, 0.05971527777777778], [34.25239, -119.143182, 0.038341216216216216], [34.276316, -118.683685, 0.04921201413427562], [34.38344, -118.5284, 0.056546075085324235], [34.40305200088, -119.457914, 0.02081785714285714], [34.404281, -118.80998, 0.044914590747330965], [34.41651, -117.28563, 0.05531578947368421], [34.4277749961254, -119.691217778642, 0.03087279151943463], [34.4455100008805, -119.8284, 0.034494584837545125], [34.44806, -119.2313, 0.04368965517241379], [34.489740000881, -120.04692, 0.03735036496350365], [34.5109611108812, -117.32554, 0.054855670103092787], [34.5416600008816, -119.79146, 0.04261904761904762], [34.605819, -120.075069, 0.03635483870967742], [34.6378200008827, -120.4575, 0.03423046875], [34.7253520008837, -120.428717, 0.03128571428571429], [34.725389, -118.178601, 0.05328813559322034], [34.8906666667, -120.4328444444, 0.03249819494584838], [34.89405, -117.02471, 0.05177133105802048], [35.03146, -120.50103, 0.03545787545787546], [35.04944, -118.18893, 0.05053571428571429], [35.051454, -119.40262, 0.04675789473684211], [35.23918, -118.78863, 0.051054263565891475], [35.331612, -118.999961, 0.04674621212121212], [35.345607, -118.851825, 0.05292418772563177], [35.35472, -120.04019, 0.04552397260273972], [35.356615, -119.062613, 0.048112676056338025], [35.361589, -120.836819, 0.03502877697841726], [35.438035, -119.016787, 0.049975], [35.49453, -120.66617, 0.037295774647887324], [35.5035870931035, -119.272606218402, 0.04616666666666667], [35.614668, -120.656912, 0.03898239436619718], [35.64368, -120.23135, 0.04770629370629371], [35.77446, -117.3721, 0.04911832061068702], [36.0318310008979, -119.055018, 0.048871886120996445], [36.2092860008996, -121.126371, 0.037722033898305085], [36.30815, -119.3129, 0.04903886925795053], [36.31567, -119.643447, 0.04551320754716981], [36.4818700009023, -121.73333, 0.03401038062283737], [36.48324, -121.15688, 0.04265248226950355], [36.48947, -118.82915, 0.05267910447761194], [36.508611, -116.847778, 0.050508833922261485], [36.5661280009031, -118.7777, 0.06058045977011495], [36.597442, -119.503659, 0.048744604316546765], [36.6342250009037, -120.382331, 0.04177007299270073], [36.6942610009043, -121.623271, 0.03455639097744361], [36.705474, -119.741332, 0.045118466898954705], [36.78538, -119.77321, 0.03986909090909091], [36.819449, -119.716433, 0.04843661971830986], [36.841592, -119.874739, 0.04548745519713262], [36.8434250009057, -121.3621, 0.036650735294117644], [36.867125, -120.010158, 0.04497535211267605], [36.953256, -120.034203, 0.04543877551020408], [36.983320000907, -121.98822, 0.034273972602739726], [36.9851185574381, -119.658339349936, 0.05027430555555555], [36.999571, -121.574684, 0.035781553398058254], [37.079379, -121.600031, 0.04052348993288591], [37.226862, -121.979675, 0.03764754098360656], [37.281853, -120.433671, 0.025833333333333333], [37.289732, -120.429718, 0.047136690647482014], [37.348497, -121.894898, 0.034855555555555556], [37.360684, -118.330783, 0.043522336769759445], [37.3621369693511, -118.417477920338, 0.039699551569506726], [37.482934, -122.20337, 0.031751824817518245], [37.488317, -120.836008, 0.04615107913669065], [37.54377, -119.83957, 0.04730538922155689], [37.642165, -120.994212, 0.042412186379928316], [37.654456, -122.031547, 0.03578735632183908], [37.682635, -121.442495, 0.038660516605166055], [37.687526, -121.784217, 0.029222222222222222], [37.68975, -121.77155, 0.03775471698113208], [37.71325, -119.7062, 0.048625429553264606], [37.743065, -122.169935, 0.03080708661417323], [37.743649, -121.934188, 0.037029850746268654], [37.765946, -122.399044, 0.028128301886792453], [37.814781, -122.282347, 0.029968858131487888], [37.8647670009145, -122.302741, 0.025284946236559143], [37.936013, -122.026154, 0.03375438596491228], [37.9604, -122.356811, 0.031209523809523812], [37.961578, -121.281414, 0.037875], [37.97231, -122.520004, 0.03213937282229965], [37.98178, -120.378551, 0.044023411371237456], [38.006311, -121.641918, 0.038922727272727276], [38.102507, -122.237976, 0.03478423236514523], [38.20185, -120.680277, 0.043555147058823525], [38.227066, -122.075624, 0.03415525114155251], [38.302591, -121.420838, 0.026799242424242423], [38.342606, -120.764426, 0.04376736111111111], [38.35655, -121.94986, 0.03812671232876712], [38.403765, -122.818294, 0.030186046511627908], [38.494475, -121.211131, 0.03588214285714286], [38.53445, -121.7734, 0.0401067615658363], [38.56844, -121.49311, 0.040125], [38.6137790009202, -121.368014, 0.0449409594095941], [38.66121, -121.73269, 0.04093189964157706], [38.683304, -121.164457, 0.036896296296296295], [38.73196, -120.81162, 0.04334470989761092], [38.74643, -121.26498, 0.043838129496402874], [38.81161, -120.033084, 0.052115107913669065], [38.867937000922, -121.338353, 0.03767368421052632], [38.8909406523369, -121.003373318606, 0.05174850299401197], [38.93568, -121.09959, 0.0448122866894198], [39.0189300009231, -122.91333, 0.03454063604240283], [39.100174496, -120.953831711, 0.04300359712230216], [39.1252758, -123.2024482, 0.03021212121212121], [39.1387725442464, -121.618548986224, 0.04115384615384615], [39.14566, -123.20298, 0.033219424460431655], [39.1660166666667, -120.148833333333, 0.04469611307420494], [39.18919, -121.99887, 0.0399859649122807], [39.2055720009243, -121.820362, 0.05201149425287357], [39.2334770009245, -121.055608, 0.043007017543859646], [39.53387, -122.190834, 0.03948754448398577], [39.75786, -121.60791, 0.043293233082706765], [39.76168, -121.84047, 0.0427923875432526], [40.17093, -122.25556, 0.03353472222222222], [40.262072, -122.092766, 0.05092737430167597], [40.53999, -121.57646, 0.044023923444976076], [40.550130000932, -122.38092, 0.04111787072243346], [40.6892525425033, -122.402194175431, 0.04139426523297491], [40.7767800009332, -124.17949, 0.032011406844106464], [41.726892, -122.633579, 0.040294964028776976]],\n",
       "                {\n",
       "  &quot;minOpacity&quot;: 0.5,\n",
       "  &quot;maxZoom&quot;: 10,\n",
       "  &quot;radius&quot;: 15,\n",
       "  &quot;blur&quot;: 10,\n",
       "}\n",
       "            );\n",
       "        \n",
       "    \n",
       "            heat_map_6ccc803c982390692f0c8e452519e026.addTo(map_5de471605badc4673a22901bfc60b9cf);\n",
       "        \n",
       "&lt;/script&gt;\n",
       "&lt;/html&gt;\" style=\"position:absolute;width:100%;height:100%;left:0;top:0;border:none !important;\" allowfullscreen webkitallowfullscreen mozallowfullscreen></iframe></div></div>"
      ],
      "text/plain": [
       "<folium.folium.Map at 0x71a2d0ccc080>"
      ]
     },
     "metadata": {},
     "output_type": "display_data"
    }
   ],
   "source": [
    "# Plot heatmap\n",
    "# Create base map centered on California\n",
    "m = folium.Map(location=[36.7783, -119.4179], zoom_start=6)\n",
    "\n",
    "# Prepare data\n",
    "heat_df = (\n",
    "    df.groupby([\"Site Latitude\", \"Site Longitude\"])\n",
    "    [\"Daily Max 8-hour Ozone Concentration\"]\n",
    "    .mean()\n",
    "    .reset_index()\n",
    "    .rename(columns={\"Daily Max 8-hour Ozone Concentration\": \"Avg_Ozone_Reading\"})\n",
    ")\n",
    "\n",
    "heat_data = heat_df[['Site Latitude','Site Longitude','Avg_Ozone_Reading']].values.tolist()\n",
    "\n",
    "# Add heatmap layer\n",
    "HeatMap(heat_data, radius=15, blur=10, max_zoom=10).add_to(m)\n",
    "\n",
    "display(m)"
   ]
  },
  {
   "cell_type": "code",
   "execution_count": 25,
   "id": "fead9f18",
   "metadata": {},
   "outputs": [
    {
     "data": {
      "text/plain": [
       "Timestamp('2024-12-31 00:00:00')"
      ]
     },
     "execution_count": 25,
     "metadata": {},
     "output_type": "execute_result"
    }
   ],
   "source": [
    "df['Date'].max()"
   ]
  },
  {
   "cell_type": "code",
   "execution_count": 26,
   "id": "88325b3c",
   "metadata": {},
   "outputs": [
    {
     "data": {
      "text/plain": [
       "Index(['Date', 'Source', 'Site ID', 'POC',\n",
       "       'Daily Max 8-hour Ozone Concentration', 'Units', 'Daily AQI Value',\n",
       "       'Local Site Name', 'Daily Obs Count', 'Percent Complete', 'Method Code',\n",
       "       'CBSA Code', 'CBSA Name', 'County FIPS Code', 'County', 'Site Latitude',\n",
       "       'Site Longitude', 'Day Type'],\n",
       "      dtype='object')"
      ]
     },
     "execution_count": 26,
     "metadata": {},
     "output_type": "execute_result"
    }
   ],
   "source": [
    "df.columns"
   ]
  }
 ],
 "metadata": {
  "kernelspec": {
   "display_name": "Python 3",
   "language": "python",
   "name": "python3"
  },
  "language_info": {
   "codemirror_mode": {
    "name": "ipython",
    "version": 3
   },
   "file_extension": ".py",
   "mimetype": "text/x-python",
   "name": "python",
   "nbconvert_exporter": "python",
   "pygments_lexer": "ipython3",
   "version": "3.12.1"
  }
 },
 "nbformat": 4,
 "nbformat_minor": 5
}
